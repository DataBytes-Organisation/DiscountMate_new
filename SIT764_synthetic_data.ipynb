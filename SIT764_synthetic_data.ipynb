{
 "cells": [
  {
   "cell_type": "code",
   "execution_count": 1,
   "metadata": {},
   "outputs": [],
   "source": [
    "from random import randint \n",
    "import pandas as pd "
   ]
  },
  {
   "cell_type": "code",
   "execution_count": 2,
   "metadata": {},
   "outputs": [],
   "source": [
    "def input_data(x):\n",
    "  data = pd.DataFrame()\n",
    "  grocery_items = ['Chicken', 'Eggs', 'Strawberries', 'Avocado', 'Milk', 'Cereal', 'Ice Cream', 'Chips', 'Shampoo', 'Toilet Paper', 'Grapes', 'Soda', 'Laundry Detergent', 'Cucumber', 'Yogurt', 'Pork', 'Spinach', 'Dog Food', 'Bread', 'Cookies']\n",
    "\n",
    "  # Generate random 10-digit IDs as strings\n",
    "  ids = [str(randint(1000000000, 9999999999)) for _ in range(x)]\n",
    "\n",
    "  # Create DataFrame with grocery item columns as integer type\n",
    "  data = pd.DataFrame({\n",
    "      'id': [str(randint(1000000000, 9999999999)) for _ in range(x)],\n",
    "      **{item: 'int' for item in grocery_items}  # Dictionary comprehension for column types\n",
    "  })\n",
    "\n",
    "  # Fill the DataFrame with random whole numbers for grocery items\n",
    "  for i in range(x):\n",
    "    for item in grocery_items:\n",
    "      data.loc[i, item] = randint(0, 5)  \n",
    "\n",
    "  return data\n",
    "\n",
    "data = input_data(20000)\n",
    "\n"
   ]
  },
  {
   "cell_type": "code",
   "execution_count": 3,
   "metadata": {},
   "outputs": [],
   "source": [
    "# Exporting data to csv file\n",
    "data.to_csv(r\"C:\\Users\\robin\\Downloads\\Subjects Y2T1\\SIT764\\Grocery_data.csv\", index=False)"
   ]
  }
 ],
 "metadata": {
  "kernelspec": {
   "display_name": "Python 3",
   "language": "python",
   "name": "python3"
  },
  "language_info": {
   "codemirror_mode": {
    "name": "ipython",
    "version": 3
   },
   "file_extension": ".py",
   "mimetype": "text/x-python",
   "name": "python",
   "nbconvert_exporter": "python",
   "pygments_lexer": "ipython3",
   "version": "3.11.4"
  }
 },
 "nbformat": 4,
 "nbformat_minor": 2
}
