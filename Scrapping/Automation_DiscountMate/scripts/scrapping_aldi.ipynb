{
 "cells": [
  {
   "cell_type": "code",
   "execution_count": null,
   "id": "c5efbca0",
   "metadata": {
    "vscode": {
     "languageId": "plaintext"
    }
   },
   "outputs": [],
   "source": [
    "import time\n",
    "\n",
    "def scrape_aldi():\n",
    "    print(\"Scraping ALDI...\")\n",
    "    time.sleep(2)\n",
    "    print(\"Finished scraping ALDI.\")\n",
    "\n",
    "if __name__ == \"__main__\":\n",
    "    scrape_aldi()"
   ]
  }
 ],
 "metadata": {
  "language_info": {
   "name": "python"
  }
 },
 "nbformat": 4,
 "nbformat_minor": 5
}
