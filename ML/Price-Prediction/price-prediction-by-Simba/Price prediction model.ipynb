{
  "cells": [
    {
      "cell_type": "code",
      "execution_count": null,
      "metadata": {
        "id": "3qUacIOgteal"
      },
      "outputs": [],
      "source": [
        "import pandas as pd\n",
        "import numpy as np\n",
        "import matplotlib.pyplot as plt\n",
        "import seaborn as sns\n",
        "from sklearn.model_selection import train_test_split, GridSearchCV\n",
        "from sklearn.metrics import mean_squared_error, mean_absolute_error\n",
        "from sklearn.model_selection import cross_val_score\n",
        "from surprise import Dataset, Reader, SVD\n",
        "from surprise.model_selection import cross_validate\n",
        "from zipfile import ZipFile\n",
        "from xgboost import XGBRegressor\n",
        "import os"
      ]
    },
    {
      "cell_type": "code",
      "execution_count": null,
      "metadata": {
        "id": "O1295U47teal"
      },
      "outputs": [],
      "source": [
        "# Load the dataset\n",
        "orders = pd.read_csv('/content/orders.csv')\n",
        "order_products_prior = pd.read_csv('/content/order_products__prior.csv')\n",
        "products = pd.read_csv('/content/products.csv')\n",
        "aisles = pd.read_csv('/content/aisles.csv')\n",
        "departments = pd.read_csv('/content/departments.csv')\n",
        "\n",
        "# Merge product details into the orders\n",
        "products = pd.merge(products, aisles, on='aisle_id', how='left')\n",
        "products = pd.merge(products, departments, on='department_id', how='left')\n",
        "order_products = pd.merge(order_products_prior, orders, on='order_id', how='left')\n",
        "order_products = pd.merge(order_products, products, on='product_id', how='left')\n",
        "\n",
        "# Handle missing values\n",
        "order_products.fillna(0, inplace=True)\n",
        "\n"
      ]
    },
    {
      "cell_type": "code",
      "execution_count": null,
      "metadata": {
        "id": "BuEptIXpteam"
      },
      "outputs": [],
      "source": [
        "# Feature Engineering: Create new features\n",
        "order_products['days_since_prior_order'].fillna(0, inplace=True)\n",
        "order_products['user_total_orders'] = order_products.groupby('user_id')['order_number'].transform('max')\n",
        "order_products['user_avg_days_since_prior'] = order_products.groupby('user_id')['days_since_prior_order'].transform('mean')\n",
        "order_products['user_avg_order_size'] = order_products.groupby('user_id')['add_to_cart_order'].transform('mean')\n",
        "\n",
        "# Reorder rate per product\n",
        "product_reorder_rate = order_products.groupby('product_id')['reordered'].mean().reset_index()\n",
        "product_reorder_rate.columns = ['product_id', 'product_reorder_rate']\n",
        "order_products = pd.merge(order_products, product_reorder_rate, on='product_id', how='left')\n"
      ]
    },
    {
      "cell_type": "code",
      "execution_count": null,
      "metadata": {
        "id": "XqU4Fua5team",
        "outputId": "b7e37b85-5a61-4d56-c19a-1914842b7c7d"
      },
      "outputs": [
        {
          "name": "stdout",
          "output_type": "stream",
          "text": [
            "MSE: 0.18893694275234443\n",
            "MAE: 0.37791376293099094\n"
          ]
        }
      ],
      "source": [
        "from sklearn.tree import DecisionTreeRegressor\n",
        "from sklearn.metrics import mean_squared_error, mean_absolute_error\n",
        "\n",
        "# Initialize the Decision Tree model\n",
        "features = ['order_dow', 'order_hour_of_day', 'days_since_prior_order',\n",
        "            'user_total_orders', 'user_avg_days_since_prior',\n",
        "            'user_avg_order_size', 'product_reorder_rate']\n",
        "\n",
        "X = order_products[features]\n",
        "y = order_products['reordered']\n",
        "\n",
        "# Split the data\n",
        "X_train, X_test, y_train, y_test = train_test_split(X, y, test_size=0.2, random_state=42)\n",
        "dt_model = DecisionTreeRegressor(max_depth=6, random_state=42)\n",
        "\n",
        "# Train the model\n",
        "dt_model.fit(X_train, y_train)\n",
        "\n",
        "# Make predictions\n",
        "y_pred = dt_model.predict(X_test)\n",
        "\n",
        "# Evaluate the model\n",
        "mse = mean_squared_error(y_test, y_pred)\n",
        "mae = mean_absolute_error(y_test, y_pred)\n",
        "\n",
        "print(f'MSE: {mse}')\n",
        "print(f'MAE: {mae}')\n"
      ]
    },
    {
      "cell_type": "code",
      "execution_count": null,
      "metadata": {
        "id": "cnDziLeYteam",
        "outputId": "5602bd23-b396-4791-92fd-ae17d6cf982f"
      },
      "outputs": [
        {
          "name": "stdout",
          "output_type": "stream",
          "text": [
            "MSE: 0.18893694275234443\n",
            "MAE: 0.37791376293099094\n",
            "Predicted Price: 0.10408032383303566, Actual Price: 0\n",
            "Predicted Price: 0.7246383005264654, Actual Price: 0\n",
            "Predicted Price: 0.8483305617597058, Actual Price: 0\n",
            "Predicted Price: 0.8539016082875526, Actual Price: 1\n",
            "Predicted Price: 0.13596634388713597, Actual Price: 0\n",
            "Predicted Price: 0.7655917088704033, Actual Price: 1\n",
            "Predicted Price: 0.9160089254720145, Actual Price: 1\n",
            "Predicted Price: 0.7313162573676394, Actual Price: 1\n",
            "Predicted Price: 0.5710439148838874, Actual Price: 1\n",
            "Predicted Price: 0.7655917088704033, Actual Price: 1\n"
          ]
        }
      ],
      "source": [
        "from sklearn.tree import DecisionTreeRegressor\n",
        "from sklearn.metrics import mean_squared_error, mean_absolute_error\n",
        "from sklearn.model_selection import train_test_split\n",
        "\n",
        "# Initialize the Decision Tree model\n",
        "features = ['order_dow', 'order_hour_of_day', 'days_since_prior_order',\n",
        "            'user_total_orders', 'user_avg_days_since_prior',\n",
        "            'user_avg_order_size', 'product_reorder_rate']\n",
        "\n",
        "X = order_products[features]\n",
        "y = order_products['reordered']\n",
        "\n",
        "# Split the data\n",
        "X_train, X_test, y_train, y_test = train_test_split(X, y, test_size=0.2, random_state=42)\n",
        "dt_model = DecisionTreeRegressor(max_depth=6, random_state=42)\n",
        "\n",
        "# Train the model\n",
        "dt_model.fit(X_train, y_train)\n",
        "\n",
        "# Make predictions\n",
        "y_pred = dt_model.predict(X_test)\n",
        "\n",
        "# Evaluate the model\n",
        "mse = mean_squared_error(y_test, y_pred)\n",
        "mae = mean_absolute_error(y_test, y_pred)\n",
        "\n",
        "print(f'MSE: {mse}')\n",
        "print(f'MAE: {mae}')\n",
        "\n",
        "# Print some predicted prices (assuming prices are the predicted values)\n",
        "predicted_prices = y_pred  # Replace with actual price prediction array\n",
        "actual_prices = y_test.values  # Actual prices from the test set\n",
        "\n",
        "# Print or visualize some predicted vs actual prices\n",
        "for i in range(10):  # Print the first 10 predictions for example\n",
        "    print(f'Predicted Price: {predicted_prices[i]}, Actual Price: {actual_prices[i]}')\n"
      ]
    },
    {
      "cell_type": "code",
      "execution_count": null,
      "metadata": {
        "id": "PyfxwqYUtean",
        "outputId": "5d350a9c-b156-45c0-9c01-a8afc0504d4c"
      },
      "outputs": [
        {
          "data": {
            "text/plain": [
              "['price_model.pkl']"
            ]
          },
          "execution_count": 12,
          "metadata": {},
          "output_type": "execute_result"
        }
      ],
      "source": [
        "import joblib\n",
        "\n",
        "# Save the model to a file\n",
        "joblib.dump(dt_model, 'price_model.pkl')\n"
      ]
    },
    {
      "cell_type": "code",
      "execution_count": null,
      "metadata": {
        "id": "Qmyjygfwtean"
      },
      "outputs": [],
      "source": [
        "import joblib\n",
        "\n",
        "# Save the model to a file\n",
        "joblib.dump(dt_model, 'price_recommendation_model.pkl')\n"
      ]
    }
  ],
  "metadata": {
    "kernelspec": {
      "display_name": "Python 3",
      "language": "python",
      "name": "python3"
    },
    "language_info": {
      "codemirror_mode": {
        "name": "ipython",
        "version": 3
      },
      "file_extension": ".py",
      "mimetype": "text/x-python",
      "name": "python",
      "nbconvert_exporter": "python",
      "pygments_lexer": "ipython3",
      "version": "3.10.11"
    },
    "colab": {
      "provenance": []
    }
  },
  "nbformat": 4,
  "nbformat_minor": 0
}