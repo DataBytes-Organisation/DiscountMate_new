{
  "nbformat": 4,
  "nbformat_minor": 0,
  "metadata": {
    "colab": {
      "provenance": []
    },
    "kernelspec": {
      "name": "python3",
      "display_name": "Python 3"
    },
    "language_info": {
      "name": "python"
    }
  },
  "cells": [
    {
      "cell_type": "code",
      "execution_count": null,
      "metadata": {
        "id": "yAceC5Z2szf6"
      },
      "outputs": [],
      "source": [
        "import pandas as pd\n",
        "import numpy as np\n",
        "from sklearn.model_selection import train_test_split, GridSearchCV\n",
        "from sklearn.preprocessing import StandardScaler, MinMaxScaler, RobustScaler, OneHotEncoder\n",
        "from sklearn.compose import ColumnTransformer\n",
        "from sklearn.pipeline import Pipeline\n",
        "from sklearn.metrics import mean_squared_error, mean_absolute_error, r2_score\n",
        "import xgboost as xgb"
      ]
    },
    {
      "cell_type": "code",
      "source": [
        "# importing data\n",
        "data = pd.read_csv(\"/content/Aus_grocery_synthetic_dataset2.csv\")\n",
        "\n",
        "#fill missing values with mean value of the same items\n",
        "mean_prices = data.groupby('Sku')['unit_price_x'].transform('mean')\n",
        "data['unit_price_x'].fillna(mean_prices, inplace=True)\n",
        "data.fillna(method='ffill', inplace=True) #forward fill remaining missing values"
      ],
      "metadata": {
        "colab": {
          "base_uri": "https://localhost:8080/"
        },
        "id": "KTjBsFQntfv9",
        "outputId": "d9137a31-e5cc-47da-cf87-68671d082a34"
      },
      "execution_count": null,
      "outputs": [
        {
          "output_type": "stream",
          "name": "stderr",
          "text": [
            "<ipython-input-6-b5a699e8d748>:6: FutureWarning: A value is trying to be set on a copy of a DataFrame or Series through chained assignment using an inplace method.\n",
            "The behavior will change in pandas 3.0. This inplace method will never work because the intermediate object on which we are setting values always behaves as a copy.\n",
            "\n",
            "For example, when doing 'df[col].method(value, inplace=True)', try using 'df.method({col: value}, inplace=True)' or df[col] = df[col].method(value) instead, to perform the operation inplace on the original object.\n",
            "\n",
            "\n",
            "  data['unit_price_x'].fillna(mean_prices, inplace=True)\n",
            "<ipython-input-6-b5a699e8d748>:7: FutureWarning: DataFrame.fillna with 'method' is deprecated and will raise in a future version. Use obj.ffill() or obj.bfill() instead.\n",
            "  data.fillna(method='ffill', inplace=True) #forward fill remaining missing values\n"
          ]
        }
      ]
    },
    {
      "cell_type": "code",
      "source": [
        "def preprocess(data):\n",
        "  #drop because product name has one to one relationship with sku\n",
        "  data.drop(['Product_Name'], axis=1, inplace = True)\n",
        "\n",
        "  #transform datetime column\n",
        "  # Convert the 'date' column to datetime format\n",
        "  data['RunDate'] = pd.to_datetime(data['RunDate'], format='%m/%d/%Y')\n",
        "  # Extract new features\n",
        "  data['year'] = data['RunDate'].dt.year\n",
        "  data['month'] = data['RunDate'].dt.month\n",
        "  data['day_of_month'] = data['RunDate'].dt.day\n",
        "  data['day_of_week'] = data['RunDate'].dt.dayofweek  # Monday=0, Sunday=6\n",
        "  #drop the old column\n",
        "  data.drop(['RunDate'], axis=1, inplace = True)\n",
        "\n",
        "  # Create lag features for price\n",
        "  data['unit_price_x_lag1'] = data['unit_price_x'].shift(1)\n",
        "  data['unit_price_x_lag2'] = data['unit_price_x'].shift(2)\n",
        "  data['unit_price_x_lag3'] = data['unit_price_x'].shift(3)\n",
        "\n",
        "  # #fill missing lag values with original values\n",
        "  data['unit_price_x_lag1'].fillna(data['unit_price_x'], inplace=True)\n",
        "  data['unit_price_x_lag2'].fillna(data['unit_price_x'], inplace=True)\n",
        "  data['unit_price_x_lag3'].fillna(data['unit_price_x'], inplace=True)\n",
        "\n",
        "  #Scale price features\n",
        "  scaler = RobustScaler()\n",
        "  data[['unit_price_x_lag1', 'unit_price_x_lag2', 'unit_price_x_lag3']] = scaler.fit_transform(data[['unit_price_x_lag1', 'unit_price_x_lag2', 'unit_price_x_lag3']])\n",
        "\n",
        "  #one hot encoding\n",
        "  data = pd.get_dummies(data, columns=['Category', 'Sub_category', 'Product_Group', 'Brand', 'Sku', 'year', 'month', 'day_of_month', 'day_of_week'])\n",
        "\n",
        "  return data\n",
        "\n",
        "data = preprocess(data)"
      ],
      "metadata": {
        "colab": {
          "base_uri": "https://localhost:8080/"
        },
        "id": "XSkgPzpstjKo",
        "outputId": "7099dc7c-c495-4b68-d605-84c45313dcfd",
        "collapsed": true
      },
      "execution_count": null,
      "outputs": [
        {
          "output_type": "stream",
          "name": "stderr",
          "text": [
            "<ipython-input-7-d68edf43b1a7>:22: FutureWarning: A value is trying to be set on a copy of a DataFrame or Series through chained assignment using an inplace method.\n",
            "The behavior will change in pandas 3.0. This inplace method will never work because the intermediate object on which we are setting values always behaves as a copy.\n",
            "\n",
            "For example, when doing 'df[col].method(value, inplace=True)', try using 'df.method({col: value}, inplace=True)' or df[col] = df[col].method(value) instead, to perform the operation inplace on the original object.\n",
            "\n",
            "\n",
            "  data['unit_price_x_lag1'].fillna(data['unit_price_x'], inplace=True)\n",
            "<ipython-input-7-d68edf43b1a7>:23: FutureWarning: A value is trying to be set on a copy of a DataFrame or Series through chained assignment using an inplace method.\n",
            "The behavior will change in pandas 3.0. This inplace method will never work because the intermediate object on which we are setting values always behaves as a copy.\n",
            "\n",
            "For example, when doing 'df[col].method(value, inplace=True)', try using 'df.method({col: value}, inplace=True)' or df[col] = df[col].method(value) instead, to perform the operation inplace on the original object.\n",
            "\n",
            "\n",
            "  data['unit_price_x_lag2'].fillna(data['unit_price_x'], inplace=True)\n",
            "<ipython-input-7-d68edf43b1a7>:24: FutureWarning: A value is trying to be set on a copy of a DataFrame or Series through chained assignment using an inplace method.\n",
            "The behavior will change in pandas 3.0. This inplace method will never work because the intermediate object on which we are setting values always behaves as a copy.\n",
            "\n",
            "For example, when doing 'df[col].method(value, inplace=True)', try using 'df.method({col: value}, inplace=True)' or df[col] = df[col].method(value) instead, to perform the operation inplace on the original object.\n",
            "\n",
            "\n",
            "  data['unit_price_x_lag3'].fillna(data['unit_price_x'], inplace=True)\n"
          ]
        }
      ]
    },
    {
      "cell_type": "code",
      "source": [
        "import xgboost as xgb\n",
        "from sklearn.model_selection import train_test_split\n",
        "\n",
        "# Separating into features and target\n",
        "X = data.drop(['unit_price_x'], axis=1)\n",
        "y = data['unit_price_x']\n",
        "\n",
        "# Train test split\n",
        "X_train, X_test, y_train, y_test = train_test_split(X, y, test_size=0.2, random_state=42)\n",
        "\n",
        "# Parameters for XGBoost\n",
        "params = {\n",
        "    'objective': 'reg:squarederror',  # For regression tasks\n",
        "    'learning_rate': 0.1,  # Step size shrinkage\n",
        "    'max_depth': 6,  # Maximum tree depth\n",
        "    'subsample': 0.8,  # Subsample ratio of training instances\n",
        "    'colsample_bytree': 0.8,  # Subsample ratio of columns when constructing each tree\n",
        "    'random_state': 42,\n",
        "    'eval_metric': 'rmse'  # Evaluation metric for regression\n",
        "}\n",
        "\n",
        "# Convert the test set into DMatrix format\n",
        "dtest = xgb.DMatrix(X_test, label=y_test)\n",
        "\n",
        "# Number of boosting rounds\n",
        "num_boost_round = 100\n",
        "\n",
        "# Initialize the model as None for incremental training\n",
        "bst = None\n",
        "\n",
        "# Batch size\n",
        "batch_size = 1000  # Adjust based on memory\n",
        "\n",
        "# Train in batches\n",
        "for start in range(0, len(X_train), batch_size):\n",
        "    end = min(start + batch_size, len(X_train))\n",
        "    X_batch = X_train.iloc[start:end]\n",
        "    y_batch = y_train.iloc[start:end]\n",
        "\n",
        "    # Convert batch to DMatrix\n",
        "    dtrain = xgb.DMatrix(X_batch, label=y_batch)\n",
        "\n",
        "    # Train incrementally\n",
        "    bst = xgb.train(\n",
        "        params,\n",
        "        dtrain,\n",
        "        num_boost_round=1,  # Incremental training with one round per batch\n",
        "        xgb_model=bst  # Use the previously trained model\n",
        "    )\n",
        "\n",
        "# Evaluate the model on the test set\n",
        "y_pred = bst.predict(dtest)\n"
      ],
      "metadata": {
        "id": "SUDdXhFv4jjx"
      },
      "execution_count": null,
      "outputs": []
    },
    {
      "cell_type": "code",
      "source": [
        "# # seperating into features and target\n",
        "# X = data.drop(['unit_price_x'], axis=1)\n",
        "# y = data['unit_price_x']\n",
        "\n",
        "# # Train test split\n",
        "# X_train, X_test, y_train, y_test = train_test_split(X, y, test_size=0.2, random_state=42)"
      ],
      "metadata": {
        "id": "ifCvHG-7wv8C"
      },
      "execution_count": null,
      "outputs": []
    },
    {
      "cell_type": "code",
      "source": [
        "# # Initialize the XGBoost Regressor\n",
        "# xgb_model = xgb.XGBRegressor(\n",
        "#     n_estimators=100,  # Number of trees\n",
        "#     learning_rate=0.1,  # Step size shrinkage\n",
        "#     max_depth=6,  # Maximum tree depth\n",
        "#     subsample=0.8,  # Subsample ratio of training instances\n",
        "#     colsample_bytree=0.8,  # Subsample ratio of columns when constructing each tree\n",
        "#     random_state=42\n",
        "# )\n",
        "\n",
        "# # Train the model\n",
        "# xgb_model.fit(X_train, y_train)\n"
      ],
      "metadata": {
        "id": "BmPIhK7Fxc46"
      },
      "execution_count": null,
      "outputs": []
    },
    {
      "cell_type": "code",
      "source": [
        "# #Grid search\n",
        "\n",
        "# from sklearn.model_selection import GridSearchCV\n",
        "\n",
        "# param_grid = {\n",
        "#     'n_estimators': [50, 100, 200],\n",
        "#     'learning_rate': [0.01, 0.1, 0.2],\n",
        "#     'max_depth': [3, 6, 10],\n",
        "#     'subsample': [0.6, 0.8, 1.0],\n",
        "#     'colsample_bytree': [0.6, 0.8, 1.0]\n",
        "# }\n",
        "\n",
        "# grid_search = GridSearchCV(estimator=xgb.XGBRegressor(random_state=42),\n",
        "#                            param_grid=param_grid,\n",
        "#                            scoring='neg_mean_squared_error',\n",
        "#                            cv=3,\n",
        "#                            verbose=2,\n",
        "#                            n_jobs=-1)\n",
        "\n",
        "# grid_search.fit(X_train, y_train)\n",
        "\n",
        "# print(\"Best Parameters:\", grid_search.best_params_)\n"
      ],
      "metadata": {
        "id": "YfBGGW7T0OqF"
      },
      "execution_count": null,
      "outputs": []
    },
    {
      "cell_type": "code",
      "source": [
        "# #testing\n",
        "# y_pred = xgb_model.predict(X_test)\n",
        "\n",
        "#mse\n",
        "mse = mean_squared_error(y_test, y_pred)\n",
        "print(\"MSE = \", mse)"
      ],
      "metadata": {
        "id": "0IcNOdsw05Pg",
        "colab": {
          "base_uri": "https://localhost:8080/"
        },
        "outputId": "7ba428f6-acb9-41b6-80b8-87c05aec0f9f"
      },
      "execution_count": null,
      "outputs": [
        {
          "output_type": "stream",
          "name": "stdout",
          "text": [
            "MSE =  83.93937915158811\n"
          ]
        }
      ]
    }
  ]
}