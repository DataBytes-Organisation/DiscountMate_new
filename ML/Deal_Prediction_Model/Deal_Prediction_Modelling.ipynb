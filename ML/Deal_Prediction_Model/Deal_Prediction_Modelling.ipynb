{
 "cells": [
  {
   "cell_type": "markdown",
   "id": "fe746c31",
   "metadata": {},
   "source": [
    "# Deal Prediction Modelling "
   ]
  },
  {
   "cell_type": "markdown",
   "id": "542d1dd2",
   "metadata": {},
   "source": [
    "Importing required libraries"
   ]
  },
  {
   "cell_type": "code",
   "execution_count": null,
   "id": "438618cd",
   "metadata": {},
   "outputs": [],
   "source": [
    "import pandas as pd \n",
    "import matplotlib.pyplot as plt\n",
    "import numpy as np\n",
    "import seaborn as sns"
   ]
  },
  {
   "cell_type": "code",
   "execution_count": null,
   "id": "ab9bec32",
   "metadata": {},
   "outputs": [],
   "source": []
  }
 ],
 "metadata": {
  "language_info": {
   "name": "python"
  }
 },
 "nbformat": 4,
 "nbformat_minor": 5
}
