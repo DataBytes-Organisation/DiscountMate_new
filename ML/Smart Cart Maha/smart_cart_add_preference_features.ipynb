{
  "cells": [
    {
      "cell_type": "markdown",
      "id": "1f5fe132",
      "metadata": {},
      "source": [
        "## Add Smart Cart Features \n",
        "<b> Objective: </b> \n",
        "<br>\n",
        "Add compute recency/frequency/budget alignment, behavioral features, and product relationships."
      ]
    },
    {
      "cell_type": "code",
      "execution_count": 26,
      "id": "3726c2be",
      "metadata": {},
      "outputs": [],
      "source": [
        "# Feature Engineering\n",
        "import pandas as pd\n",
        "import numpy as np\n",
        "from datetime import datetime"
      ]
    },
    {
      "cell_type": "code",
      "execution_count": 27,
      "id": "b1b6c357",
      "metadata": {},
      "outputs": [],
      "source": [
        "trans_df_with_promotions = pd.read_csv('data/trans_with_promotions.csv')"
      ]
    },
    {
      "cell_type": "code",
      "execution_count": 28,
      "id": "e88e686f",
      "metadata": {},
      "outputs": [
        {
          "name": "stdout",
          "output_type": "stream",
          "text": [
            "<class 'pandas.core.frame.DataFrame'>\n",
            "RangeIndex: 1338619 entries, 0 to 1338618\n",
            "Data columns (total 21 columns):\n",
            " #   Column               Non-Null Count    Dtype  \n",
            "---  ------               --------------    -----  \n",
            " 0   Unnamed: 0.1         1338619 non-null  int64  \n",
            " 1   Unnamed: 0           1338619 non-null  int64  \n",
            " 2   transaction_id       1338619 non-null  object \n",
            " 3   user_id              1338619 non-null  object \n",
            " 4   product_code         1338619 non-null  int64  \n",
            " 5   category             1338619 non-null  object \n",
            " 6   item_name            1338619 non-null  object \n",
            " 7   discount_percentage  1338619 non-null  float64\n",
            " 8   transaction_date     1338619 non-null  object \n",
            " 9   transaction_price    1338619 non-null  float64\n",
            " 10  age_group            1338619 non-null  object \n",
            " 11  gender               1338619 non-null  object \n",
            " 12  income_bracket       1338619 non-null  object \n",
            " 13  customer_type        1338619 non-null  object \n",
            " 14  state                1338619 non-null  object \n",
            " 15  month                1338619 non-null  int64  \n",
            " 16  seasonal_factor      1338619 non-null  float64\n",
            " 17  adjusted_spend       1338619 non-null  float64\n",
            " 18  promotion_applied    1338619 non-null  int64  \n",
            " 19  discount_amount      1338619 non-null  float64\n",
            " 20  final_spend          1338619 non-null  float64\n",
            "dtypes: float64(6), int64(5), object(10)\n",
            "memory usage: 214.5+ MB\n"
          ]
        }
      ],
      "source": [
        "trans_df_with_promotions.info()"
      ]
    },
    {
      "cell_type": "code",
      "execution_count": 29,
      "id": "IJGaBSG7W5M5",
      "metadata": {
        "id": "IJGaBSG7W5M5"
      },
      "outputs": [],
      "source": [
        "# Group items by transaction_id to see multi-product baskets\n",
        "transactions_grouped = trans_df_with_promotions.groupby('transaction_id').agg({\n",
        "    'user_id': 'first',\n",
        "    'transaction_date': 'first',\n",
        "    'product_code': list,  # All products in transaction\n",
        "    'item_name': list,\n",
        "    'transaction_price': 'sum',  # Total basket value\n",
        "    'discount_percentage': 'mean'  # Average discount\n",
        "}).reset_index()"
      ]
    },
    {
      "cell_type": "code",
      "execution_count": 31,
      "id": "fdcc43a1",
      "metadata": {},
      "outputs": [
        {
          "name": "stdout",
          "output_type": "stream",
          "text": [
            "Number of trasnations = 1338619\n"
          ]
        }
      ],
      "source": [
        "print(f'Number of trasnations = {len(trans_df_with_promotions)}')"
      ]
    },
    {
      "cell_type": "code",
      "execution_count": 32,
      "id": "dSeccpWHMnVr",
      "metadata": {
        "id": "dSeccpWHMnVr"
      },
      "outputs": [],
      "source": [
        "from datetime import timedelta\n",
        "\n",
        "def compute_features(trans_df):\n",
        "    # Ensure transaction_date is datetime\n",
        "    trans_df['transaction_date'] = pd.to_datetime(trans_df['transaction_date'])\n",
        "    \n",
        "    # Reference point (latest transaction)\n",
        "    today = trans_df['transaction_date'].max()\n",
        "\n",
        "    # --- Recency ---\n",
        "    recency = trans_df.groupby(['user_id','product_code'])['transaction_date'].max().reset_index()\n",
        "    recency['recency_days'] = (today - recency['transaction_date']).dt.days\n",
        "\n",
        "    # --- Frequency (last 30 days) ---\n",
        "    freq_30d = trans_df[trans_df['transaction_date'] >= (today - timedelta(days=30))] \\\n",
        "               .groupby(['user_id','product_code']).size().rename('freq_30d')\n",
        "\n",
        "    # --- Budget Alignment ---\n",
        "    avg_spend = trans_df.groupby('user_id')['transaction_price'].mean().rename('avg_spend')\n",
        "    budget = trans_df.merge(avg_spend, on='user_id')\n",
        "    budget['budget_alignment'] = (\n",
        "        1 - (abs(budget['transaction_price'] - budget['avg_spend']) / budget['avg_spend'])\n",
        "    ).clip(lower=0)\n",
        "    budget = budget.groupby(['user_id','product_code'])['budget_alignment'].mean().reset_index()\n",
        "\n",
        "    # --- Merge all ---\n",
        "    return (\n",
        "        recency\n",
        "        .merge(freq_30d, on=['user_id','product_code'], how='left')\n",
        "        .merge(budget, on=['user_id','product_code'], how='left')\n",
        "        .fillna(0)\n",
        "    )\n"
      ]
    },
    {
      "cell_type": "code",
      "execution_count": 33,
      "id": "E4w1QnHIDF8D",
      "metadata": {
        "id": "E4w1QnHIDF8D"
      },
      "outputs": [],
      "source": [
        "preference_features_df = compute_features(trans_df_with_promotions)\n",
        "preference_features_df.drop(columns=[\"transaction_date\"], inplace=True)"
      ]
    },
    {
      "cell_type": "code",
      "execution_count": 34,
      "id": "d8e239ab",
      "metadata": {},
      "outputs": [
        {
          "data": {
            "text/html": [
              "<div>\n",
              "<style scoped>\n",
              "    .dataframe tbody tr th:only-of-type {\n",
              "        vertical-align: middle;\n",
              "    }\n",
              "\n",
              "    .dataframe tbody tr th {\n",
              "        vertical-align: top;\n",
              "    }\n",
              "\n",
              "    .dataframe thead th {\n",
              "        text-align: right;\n",
              "    }\n",
              "</style>\n",
              "<table border=\"1\" class=\"dataframe\">\n",
              "  <thead>\n",
              "    <tr style=\"text-align: right;\">\n",
              "      <th></th>\n",
              "      <th>user_id</th>\n",
              "      <th>product_code</th>\n",
              "      <th>recency_days</th>\n",
              "      <th>freq_30d</th>\n",
              "      <th>budget_alignment</th>\n",
              "    </tr>\n",
              "  </thead>\n",
              "  <tbody>\n",
              "    <tr>\n",
              "      <th>0</th>\n",
              "      <td>user_1</td>\n",
              "      <td>8090</td>\n",
              "      <td>31</td>\n",
              "      <td>0.0</td>\n",
              "      <td>0.636839</td>\n",
              "    </tr>\n",
              "    <tr>\n",
              "      <th>1</th>\n",
              "      <td>user_1</td>\n",
              "      <td>26412</td>\n",
              "      <td>545</td>\n",
              "      <td>0.0</td>\n",
              "      <td>0.285238</td>\n",
              "    </tr>\n",
              "    <tr>\n",
              "      <th>2</th>\n",
              "      <td>user_1</td>\n",
              "      <td>26445</td>\n",
              "      <td>328</td>\n",
              "      <td>0.0</td>\n",
              "      <td>0.285955</td>\n",
              "    </tr>\n",
              "    <tr>\n",
              "      <th>3</th>\n",
              "      <td>user_1</td>\n",
              "      <td>49665</td>\n",
              "      <td>548</td>\n",
              "      <td>0.0</td>\n",
              "      <td>0.000000</td>\n",
              "    </tr>\n",
              "    <tr>\n",
              "      <th>4</th>\n",
              "      <td>user_1</td>\n",
              "      <td>54492</td>\n",
              "      <td>186</td>\n",
              "      <td>0.0</td>\n",
              "      <td>0.000000</td>\n",
              "    </tr>\n",
              "  </tbody>\n",
              "</table>\n",
              "</div>"
            ],
            "text/plain": [
              "  user_id  product_code  recency_days  freq_30d  budget_alignment\n",
              "0  user_1          8090            31       0.0          0.636839\n",
              "1  user_1         26412           545       0.0          0.285238\n",
              "2  user_1         26445           328       0.0          0.285955\n",
              "3  user_1         49665           548       0.0          0.000000\n",
              "4  user_1         54492           186       0.0          0.000000"
            ]
          },
          "execution_count": 34,
          "metadata": {},
          "output_type": "execute_result"
        }
      ],
      "source": [
        "preference_features_df.head()"
      ]
    },
    {
      "cell_type": "code",
      "execution_count": 38,
      "id": "43d99e26",
      "metadata": {},
      "outputs": [
        {
          "data": {
            "text/plain": [
              "[1338619, 150244]"
            ]
          },
          "execution_count": 38,
          "metadata": {},
          "output_type": "execute_result"
        }
      ],
      "source": [
        "[len(trans_df_with_promotions), len(preference_features_df)]"
      ]
    },
    {
      "cell_type": "code",
      "execution_count": 36,
      "id": "d0cc3277",
      "metadata": {},
      "outputs": [],
      "source": [
        "# Merge on both user_id and product_code\n",
        "all_features_preference_features_df = trans_df_with_promotions.merge(\n",
        "    preference_features_df,\n",
        "    on=['user_id', 'product_code'],   # common keys\n",
        "    how='left'                        # keep all transactions, add prefs if available\n",
        ")"
      ]
    },
    {
      "cell_type": "code",
      "execution_count": 37,
      "id": "pdNIUQwhMvNf",
      "metadata": {
        "id": "pdNIUQwhMvNf"
      },
      "outputs": [
        {
          "data": {
            "text/html": [
              "<div>\n",
              "<style scoped>\n",
              "    .dataframe tbody tr th:only-of-type {\n",
              "        vertical-align: middle;\n",
              "    }\n",
              "\n",
              "    .dataframe tbody tr th {\n",
              "        vertical-align: top;\n",
              "    }\n",
              "\n",
              "    .dataframe thead th {\n",
              "        text-align: right;\n",
              "    }\n",
              "</style>\n",
              "<table border=\"1\" class=\"dataframe\">\n",
              "  <thead>\n",
              "    <tr style=\"text-align: right;\">\n",
              "      <th></th>\n",
              "      <th>user_id</th>\n",
              "      <th>product_code</th>\n",
              "      <th>recency_days</th>\n",
              "      <th>freq_30d</th>\n",
              "      <th>budget_alignment</th>\n",
              "    </tr>\n",
              "  </thead>\n",
              "  <tbody>\n",
              "    <tr>\n",
              "      <th>26370</th>\n",
              "      <td>user_17</td>\n",
              "      <td>3794319</td>\n",
              "      <td>0</td>\n",
              "      <td>4.0</td>\n",
              "      <td>0.356384</td>\n",
              "    </tr>\n",
              "    <tr>\n",
              "      <th>140007</th>\n",
              "      <td>user_6</td>\n",
              "      <td>5241412</td>\n",
              "      <td>0</td>\n",
              "      <td>3.0</td>\n",
              "      <td>0.875054</td>\n",
              "    </tr>\n",
              "    <tr>\n",
              "      <th>41343</th>\n",
              "      <td>user_20</td>\n",
              "      <td>9106645</td>\n",
              "      <td>2</td>\n",
              "      <td>3.0</td>\n",
              "      <td>0.522576</td>\n",
              "    </tr>\n",
              "    <tr>\n",
              "      <th>33528</th>\n",
              "      <td>user_19</td>\n",
              "      <td>3762935</td>\n",
              "      <td>3</td>\n",
              "      <td>3.0</td>\n",
              "      <td>0.423514</td>\n",
              "    </tr>\n",
              "    <tr>\n",
              "      <th>77179</th>\n",
              "      <td>user_32</td>\n",
              "      <td>7524510</td>\n",
              "      <td>7</td>\n",
              "      <td>3.0</td>\n",
              "      <td>0.687064</td>\n",
              "    </tr>\n",
              "  </tbody>\n",
              "</table>\n",
              "</div>"
            ],
            "text/plain": [
              "        user_id  product_code  recency_days  freq_30d  budget_alignment\n",
              "26370   user_17       3794319             0       4.0          0.356384\n",
              "140007   user_6       5241412             0       3.0          0.875054\n",
              "41343   user_20       9106645             2       3.0          0.522576\n",
              "33528   user_19       3762935             3       3.0          0.423514\n",
              "77179   user_32       7524510             7       3.0          0.687064"
            ]
          },
          "execution_count": 37,
          "metadata": {},
          "output_type": "execute_result"
        }
      ],
      "source": [
        "# drop by Name\n",
        "# preference_features_df = preference_features_df.drop(['transaction_date'], axis=1)\n",
        "# Get 20 random records with reproducibility\n",
        "random_sample = preference_features_df[preference_features_df['freq_30d'] >= 3].sample(n=5).sort_values(by=['recency_days','budget_alignment'])\n",
        "# Display as a DataFrame\n",
        "random_sample_df = pd.DataFrame(random_sample)\n",
        "# Show the DataFrame\n",
        "random_sample_df"
      ]
    }
  ],
  "metadata": {
    "colab": {
      "provenance": []
    },
    "kernelspec": {
      "display_name": "dolfin",
      "language": "python",
      "name": "python3"
    },
    "language_info": {
      "codemirror_mode": {
        "name": "ipython",
        "version": 3
      },
      "file_extension": ".py",
      "mimetype": "text/x-python",
      "name": "python",
      "nbconvert_exporter": "python",
      "pygments_lexer": "ipython3",
      "version": "3.11.5"
    }
  },
  "nbformat": 4,
  "nbformat_minor": 5
}
