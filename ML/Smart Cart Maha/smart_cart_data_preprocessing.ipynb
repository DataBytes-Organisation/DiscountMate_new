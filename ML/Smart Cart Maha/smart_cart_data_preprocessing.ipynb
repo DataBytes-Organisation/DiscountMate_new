{
  "cells": [
    {
      "cell_type": "code",
      "execution_count": 1,
      "id": "81cbd6bb",
      "metadata": {},
      "outputs": [],
      "source": [
        "# Data Ingestion & Cleaning\n",
        "import pandas as pd\n",
        "import numpy as np\n",
        "import glob\n",
        "import os\n",
        "import re"
      ]
    },
    {
      "cell_type": "markdown",
      "id": "b9457a77",
      "metadata": {},
      "source": [
        "## Data Ingestion & Cleaning\n",
        "<b> Main Functions: </b>\n",
        "- merge_product_files(data_folder) → Reads multiple CSVs, merges them, removes duplicates.\n",
        "- clean_products(df) → Cleans raw product info, extracts unit price, standardizes base unit price, and computes discounts."
      ]
    },
    {
      "cell_type": "code",
      "execution_count": 2,
      "id": "f21b2003",
      "metadata": {},
      "outputs": [],
      "source": [
        "def merge_product_files(data_folder='data'):\n",
        "    \"\"\"\n",
        "    Merges all CSV files in the specified folder into a single DataFrame\n",
        "    \n",
        "    Args:\n",
        "        data_folder (str): Path to folder containing CSV files\n",
        "        \n",
        "    Returns:\n",
        "        pd.DataFrame: Combined product data with source file tracking\n",
        "    \"\"\"\n",
        "    # Find all CSV files in the folder\n",
        "    all_files = glob.glob(os.path.join(data_folder, \"*.csv\"))\n",
        "    \n",
        "    # Read and concatenate files\n",
        "    dfs = []\n",
        "    for file in all_files:\n",
        "        df = pd.read_csv(file)\n",
        "        df['source_file'] = os.path.basename(file)  # Track origin\n",
        "        dfs.append(df)\n",
        "    \n",
        "    # Combine with duplicate handling\n",
        "    combined_df = pd.concat(dfs, ignore_index=True)\n",
        "    \n",
        "    # Remove exact duplicates (same data from multiple files)\n",
        "    combined_df.drop_duplicates(\n",
        "        subset=['product_code'],  # Assuming this is your unique ID\n",
        "        keep='first',\n",
        "        inplace=True\n",
        "    )\n",
        "    \n",
        "    return combined_df"
      ]
    },
    {
      "cell_type": "code",
      "execution_count": 3,
      "id": "686d955d",
      "metadata": {
        "id": "686d955d"
      },
      "outputs": [],
      "source": [
        "def clean_products(df):\n",
        "    # Drop unnecessary columns\n",
        "    df = df.drop(columns=['special_text', 'promo_text', 'link'], errors='ignore')\n",
        "    \n",
        "    # Remove duplicates\n",
        "    df.drop_duplicates(subset=['product_code'], inplace=True)\n",
        "\n",
        "    # Convert and filter prices\n",
        "    for col in ['best_price', 'item_price']:\n",
        "        df[col] = pd.to_numeric(df[col], errors='coerce')\n",
        "    df = df[df['item_price'].notna() & (df['item_price'] > 0)]\n",
        "\n",
        "    # Drop null unit_price rows before extraction\n",
        "    df.dropna(subset=['unit_price'], inplace=True)\n",
        "\n",
        "    # Improved extraction with consistent return format\n",
        "    def extract_price_unit(text):\n",
        "        if pd.isna(text): \n",
        "            return (np.nan, np.nan)  # Return NaN instead of None\n",
        "        text = str(text)\n",
        "        price = re.search(r'\\$([\\d\\.]+)', text)\n",
        "        unit = re.search(r'per\\s*(.*)', text, re.IGNORECASE)\n",
        "        return (\n",
        "            float(price.group(1)) if (price and price.group(1)) else np.nan,\n",
        "            unit.group(1).strip().lower() if unit else np.nan\n",
        "        )\n",
        "\n",
        "    # Apply extraction safely\n",
        "    price_unit_data = df['unit_price'].apply(extract_price_unit).tolist()\n",
        "    df[['unit_price_value', 'unit_of_measure']] = pd.DataFrame(\n",
        "        price_unit_data, \n",
        "        index=df.index\n",
        "    )\n",
        "\n",
        "    # Standardize price per 100g/ml\n",
        "    def base_price(row):\n",
        "        u = str(row['unit_of_measure']).lower() if pd.notna(row['unit_of_measure']) else ''\n",
        "        p = row['unit_price_value']\n",
        "        if pd.isna(p): return np.nan\n",
        "        if \"kg\" in u: return p / 10\n",
        "        if \"g\" in u: return p\n",
        "        if \"l\" in u or \"litre\" in u: return p / 10\n",
        "        if \"ml\" in u: return p\n",
        "        if \"ea\" in u or \"each\" in u: return p\n",
        "        return p\n",
        "\n",
        "    df['base_unit_price'] = df.apply(base_price, axis=1)\n",
        "    df['discount_percentage'] = np.where(\n",
        "        df['item_price'] > df['best_price'],\n",
        "        (df['item_price'] - df['best_price']) / df['item_price'],\n",
        "        0\n",
        "    )\n",
        "\n",
        "    return df.drop(columns=['unit_price'])"
      ]
    },
    {
      "cell_type": "code",
      "execution_count": 14,
      "id": "c8514f6e",
      "metadata": {},
      "outputs": [],
      "source": [
        "folder_path = 'data/scrapped_data'\n",
        "products_df = merge_product_files(folder_path)   "
      ]
    },
    {
      "cell_type": "code",
      "execution_count": 15,
      "id": "98e62ca7",
      "metadata": {},
      "outputs": [
        {
          "data": {
            "text/plain": [
              "Index(['Unnamed: 0', '_id', 'product_code', 'category', 'item_name',\n",
              "       'best_price', 'item_price', 'source_file', 'unit_price_value',\n",
              "       'unit_of_measure', 'base_unit_price', 'discount_percentage',\n",
              "       'unit_price', 'special_text', 'promo_text', 'link'],\n",
              "      dtype='object')"
            ]
          },
          "execution_count": 15,
          "metadata": {},
          "output_type": "execute_result"
        }
      ],
      "source": [
        "products_df.columns"
      ]
    },
    {
      "cell_type": "code",
      "execution_count": 16,
      "id": "6c1d8676",
      "metadata": {},
      "outputs": [],
      "source": [
        "products_df = clean_products(products_df)"
      ]
    },
    {
      "cell_type": "code",
      "execution_count": 20,
      "id": "1890bb8e",
      "metadata": {},
      "outputs": [],
      "source": [
        "products_df = products_df.drop(columns=['Unnamed: 0'])"
      ]
    },
    {
      "cell_type": "code",
      "execution_count": 21,
      "id": "2dc0d574",
      "metadata": {},
      "outputs": [
        {
          "data": {
            "text/plain": [
              "_id                    0\n",
              "product_code           0\n",
              "category               0\n",
              "item_name              0\n",
              "best_price             0\n",
              "item_price             0\n",
              "source_file            0\n",
              "unit_price_value       0\n",
              "unit_of_measure        0\n",
              "base_unit_price        0\n",
              "discount_percentage    0\n",
              "dtype: int64"
            ]
          },
          "execution_count": 21,
          "metadata": {},
          "output_type": "execute_result"
        }
      ],
      "source": [
        "# check null values\n",
        "products_df.isna().sum()"
      ]
    },
    {
      "cell_type": "code",
      "execution_count": 22,
      "id": "c8f7b5c9",
      "metadata": {},
      "outputs": [],
      "source": [
        "# save products to csv \n",
        "products_df.to_csv(folder_path + '/products.csv')"
      ]
    },
    {
      "cell_type": "code",
      "execution_count": 23,
      "id": "c56ea35e",
      "metadata": {},
      "outputs": [
        {
          "data": {
            "text/html": [
              "<div>\n",
              "<style scoped>\n",
              "    .dataframe tbody tr th:only-of-type {\n",
              "        vertical-align: middle;\n",
              "    }\n",
              "\n",
              "    .dataframe tbody tr th {\n",
              "        vertical-align: top;\n",
              "    }\n",
              "\n",
              "    .dataframe thead th {\n",
              "        text-align: right;\n",
              "    }\n",
              "</style>\n",
              "<table border=\"1\" class=\"dataframe\">\n",
              "  <thead>\n",
              "    <tr style=\"text-align: right;\">\n",
              "      <th></th>\n",
              "      <th>_id</th>\n",
              "      <th>product_code</th>\n",
              "      <th>category</th>\n",
              "      <th>item_name</th>\n",
              "      <th>best_price</th>\n",
              "      <th>item_price</th>\n",
              "      <th>source_file</th>\n",
              "      <th>unit_price_value</th>\n",
              "      <th>unit_of_measure</th>\n",
              "      <th>base_unit_price</th>\n",
              "      <th>discount_percentage</th>\n",
              "    </tr>\n",
              "  </thead>\n",
              "  <tbody>\n",
              "    <tr>\n",
              "      <th>90756</th>\n",
              "      <td>6825a3c58951f0bfbd089c70</td>\n",
              "      <td>2488612</td>\n",
              "      <td>PET FOOD</td>\n",
              "      <td>Beef &amp; Rice Wet Dog Food Can Adult</td>\n",
              "      <td>2.8</td>\n",
              "      <td>3.45</td>\n",
              "      <td>ScrappedData.2025_05_15_182013_Coles_All.csv</td>\n",
              "      <td>0.70</td>\n",
              "      <td>100g</td>\n",
              "      <td>0.700</td>\n",
              "      <td>0.188406</td>\n",
              "    </tr>\n",
              "    <tr>\n",
              "      <th>90772</th>\n",
              "      <td>6825a3c58951f0bfbd089c80</td>\n",
              "      <td>6132059</td>\n",
              "      <td>PET FOOD</td>\n",
              "      <td>Shredded Meals Chicken Dog Food 6x100g</td>\n",
              "      <td>8.4</td>\n",
              "      <td>10.50</td>\n",
              "      <td>ScrappedData.2025_05_15_182013_Coles_All.csv</td>\n",
              "      <td>1.40</td>\n",
              "      <td>100g</td>\n",
              "      <td>1.400</td>\n",
              "      <td>0.200000</td>\n",
              "    </tr>\n",
              "    <tr>\n",
              "      <th>107041</th>\n",
              "      <td>6825a3c58951f0bfbd08dc0d</td>\n",
              "      <td>1057036</td>\n",
              "      <td>WATER</td>\n",
              "      <td>Sparkling Water Strawberry 10x375mL</td>\n",
              "      <td>9.5</td>\n",
              "      <td>19.00</td>\n",
              "      <td>ScrappedData.2025_05_15_182013_Coles_All.csv</td>\n",
              "      <td>2.53</td>\n",
              "      <td>1l</td>\n",
              "      <td>0.253</td>\n",
              "      <td>0.500000</td>\n",
              "    </tr>\n",
              "    <tr>\n",
              "      <th>107042</th>\n",
              "      <td>6825a3c58951f0bfbd08dc0e</td>\n",
              "      <td>1057069</td>\n",
              "      <td>WATER</td>\n",
              "      <td>Sparkling Natural Water 375ml</td>\n",
              "      <td>9.5</td>\n",
              "      <td>19.00</td>\n",
              "      <td>ScrappedData.2025_05_15_182013_Coles_All.csv</td>\n",
              "      <td>2.53</td>\n",
              "      <td>1l</td>\n",
              "      <td>0.253</td>\n",
              "      <td>0.500000</td>\n",
              "    </tr>\n",
              "    <tr>\n",
              "      <th>107533</th>\n",
              "      <td>6825a3c58951f0bfbd08ddf9</td>\n",
              "      <td>1051776</td>\n",
              "      <td>WATER</td>\n",
              "      <td>Sparkling Water Cans Pineapple 250mL</td>\n",
              "      <td>6.0</td>\n",
              "      <td>10.00</td>\n",
              "      <td>ScrappedData.2025_05_15_182013_Coles_All.csv</td>\n",
              "      <td>4.00</td>\n",
              "      <td>1l</td>\n",
              "      <td>0.400</td>\n",
              "      <td>0.400000</td>\n",
              "    </tr>\n",
              "  </tbody>\n",
              "</table>\n",
              "</div>"
            ],
            "text/plain": [
              "                             _id  product_code  category  \\\n",
              "90756   6825a3c58951f0bfbd089c70       2488612  PET FOOD   \n",
              "90772   6825a3c58951f0bfbd089c80       6132059  PET FOOD   \n",
              "107041  6825a3c58951f0bfbd08dc0d       1057036     WATER   \n",
              "107042  6825a3c58951f0bfbd08dc0e       1057069     WATER   \n",
              "107533  6825a3c58951f0bfbd08ddf9       1051776     WATER   \n",
              "\n",
              "                                     item_name  best_price  item_price  \\\n",
              "90756       Beef & Rice Wet Dog Food Can Adult         2.8        3.45   \n",
              "90772   Shredded Meals Chicken Dog Food 6x100g         8.4       10.50   \n",
              "107041     Sparkling Water Strawberry 10x375mL         9.5       19.00   \n",
              "107042           Sparkling Natural Water 375ml         9.5       19.00   \n",
              "107533    Sparkling Water Cans Pineapple 250mL         6.0       10.00   \n",
              "\n",
              "                                         source_file  unit_price_value  \\\n",
              "90756   ScrappedData.2025_05_15_182013_Coles_All.csv              0.70   \n",
              "90772   ScrappedData.2025_05_15_182013_Coles_All.csv              1.40   \n",
              "107041  ScrappedData.2025_05_15_182013_Coles_All.csv              2.53   \n",
              "107042  ScrappedData.2025_05_15_182013_Coles_All.csv              2.53   \n",
              "107533  ScrappedData.2025_05_15_182013_Coles_All.csv              4.00   \n",
              "\n",
              "       unit_of_measure  base_unit_price  discount_percentage  \n",
              "90756             100g            0.700             0.188406  \n",
              "90772             100g            1.400             0.200000  \n",
              "107041              1l            0.253             0.500000  \n",
              "107042              1l            0.253             0.500000  \n",
              "107533              1l            0.400             0.400000  "
            ]
          },
          "execution_count": 23,
          "metadata": {},
          "output_type": "execute_result"
        }
      ],
      "source": [
        "products_df.head()"
      ]
    }
  ],
  "metadata": {
    "colab": {
      "provenance": []
    },
    "kernelspec": {
      "display_name": "dolfin",
      "language": "python",
      "name": "python3"
    },
    "language_info": {
      "codemirror_mode": {
        "name": "ipython",
        "version": 3
      },
      "file_extension": ".py",
      "mimetype": "text/x-python",
      "name": "python",
      "nbconvert_exporter": "python",
      "pygments_lexer": "ipython3",
      "version": "3.11.5"
    }
  },
  "nbformat": 4,
  "nbformat_minor": 5
}
