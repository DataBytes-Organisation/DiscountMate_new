{
 "cells": [
  {
   "cell_type": "markdown",
   "id": "f631e5bc",
   "metadata": {},
   "source": [
    "# Smart Substitute Suggestion\n",
    "\n",
    "**Purpose**  \n",
    "This notebook demonstrates a pipeline for:\n",
    "1. **Loading** grocery catalog data from multiple sources (IGA & Woolworths).  \n",
    "2. **Normalizing** column names and data types for consistency.  \n",
    "3. **Scoring** items by combining factors like necessity, purchase history, loyalty, affordability, availability, and ratings.  \n",
    "4. **Finding** TF–IDF–based, cheaper “smart substitutes” in the catalog.  \n",
    "5. **Simulating** shopping carts and suggesting top replacements.  \n",
    "6. **Bulk-exporting** simulation results to CSV for downstream analysis.\n",
    "\n",
    "**Why?**  \n",
    "- Retailers can use this to automatically suggest lower-cost alternatives to shoppers.  \n",
    "- Data scientists and engineers can extend or adapt each step for their own catalogs, scoring criteria, or similarity logic.\n",
    "\n",
    "---\n",
    "\n",
    "**Notebook structure**  \n",
    "1. Imports & Setup  \n",
    "2. Data Loading & Preprocessing  \n",
    "3. Preference Scoring  \n",
    "4. Text Cleaning & TF–IDF Similarity  \n",
    "5. Substitute Suggestion Logic  \n",
    "6. Cart Simulation & Output  \n",
    "7. Bulk Simulation & CSV Export  \n",
    "8. Next Steps & Extensions"
   ]
  },
  {
   "cell_type": "markdown",
   "id": "4067ac8d",
   "metadata": {},
   "source": [
    "## 1. Imports & Setup\n",
    "\n",
    "We import standard libraries, plus:\n",
    "- **`tqdm`** for progress bars in loops  \n",
    "- **`sklearn`** for TF–IDF vectorization and cosine similarity"
   ]
  },
  {
   "cell_type": "code",
   "execution_count": 15,
   "id": "ab0d4a05",
   "metadata": {},
   "outputs": [],
   "source": [
    "import os\n",
    "import re\n",
    "import random\n",
    "\n",
    "import numpy as np\n",
    "import pandas as pd\n",
    "\n",
    "from collections import Counter\n",
    "from tqdm import tqdm\n",
    "from sklearn.feature_extraction.text import TfidfVectorizer\n",
    "from sklearn.metrics.pairwise import cosine_similarity\n",
    "\n",
    "# Ensure reproducibility\n",
    "random.seed(42)\n",
    "np.random.seed(42)"
   ]
  },
  {
   "cell_type": "markdown",
   "id": "45621627",
   "metadata": {},
   "source": [
    "## 2. Data Loading & Preprocessing\n",
    "\n",
    "We support two dataset formats:\n",
    "- **IGA**: lowercase column names, minimal type coercion  \n",
    "- **Woolworths**: Title-case column names, explicit type conversions\n",
    "\n",
    "### 2.1. `load_and_normalize_data()`\n",
    "- Reads a CSV  \n",
    "- Infers dataset type from filename  \n",
    "- Calls `preprocess_data()`"
   ]
  },
  {
   "cell_type": "code",
   "execution_count": 16,
   "id": "9c167a5d",
   "metadata": {},
   "outputs": [],
   "source": [
    "def load_and_normalize_data(filepath):\n",
    "    \"\"\"\n",
    "    Load CSV and standardize to a common schema.\n",
    "\n",
    "    Args:\n",
    "        filepath (str): Path to the CSV file.\n",
    "\n",
    "    Returns:\n",
    "        df (pd.DataFrame): DataFrame with standardized columns.\n",
    "        dataset_type (str): 'woolworths' or 'iga'.\n",
    "    \"\"\"\n",
    "    df = pd.read_csv(filepath)\n",
    "    fname = os.path.basename(filepath).lower()\n",
    "    dataset_type = (\n",
    "        'woolworths' if ('woolworths' in fname or 'woolies' in fname) else 'iga'\n",
    "    )\n",
    "    df = preprocess_data(df, dataset_type)\n",
    "    return df, dataset_type\n",
    "\n",
    "def preprocess_data(df, dataset_type):\n",
    "    \"\"\"\n",
    "    Rename & coerce columns for IGA vs Woolworths.\n",
    "\n",
    "    Args:\n",
    "        df (pd.DataFrame): Raw data.\n",
    "        dataset_type (str): 'iga' or 'woolworths'.\n",
    "\n",
    "    Returns:\n",
    "        pd.DataFrame: With columns:\n",
    "          - 'item_id', 'item_name', 'brand', 'category',\n",
    "            'unit_price', 'total_price', 'quantity', 'store_name'\n",
    "    \"\"\"\n",
    "    if dataset_type == 'iga':\n",
    "        df = df.rename(columns={\n",
    "            'item_id': 'item_id',\n",
    "            'item_name': 'item_name',\n",
    "            'brand': 'brand',\n",
    "            'category': 'category',\n",
    "            'unit_price': 'unit_price',\n",
    "            'total_price': 'total_price',\n",
    "        })\n",
    "    else:  # woolworths\n",
    "        df = df.rename(columns={\n",
    "            'Item ID': 'item_id',\n",
    "            'Item Name': 'item_name',\n",
    "            'Brand': 'brand',\n",
    "            'Category': 'category',\n",
    "            'Unit Price': 'unit_price',\n",
    "            'Total': 'total_price',\n",
    "            'Quantity': 'quantity',\n",
    "            'Store Name': 'store_name',\n",
    "        })\n",
    "        df['item_id'] = df['item_id'].astype(str)\n",
    "        df['unit_price'] = pd.to_numeric(df['unit_price'], errors='coerce')\n",
    "        df['total_price'] = pd.to_numeric(df['total_price'], errors='coerce')\n",
    "    for col in ['quantity', 'store_name']:\n",
    "        if col not in df.columns:\n",
    "            df[col] = np.nan\n",
    "    return df"
   ]
  },
  {
   "cell_type": "markdown",
   "id": "7a6899cb",
   "metadata": {},
   "source": [
    "### 2.2. Quick sanity check\n",
    "\n",
    "Load a few rows and inspect dtypes to confirm normalization."
   ]
  },
  {
   "cell_type": "code",
   "execution_count": 17,
   "id": "a44c4d02",
   "metadata": {},
   "outputs": [
    {
     "name": "stdout",
     "output_type": "stream",
     "text": [
      "Dataset type: woolworths\n",
      "Transaction ID      object\n",
      "Purchase Date       object\n",
      "store_name          object\n",
      "Location            object\n",
      "Customer ID         object\n",
      "Gender              object\n",
      "item_id             object\n",
      "brand               object\n",
      "item_name           object\n",
      "category            object\n",
      "Product Code         int64\n",
      "Best Price         float64\n",
      "unit_price         float64\n",
      "Discount Amount    float64\n",
      "quantity             int64\n",
      "total_price        float64\n",
      "Payment Type        object\n",
      "dtype: object\n"
     ]
    },
    {
     "data": {
      "text/html": [
       "<div>\n",
       "<style scoped>\n",
       "    .dataframe tbody tr th:only-of-type {\n",
       "        vertical-align: middle;\n",
       "    }\n",
       "\n",
       "    .dataframe tbody tr th {\n",
       "        vertical-align: top;\n",
       "    }\n",
       "\n",
       "    .dataframe thead th {\n",
       "        text-align: right;\n",
       "    }\n",
       "</style>\n",
       "<table border=\"1\" class=\"dataframe\">\n",
       "  <thead>\n",
       "    <tr style=\"text-align: right;\">\n",
       "      <th></th>\n",
       "      <th>Transaction ID</th>\n",
       "      <th>Purchase Date</th>\n",
       "      <th>store_name</th>\n",
       "      <th>Location</th>\n",
       "      <th>Customer ID</th>\n",
       "      <th>Gender</th>\n",
       "      <th>item_id</th>\n",
       "      <th>brand</th>\n",
       "      <th>item_name</th>\n",
       "      <th>category</th>\n",
       "      <th>Product Code</th>\n",
       "      <th>Best Price</th>\n",
       "      <th>unit_price</th>\n",
       "      <th>Discount Amount</th>\n",
       "      <th>quantity</th>\n",
       "      <th>total_price</th>\n",
       "      <th>Payment Type</th>\n",
       "    </tr>\n",
       "  </thead>\n",
       "  <tbody>\n",
       "    <tr>\n",
       "      <th>0</th>\n",
       "      <td>WOOL-C57727A12D</td>\n",
       "      <td>2025-03-02</td>\n",
       "      <td>Woolworths</td>\n",
       "      <td>Sydney</td>\n",
       "      <td>WOOL-2AA656C519</td>\n",
       "      <td>Male</td>\n",
       "      <td>A594D12F67</td>\n",
       "      <td>Cavendish</td>\n",
       "      <td>Cavendish Bananas Each</td>\n",
       "      <td>Fruit &amp; Veg</td>\n",
       "      <td>133211</td>\n",
       "      <td>0.81</td>\n",
       "      <td>0.81</td>\n",
       "      <td>0.0</td>\n",
       "      <td>6</td>\n",
       "      <td>4.86</td>\n",
       "      <td>Credit card</td>\n",
       "    </tr>\n",
       "    <tr>\n",
       "      <th>1</th>\n",
       "      <td>WOOL-3DAA220567</td>\n",
       "      <td>2024-11-10</td>\n",
       "      <td>Woolworths</td>\n",
       "      <td>Sydney</td>\n",
       "      <td>WOOL-E96BDA36D1</td>\n",
       "      <td>Other</td>\n",
       "      <td>C87ED7067A</td>\n",
       "      <td>Fresh</td>\n",
       "      <td>Fresh Tomato Each</td>\n",
       "      <td>Fruit &amp; Veg</td>\n",
       "      <td>134034</td>\n",
       "      <td>0.65</td>\n",
       "      <td>0.65</td>\n",
       "      <td>0.0</td>\n",
       "      <td>2</td>\n",
       "      <td>1.30</td>\n",
       "      <td>Store card</td>\n",
       "    </tr>\n",
       "    <tr>\n",
       "      <th>2</th>\n",
       "      <td>WOOL-6E24CDF252</td>\n",
       "      <td>2024-12-23</td>\n",
       "      <td>Metro</td>\n",
       "      <td>Canberra</td>\n",
       "      <td>WOOL-00BC858F70</td>\n",
       "      <td>Other</td>\n",
       "      <td>0E51767189</td>\n",
       "      <td>Fresh</td>\n",
       "      <td>Fresh Pink Lady Apples Each</td>\n",
       "      <td>Fruit &amp; Veg</td>\n",
       "      <td>105919</td>\n",
       "      <td>0.86</td>\n",
       "      <td>0.86</td>\n",
       "      <td>0.0</td>\n",
       "      <td>1</td>\n",
       "      <td>0.86</td>\n",
       "      <td>Store card</td>\n",
       "    </tr>\n",
       "  </tbody>\n",
       "</table>\n",
       "</div>"
      ],
      "text/plain": [
       "    Transaction ID Purchase Date  store_name  Location      Customer ID  \\\n",
       "0  WOOL-C57727A12D    2025-03-02  Woolworths    Sydney  WOOL-2AA656C519   \n",
       "1  WOOL-3DAA220567    2024-11-10  Woolworths    Sydney  WOOL-E96BDA36D1   \n",
       "2  WOOL-6E24CDF252    2024-12-23       Metro  Canberra  WOOL-00BC858F70   \n",
       "\n",
       "  Gender     item_id      brand                    item_name     category  \\\n",
       "0   Male  A594D12F67  Cavendish       Cavendish Bananas Each  Fruit & Veg   \n",
       "1  Other  C87ED7067A      Fresh            Fresh Tomato Each  Fruit & Veg   \n",
       "2  Other  0E51767189      Fresh  Fresh Pink Lady Apples Each  Fruit & Veg   \n",
       "\n",
       "   Product Code  Best Price  unit_price  Discount Amount  quantity  \\\n",
       "0        133211        0.81        0.81              0.0         6   \n",
       "1        134034        0.65        0.65              0.0         2   \n",
       "2        105919        0.86        0.86              0.0         1   \n",
       "\n",
       "   total_price Payment Type  \n",
       "0         4.86  Credit card  \n",
       "1         1.30   Store card  \n",
       "2         0.86   Store card  "
      ]
     },
     "execution_count": 17,
     "metadata": {},
     "output_type": "execute_result"
    }
   ],
   "source": [
    "# Replace with your local path\n",
    "iga = \"/Users/macbook1/Documents/Submissions/Tri1_25/SIT764/Datamate/IGA/Original_updated_iga_data.csv\"\n",
    "woolies = \"/Users/macbook1/Documents/Submissions/Tri1_25/SIT764/Datamate/Test_Data/synthetic_woolworths_cleaned.csv\"\n",
    "file_path = woolies\n",
    "df_sample, ds_type = load_and_normalize_data(file_path)\n",
    "\n",
    "print(f\"Dataset type: {ds_type}\")\n",
    "print(df_sample.dtypes)\n",
    "df_sample.head(3)"
   ]
  },
  {
   "cell_type": "markdown",
   "id": "de60db7c",
   "metadata": {},
   "source": [
    "## 3. Preference Scoring\n",
    "\n",
    "We assign each item a **`preference_score`** combining six sub-scores:\n",
    "\n",
    "| Sub-score              | Description                                                    | Weight |\n",
    "|------------------------|----------------------------------------------------------------|--------|\n",
    "| **Necessity**          | 1 if category ∈ essential_categories, else 0                   | 2.0    |\n",
    "| **Purchase freq.**     | `purchase_count / max_count` (0–1)                             | 2.0    |\n",
    "| **Brand loyalty**      | Fraction of past purchases belonging to this item’s brand      | 1.5    |\n",
    "| **Common brand**       | 1 if brand ∈ top-3 frequent brands, else 0                     | —      |\n",
    "| **Affordability**      | Inverse price percentile within category                       | 1.0    |\n",
    "| **Availability**       | Logistic(stock_level) to reward in-stock items                 | 0.5    |\n",
    "| **Rating**             | `avg_rating × log(1 + review_count)/log(1 + max_reviews)`      | 1.0    |\n",
    "\n",
    "### 3.1. `compute_brand_scores()`\n",
    "- Builds `brand_counter` from purchase history  \n",
    "- Annotates `df['purchase_count']`\n",
    "\n",
    "### 3.2. `calculate_scores()`\n",
    "- Computes each sub-score  \n",
    "- Aggregates with weights → `preference_score`"
   ]
  },
  {
   "cell_type": "code",
   "execution_count": 18,
   "id": "beaa855e",
   "metadata": {},
   "outputs": [],
   "source": [
    "def compute_brand_scores(df, user_purchase_history):\n",
    "    \"\"\"\n",
    "    Build brand_counter & annotate df['purchase_count'].\n",
    "\n",
    "    Args:\n",
    "      df: DataFrame with 'item_id'\n",
    "      user_purchase_history: dict[item_id->count] or dict[item_id->{'count','brand'}]\n",
    "\n",
    "    Returns:\n",
    "      brand_counter (Counter), past_brands (set)\n",
    "    \"\"\"\n",
    "    if not user_purchase_history:\n",
    "        df['purchase_count'] = 0\n",
    "        return Counter(), set()\n",
    "    sample = next(iter(user_purchase_history.values()))\n",
    "    is_detailed = isinstance(sample, dict)\n",
    "    if is_detailed:\n",
    "        df['purchase_count'] = df['item_id'].map(\n",
    "            lambda pid: user_purchase_history.get(pid, {}).get('count', 0)\n",
    "        )\n",
    "        brand_counter = Counter(\n",
    "            e['brand'] for e in user_purchase_history.values() if 'brand' in e\n",
    "        )\n",
    "    else:\n",
    "        df['purchase_count'] = df['item_id'].map(user_purchase_history)\n",
    "        brand_counter = Counter()\n",
    "    return brand_counter, set(brand_counter)\n",
    "\n",
    "def calculate_scores(df, essential_categories, brand_counter,\n",
    "                     past_brands, stock_info, rating_info):\n",
    "    \"\"\"\n",
    "    Compute and return df with added score columns.\n",
    "\n",
    "    Args:\n",
    "      essential_categories (set): e.g. {'Dairy','Bakery'}\n",
    "      stock_info (dict): item_id -> int stock level\n",
    "      rating_info (dict): item_id -> (avg_rating, num_reviews)\n",
    "\n",
    "    Returns:\n",
    "      scored_df (pd.DataFrame)\n",
    "    \"\"\"\n",
    "    # sub-scores\n",
    "    df['necessity_score'] = df['category'].isin(essential_categories).astype(float)\n",
    "    max_freq = max(df['purchase_count'].max(), 1)\n",
    "    df['purchase_frequency_score'] = df['purchase_count'] / max_freq\n",
    "    total_brand = sum(brand_counter.values()) or 1\n",
    "    df['brand_loyalty_score'] = df['brand'].map(\n",
    "        lambda b: brand_counter[b] / total_brand if b in brand_counter else 0\n",
    "    )\n",
    "    top_brands = {b for b, _ in brand_counter.most_common(3)}\n",
    "    df['common_brand_score'] = df['brand'].isin(top_brands).astype(float)\n",
    "    df['affordability_score'] = (\n",
    "        1 - df.groupby('category')['unit_price'].rank(pct=True)\n",
    "    ).clip(0, 1)\n",
    "    if stock_info:\n",
    "        df['availability_score'] = df['item_id'].map(\n",
    "            lambda pid: 1/(1 + np.exp(-stock_info.get(pid, 1)))\n",
    "        )\n",
    "    else:\n",
    "        df['availability_score'] = 1.0\n",
    "    if rating_info:\n",
    "        max_rev = max(v[1] for v in rating_info.values()) or 1\n",
    "        df['rating_score'] = df['item_id'].map(\n",
    "            lambda pid: (\n",
    "                rating_info[pid][0] * \n",
    "                (np.log(1+rating_info[pid][1]) / np.log(1+max_rev))\n",
    "            ) if pid in rating_info else 0.5\n",
    "        )\n",
    "    else:\n",
    "        df['rating_score'] = 0.5\n",
    "    df['preference_score'] = (\n",
    "        2.0 * df['necessity_score'] +\n",
    "        2.0 * df['purchase_frequency_score'] +\n",
    "        1.5 * df['brand_loyalty_score'] +\n",
    "        1.0 * df['affordability_score'] +\n",
    "        0.5 * df['availability_score'] +\n",
    "        1.0 * df['rating_score']\n",
    "    )\n",
    "    return df\n",
    "\n",
    "def add_smart_preference_scores_fast(\n",
    "    df, user_purchase_history=None,\n",
    "    essential_categories=None, stock_info=None,\n",
    "    rating_info=None\n",
    "):\n",
    "    \"\"\"Wrapper: computes brand scores & full preference_score.\"\"\"\n",
    "    df2 = df.copy()\n",
    "    bc, pb = compute_brand_scores(df2, user_purchase_history or {})\n",
    "    return calculate_scores(\n",
    "        df2, essential_categories or set(),\n",
    "        bc, pb, stock_info, rating_info\n",
    "    )"
   ]
  },
  {
   "cell_type": "markdown",
   "id": "d4021a68",
   "metadata": {},
   "source": [
    "### 3.3. Example: assign scores"
   ]
  },
  {
   "cell_type": "code",
   "execution_count": 19,
   "id": "b001592d",
   "metadata": {},
   "outputs": [
    {
     "data": {
      "text/html": [
       "<div>\n",
       "<style scoped>\n",
       "    .dataframe tbody tr th:only-of-type {\n",
       "        vertical-align: middle;\n",
       "    }\n",
       "\n",
       "    .dataframe tbody tr th {\n",
       "        vertical-align: top;\n",
       "    }\n",
       "\n",
       "    .dataframe thead th {\n",
       "        text-align: right;\n",
       "    }\n",
       "</style>\n",
       "<table border=\"1\" class=\"dataframe\">\n",
       "  <thead>\n",
       "    <tr style=\"text-align: right;\">\n",
       "      <th></th>\n",
       "      <th>item_id</th>\n",
       "      <th>item_name</th>\n",
       "      <th>necessity_score</th>\n",
       "      <th>purchase_frequency_score</th>\n",
       "      <th>affordability_score</th>\n",
       "      <th>availability_score</th>\n",
       "      <th>rating_score</th>\n",
       "      <th>preference_score</th>\n",
       "    </tr>\n",
       "  </thead>\n",
       "  <tbody>\n",
       "    <tr>\n",
       "      <th>0</th>\n",
       "      <td>A594D12F67</td>\n",
       "      <td>Cavendish Bananas Each</td>\n",
       "      <td>0.0</td>\n",
       "      <td>NaN</td>\n",
       "      <td>0.5</td>\n",
       "      <td>0.731059</td>\n",
       "      <td>0.5</td>\n",
       "      <td>NaN</td>\n",
       "    </tr>\n",
       "    <tr>\n",
       "      <th>1</th>\n",
       "      <td>C87ED7067A</td>\n",
       "      <td>Fresh Tomato Each</td>\n",
       "      <td>0.0</td>\n",
       "      <td>NaN</td>\n",
       "      <td>0.7</td>\n",
       "      <td>0.731059</td>\n",
       "      <td>0.5</td>\n",
       "      <td>NaN</td>\n",
       "    </tr>\n",
       "    <tr>\n",
       "      <th>2</th>\n",
       "      <td>0E51767189</td>\n",
       "      <td>Fresh Pink Lady Apples Each</td>\n",
       "      <td>0.0</td>\n",
       "      <td>NaN</td>\n",
       "      <td>0.3</td>\n",
       "      <td>0.731059</td>\n",
       "      <td>0.5</td>\n",
       "      <td>NaN</td>\n",
       "    </tr>\n",
       "    <tr>\n",
       "      <th>3</th>\n",
       "      <td>4FF52DABB3</td>\n",
       "      <td>Strawberries 250g Punnet</td>\n",
       "      <td>0.0</td>\n",
       "      <td>NaN</td>\n",
       "      <td>0.0</td>\n",
       "      <td>0.731059</td>\n",
       "      <td>0.5</td>\n",
       "      <td>NaN</td>\n",
       "    </tr>\n",
       "    <tr>\n",
       "      <th>4</th>\n",
       "      <td>7F0EA7ACEE</td>\n",
       "      <td>Hass Avocado Each</td>\n",
       "      <td>0.0</td>\n",
       "      <td>NaN</td>\n",
       "      <td>0.1</td>\n",
       "      <td>0.731059</td>\n",
       "      <td>0.5</td>\n",
       "      <td>NaN</td>\n",
       "    </tr>\n",
       "    <tr>\n",
       "      <th>5</th>\n",
       "      <td>A96AEAFD54</td>\n",
       "      <td>Potato White Washed Each</td>\n",
       "      <td>0.0</td>\n",
       "      <td>NaN</td>\n",
       "      <td>0.5</td>\n",
       "      <td>0.731059</td>\n",
       "      <td>0.5</td>\n",
       "      <td>NaN</td>\n",
       "    </tr>\n",
       "    <tr>\n",
       "      <th>6</th>\n",
       "      <td>9E796A5CD4</td>\n",
       "      <td>Mandarin Amorette Seedless Each</td>\n",
       "      <td>0.0</td>\n",
       "      <td>NaN</td>\n",
       "      <td>0.9</td>\n",
       "      <td>0.731059</td>\n",
       "      <td>0.5</td>\n",
       "      <td>NaN</td>\n",
       "    </tr>\n",
       "    <tr>\n",
       "      <th>7</th>\n",
       "      <td>CE64D76063</td>\n",
       "      <td>Onion Brown Each</td>\n",
       "      <td>0.0</td>\n",
       "      <td>NaN</td>\n",
       "      <td>0.8</td>\n",
       "      <td>0.731059</td>\n",
       "      <td>0.5</td>\n",
       "      <td>NaN</td>\n",
       "    </tr>\n",
       "    <tr>\n",
       "      <th>8</th>\n",
       "      <td>47F99CDD51</td>\n",
       "      <td>Fresh Broccoli Each</td>\n",
       "      <td>0.0</td>\n",
       "      <td>NaN</td>\n",
       "      <td>0.2</td>\n",
       "      <td>0.731059</td>\n",
       "      <td>0.5</td>\n",
       "      <td>NaN</td>\n",
       "    </tr>\n",
       "    <tr>\n",
       "      <th>9</th>\n",
       "      <td>19D736DCF6</td>\n",
       "      <td>Eat Later Cavendish Bananas Each</td>\n",
       "      <td>0.0</td>\n",
       "      <td>NaN</td>\n",
       "      <td>0.5</td>\n",
       "      <td>0.731059</td>\n",
       "      <td>0.5</td>\n",
       "      <td>NaN</td>\n",
       "    </tr>\n",
       "  </tbody>\n",
       "</table>\n",
       "</div>"
      ],
      "text/plain": [
       "      item_id                         item_name  necessity_score  \\\n",
       "0  A594D12F67            Cavendish Bananas Each              0.0   \n",
       "1  C87ED7067A                 Fresh Tomato Each              0.0   \n",
       "2  0E51767189       Fresh Pink Lady Apples Each              0.0   \n",
       "3  4FF52DABB3          Strawberries 250g Punnet              0.0   \n",
       "4  7F0EA7ACEE                 Hass Avocado Each              0.0   \n",
       "5  A96AEAFD54          Potato White Washed Each              0.0   \n",
       "6  9E796A5CD4   Mandarin Amorette Seedless Each              0.0   \n",
       "7  CE64D76063                  Onion Brown Each              0.0   \n",
       "8  47F99CDD51               Fresh Broccoli Each              0.0   \n",
       "9  19D736DCF6  Eat Later Cavendish Bananas Each              0.0   \n",
       "\n",
       "   purchase_frequency_score  affordability_score  availability_score  \\\n",
       "0                       NaN                  0.5            0.731059   \n",
       "1                       NaN                  0.7            0.731059   \n",
       "2                       NaN                  0.3            0.731059   \n",
       "3                       NaN                  0.0            0.731059   \n",
       "4                       NaN                  0.1            0.731059   \n",
       "5                       NaN                  0.5            0.731059   \n",
       "6                       NaN                  0.9            0.731059   \n",
       "7                       NaN                  0.8            0.731059   \n",
       "8                       NaN                  0.2            0.731059   \n",
       "9                       NaN                  0.5            0.731059   \n",
       "\n",
       "   rating_score  preference_score  \n",
       "0           0.5               NaN  \n",
       "1           0.5               NaN  \n",
       "2           0.5               NaN  \n",
       "3           0.5               NaN  \n",
       "4           0.5               NaN  \n",
       "5           0.5               NaN  \n",
       "6           0.5               NaN  \n",
       "7           0.5               NaN  \n",
       "8           0.5               NaN  \n",
       "9           0.5               NaN  "
      ]
     },
     "execution_count": 19,
     "metadata": {},
     "output_type": "execute_result"
    }
   ],
   "source": [
    "history = {'1001': 3, '1002': 1}\n",
    "stock   = {'1001': 5, '1003': 0}\n",
    "ratings = {'1001': (4.5, 10), '1002': (3.0, 2)}\n",
    "\n",
    "df_scored = add_smart_preference_scores_fast(\n",
    "    df_sample.head(10),\n",
    "    user_purchase_history=history,\n",
    "    essential_categories={'Dairy', 'Bakery'},\n",
    "    stock_info=stock,\n",
    "    rating_info=ratings\n",
    ")\n",
    "df_scored[[\n",
    "    'item_id', 'item_name', 'necessity_score',\n",
    "    'purchase_frequency_score', 'affordability_score',\n",
    "    'availability_score', 'rating_score', 'preference_score'\n",
    "]]"
   ]
  },
  {
   "cell_type": "markdown",
   "id": "a005152e",
   "metadata": {},
   "source": [
    "## 4. Text Cleaning & TF–IDF Similarity\n",
    "\n",
    "To find textual matches:\n",
    "1. **Clean** both query & catalog names (lowercase, remove brand, strip punctuation).  \n",
    "2. **Vectorize** with TF–IDF to capture word importance.  \n",
    "3. **Compute** cosine similarity."
   ]
  },
  {
   "cell_type": "code",
   "execution_count": 20,
   "id": "bd945105",
   "metadata": {},
   "outputs": [],
   "source": [
    "def clean_name(name, brand):\n",
    "    s = name.casefold()\n",
    "    b = brand.casefold() if isinstance(brand, str) else ''\n",
    "    if b:\n",
    "        s = re.sub(rf'\\b{re.escape(b)}\\b', '', s)\n",
    "    return re.sub(r'[^a-z0-9\\s]', '', s).strip()\n",
    "\n",
    "def is_same_product(r, q):\n",
    "    return r['item_name'].strip().lower() == q['item_name'].strip().lower()"
   ]
  },
  {
   "cell_type": "markdown",
   "id": "32c20dc9",
   "metadata": {},
   "source": [
    "## 5. Substitute Suggestion Logic\n",
    "\n",
    "`suggest_cheaper_alternatives()` performs a **two-pass** search:\n",
    "- **Strict**: high similarity & meaningful absolute saving  \n",
    "- **Fallback**: looser similarity & modest relative saving  \n",
    "\n",
    "Results are **ranked** by:\n",
    "1. Priority (quantity & unit matches)  \n",
    "2. Higher preference_score  \n",
    "3. Higher text similarity"
   ]
  },
  {
   "cell_type": "code",
   "execution_count": 21,
   "id": "a62dd4e3",
   "metadata": {},
   "outputs": [],
   "source": [
    "def get_priority(item, alt):\n",
    "    same_qty  = alt.get('quantity') == item.get('quantity')\n",
    "    same_unit = alt.get('unit_type') == item.get('unit_type')\n",
    "    same_sub  = alt.get('sub_category') == item.get('sub_category')\n",
    "    same_cat  = alt.get('category') == item.get('category')\n",
    "    if same_qty and same_unit:\n",
    "        return 1 if same_sub else (2 if same_cat else 5)\n",
    "    if same_sub: return 3\n",
    "    if same_cat: return 4\n",
    "    return 5\n",
    "\n",
    "def suggest_cheaper_alternatives(\n",
    "    item_row, df, price_diff_threshold=0.5,\n",
    "    similarity_threshold=0.2, max_suggestions=3,\n",
    "    fallback_similarity=0.0, fallback_price_buffer=0.15\n",
    "):\n",
    "    clean_q = clean_name(item_row['item_name'], item_row['brand'])\n",
    "    df2 = df.copy()\n",
    "    df2['cleaned_name'] = df2.apply(\n",
    "        lambda r: clean_name(r['item_name'], r['brand']), axis=1\n",
    "    )\n",
    "    corpus = df2['cleaned_name'].tolist() + [clean_q]\n",
    "    tfidf = TfidfVectorizer().fit_transform(corpus)\n",
    "    sims = cosine_similarity(tfidf[-1], tfidf[:-1])[0]\n",
    "\n",
    "    def collect(min_sim, max_price):\n",
    "        out = []\n",
    "        seen = set()  # Track seen items\n",
    "        for i, sim in enumerate(sims):\n",
    "            row = df2.iloc[i]\n",
    "            key = (row['item_name'], row.get('store_name', ''))\n",
    "            if sim < min_sim or is_same_product(row, item_row) or row['unit_price'] > max_price:\n",
    "                continue\n",
    "            if key in seen:\n",
    "                continue\n",
    "            seen.add(key)\n",
    "            out.append({\n",
    "                'cheaper': row['item_name'],\n",
    "                'unit_price': row['unit_price'],\n",
    "                'store': row.get('store_name', ''),\n",
    "                'priority': get_priority(item_row, row),\n",
    "                'pref_score': round(row['preference_score'], 3),\n",
    "                'sim': round(sim, 3),\n",
    "            })\n",
    "        return out\n",
    "\n",
    "    strict_max = item_row['unit_price'] - price_diff_threshold\n",
    "    strict = collect(similarity_threshold, strict_max)\n",
    "    if strict:\n",
    "        return sorted(strict, key=lambda x: (x['priority'], -x['pref_score'], -x['sim']))[:max_suggestions]\n",
    "    \n",
    "    fallback_max = item_row['unit_price'] * (1 + fallback_price_buffer)\n",
    "    fallback = collect(fallback_similarity, fallback_max)\n",
    "    if fallback:\n",
    "        return sorted(fallback, key=lambda x: (x['priority'], -x['pref_score'], -x['sim']))[:max_suggestions]\n",
    "    \n",
    "    return f\"No alternatives found for {item_row['item_name']}\""
   ]
  },
  {
   "cell_type": "markdown",
   "id": "7012adfb",
   "metadata": {},
   "source": [
    "## 6. Cart Simulation & Reporting\n",
    "\n",
    "- **`generate_random_cart()`** picks random items.  \n",
    "- **`test_cart_with_alternatives()`** shows the cart & fetches suggestions.  \n",
    "- **`pretty_print_results()`** formats output nicely."
   ]
  },
  {
   "cell_type": "code",
   "execution_count": 22,
   "id": "53f70ab2",
   "metadata": {},
   "outputs": [],
   "source": [
    "def generate_random_cart(df, cart_size=5):\n",
    "    return df.sample(cart_size).to_dict('records')\n",
    "\n",
    "def test_cart_with_alternatives(df, cart_size=5):\n",
    "    cart = generate_random_cart(df, cart_size)\n",
    "    print(\"\\n🛒 Test Cart:\")\n",
    "    for it in cart:\n",
    "        print(f\" - {it['item_name']} @ ${it['unit_price']:.2f} x {it.get('quantity','?')}\")\n",
    "    results = {it['item_name']: {'orig': it, 'alts': suggest_cheaper_alternatives(it, df)} for it in cart}\n",
    "    return results\n",
    "\n",
    "def pretty_print_results(results):\n",
    "    for name, data in results.items():\n",
    "        o = data['orig']\n",
    "        print(f\"\\n{name} — ${o['unit_price']:.2f}\")\n",
    "        alts = data['alts']\n",
    "        if isinstance(alts, str):\n",
    "            print(\"  \", alts)\n",
    "        else:\n",
    "            for i, a in enumerate(alts,1):\n",
    "                print(f\"  {i}. {a['cheaper']} @ ${a['unit_price']:.2f} (Priority {a['priority']}, sim {a['sim']}, pref {a['pref_score']})\")"
   ]
  },
  {
   "cell_type": "markdown",
   "id": "510bb3ee",
   "metadata": {},
   "source": [
    "### 6.1. Demo run"
   ]
  },
  {
   "cell_type": "code",
   "execution_count": 23,
   "id": "ed8bb179",
   "metadata": {},
   "outputs": [
    {
     "name": "stdout",
     "output_type": "stream",
     "text": [
      "\n",
      "🛒 Test Cart:\n",
      " - Dare Espresso Ice Coffee 750ml @ $5.35 x 5\n",
      " - Oat Milk Goodness Omg Chocolate Protein Oat Milk 350ml @ $4.50 x 2\n",
      " - Sweet Baby Ray's Sweet N Spicy Bbq Sauce 425ml @ $7.50 x 6\n",
      " - Likofu Custard Buns 8 Pack 240g @ $5.30 x 5\n",
      "\n",
      "Dare Espresso Ice Coffee 750ml — $5.35\n",
      "  1. Woolworths Peppermint Chocolate Flakes Ice Cream Sandwich 4 Pack @ $3.50 (Priority 1, sim 0.201, pref 1.97)\n",
      "  2. La Ice Cola Bottle 2l @ $2.00 (Priority 1, sim 0.272, pref 1.964)\n",
      "  3. La Ice Cola No Sugar 2l @ $2.00 (Priority 1, sim 0.244, pref 1.964)\n",
      "\n",
      "Oat Milk Goodness Omg Chocolate Protein Oat Milk 350ml — $4.50\n",
      "  1. Woolworths Skim Milk 1l @ $1.60 (Priority 1, sim 0.212, pref 1.986)\n",
      "  2. Pandaroo Coconut Milk 400ml @ $1.65 (Priority 1, sim 0.231, pref 1.972)\n",
      "  3. Devondale Skim Milk Long Life Uht Milk 1l @ $2.20 (Priority 1, sim 0.251, pref 1.959)\n",
      "\n",
      "Sweet Baby Ray's Sweet N Spicy Bbq Sauce 425ml — $7.50\n",
      "  1. Mccain Peas Baby 500g @ $3.90 (Priority 1, sim 0.237, pref 1.949)\n",
      "  2. Woolworths Whole Baby Carrots Baby 410g @ $1.80 (Priority 1, sim 0.271, pref 1.943)\n",
      "  3. Woolworths Australian Baby Peas 1kg @ $5.00 (Priority 1, sim 0.205, pref 1.878)\n",
      "\n",
      "Likofu Custard Buns 8 Pack 240g — $5.30\n",
      "  1. Woolworths Custard Cream Biscuit 140g @ $0.90 (Priority 1, sim 0.316, pref 1.997)\n",
      "  2. Pauls Kids Bluey Strawberry Custard Pouch 70g @ $1.90 (Priority 1, sim 0.258, pref 1.974)\n",
      "  3. Foster Clark's Snak Pack Chocolate Flavoured Custard Pouch 120g @ $1.90 (Priority 1, sim 0.249, pref 1.974)\n"
     ]
    }
   ],
   "source": [
    "# compute scores on full sample\n",
    "df_full = add_smart_preference_scores_fast(df_sample)\n",
    "res_demo = test_cart_with_alternatives(df_full, cart_size=4)\n",
    "pretty_print_results(res_demo)"
   ]
  },
  {
   "cell_type": "markdown",
   "id": "84627a88",
   "metadata": {},
   "source": [
    "## 7. Bulk Simulation & CSV Export\n",
    "\n",
    "Generate *N* carts of size 3–5, take only the **top** suggestion per item, and export to CSV."
   ]
  },
  {
   "cell_type": "code",
   "execution_count": 24,
   "id": "7749e7df",
   "metadata": {},
   "outputs": [
    {
     "name": "stderr",
     "output_type": "stream",
     "text": [
      "  0%|          | 0/100 [00:00<?, ?it/s]"
     ]
    },
    {
     "name": "stdout",
     "output_type": "stream",
     "text": [
      "\n",
      "🛒 Test Cart:\n",
      " - Little Moons Mochi Bites Strawberries & Cream 6 Pack @ $10.00 x 5\n",
      " - Praise Seafood Sauce 250ml @ $3.50 x 4\n",
      " - Fibre One 90 Calorie Lemon Drizzle Snack Bars 5 Pack @ $6.90 x 2\n",
      " - Bertocchi Gold Short Rindless Bacon 400g @ $11.00 x 4\n",
      " - Masterfoods Dried Italian Herbs 10g @ $2.70 x 2\n"
     ]
    },
    {
     "name": "stderr",
     "output_type": "stream",
     "text": [
      "  1%|          | 1/100 [00:19<32:53, 19.94s/it]"
     ]
    },
    {
     "name": "stdout",
     "output_type": "stream",
     "text": [
      "\n",
      "🛒 Test Cart:\n",
      " - Maggie Beer Quince Paste 100g @ $6.30 x 3\n",
      " - Kenco Jumbo Sponge Each @ $4.00 x 7\n",
      " - Red Rock Deli Classics Sour Cream & Chives 190g @ $9.60 x 8\n"
     ]
    },
    {
     "name": "stderr",
     "output_type": "stream",
     "text": [
      "  2%|▏         | 2/100 [00:31<24:19, 14.89s/it]"
     ]
    },
    {
     "name": "stdout",
     "output_type": "stream",
     "text": [
      "\n",
      "🛒 Test Cart:\n",
      " - Bega Light Peanut Butter Smooth 470g @ $6.40 x 5\n",
      " - Arnott's Gluten Free Scotch Finger Biscuits 170g @ $5.00 x 1\n",
      " - Wolf Blass Zero Sauvignon Blanc 750ml @ $13.50 x 3\n"
     ]
    },
    {
     "name": "stderr",
     "output_type": "stream",
     "text": [
      "  3%|▎         | 3/100 [00:42<21:30, 13.30s/it]"
     ]
    },
    {
     "name": "stdout",
     "output_type": "stream",
     "text": [
      "\n",
      "🛒 Test Cart:\n",
      " - Woolworths Smokey Chipotle Cheddar & Tasty Cheese Shredded Blend 250g @ $4.90 x 6\n",
      " - Abbott's Bakery Country Grains Sandwich Slice Bread Loaf 800g @ $4.90 x 8\n",
      " - Revlon Color Stay Brow Pencil Soft Brown Each @ $24.00 x 9\n",
      " - Nobby's Salted Beer Nuts 375g @ $4.00 x 6\n",
      " - Woolworths Cocktail Frankfurts 500g @ $3.00 x 1\n"
     ]
    },
    {
     "name": "stderr",
     "output_type": "stream",
     "text": [
      "  4%|▍         | 4/100 [01:02<25:39, 16.03s/it]"
     ]
    },
    {
     "name": "stdout",
     "output_type": "stream",
     "text": [
      "\n",
      "🛒 Test Cart:\n",
      " - Bega Easy Melt Colby Cheese Block 500g @ $10.50 x 3\n",
      " - Woolworths Green Tea 50 Pack @ $2.20 x 2\n",
      " - Grow Grow Brighter Blonder Conditioner 250ml @ $15.00 x 7\n",
      " - Eti Popkek With Chocolate Snack 144g @ $3.20 x 2\n"
     ]
    },
    {
     "name": "stderr",
     "output_type": "stream",
     "text": [
      "  5%|▌         | 5/100 [01:22<27:17, 17.24s/it]"
     ]
    },
    {
     "name": "stdout",
     "output_type": "stream",
     "text": [
      "\n",
      "🛒 Test Cart:\n",
      " - Hot Kids Ball Cake Honey Flavour 210g @ $3.95 x 10\n",
      " - Woolworths Yellow Squash 250g Punnet @ $5.90 x 9\n",
      " - Elvive Bond Repair Leave-in Serum 150ml @ $30.00 x 9\n"
     ]
    },
    {
     "name": "stderr",
     "output_type": "stream",
     "text": [
      "  6%|▌         | 6/100 [01:34<24:05, 15.38s/it]"
     ]
    },
    {
     "name": "stdout",
     "output_type": "stream",
     "text": [
      "\n",
      "🛒 Test Cart:\n",
      " - Essentials French Fries 1kg @ $4.00 x 1\n",
      " - Mcobeauty Vitamin C Cleansing Butter 90ml @ $35.00 x 4\n",
      " - Mission Corn Chips Chilli & Lime 230g @ $4.50 x 5\n"
     ]
    },
    {
     "name": "stderr",
     "output_type": "stream",
     "text": [
      "  7%|▋         | 7/100 [01:46<22:07, 14.28s/it]"
     ]
    },
    {
     "name": "stdout",
     "output_type": "stream",
     "text": [
      "\n",
      "🛒 Test Cart:\n",
      " - Mirabella Colour Changing Led Strip Light Usb 5 Metres @ $25.00 x 9\n",
      " - Woolworths Orange Juice Pulp Free 2l @ $5.00 x 4\n",
      " - Chux Non Scratch Sustainable Sponge Scourer 2 Pack @ $4.50 x 5\n"
     ]
    },
    {
     "name": "stderr",
     "output_type": "stream",
     "text": [
      "  8%|▊         | 8/100 [01:57<20:37, 13.45s/it]"
     ]
    },
    {
     "name": "stdout",
     "output_type": "stream",
     "text": [
      "\n",
      "🛒 Test Cart:\n",
      " - Tasmanian Heritage Blue Cheese 80g @ $14.40 x 4\n",
      " - Nong Shim Shin Ramen Big Bowl 114g @ $3.75 x 3\n",
      " - Four'n Twenty Pies Beef & Cheese 700g @ $9.00 x 8\n",
      " - Al Wadi Hummus Chickpea Dip 400g @ $2.50 x 9\n",
      " - Woolworths Chilli Con Carne 800g @ $14.00 x 2\n"
     ]
    },
    {
     "name": "stderr",
     "output_type": "stream",
     "text": [
      "  9%|▉         | 9/100 [02:18<23:44, 15.66s/it]"
     ]
    },
    {
     "name": "stdout",
     "output_type": "stream",
     "text": [
      "\n",
      "🛒 Test Cart:\n",
      " - Head & Shoulders Clean & Balanced Anti Dandruff Shampoo For Clean Scalp 400ml @ $15.00 x 9\n",
      " - Crest Night Light Set Motion Sensor Led 2 Pack @ $30.00 x 8\n",
      " - Bonds Socks Mens Size 11-14 Assorted 3 Pack @ $16.00 x 7\n"
     ]
    },
    {
     "name": "stderr",
     "output_type": "stream",
     "text": [
      " 10%|█         | 10/100 [02:29<21:33, 14.37s/it]"
     ]
    },
    {
     "name": "stdout",
     "output_type": "stream",
     "text": [
      "\n",
      "🛒 Test Cart:\n",
      " - Isabel Estate Sauvignon Blanc 750ml @ $30.00 x 3\n",
      " - Twinings Pure Peppermint Tea Bags 10 Pack @ $3.00 x 10\n",
      " - Celebrate Health Keto Bbq Sauce 430ml @ $5.70 x 4\n",
      " - Rexona Men Advanced Protection Anti Perspirant Aerosol Coconut 220ml @ $9.50 x 10\n",
      " - Marques De Riscal Proximo Tempranillo Rioja Proximo 750ml @ $19.00 x 10\n"
     ]
    },
    {
     "name": "stderr",
     "output_type": "stream",
     "text": [
      " 11%|█         | 11/100 [02:49<23:34, 15.89s/it]"
     ]
    },
    {
     "name": "stdout",
     "output_type": "stream",
     "text": [
      "\n",
      "🛒 Test Cart:\n",
      " - Comfort Fabric Conditioner Amber & Rose 900ml @ $10.00 x 5\n",
      " - Fever-tree Premium Dry Ginger Ale Bottles 200ml X 4 Pack @ $9.00 x 9\n",
      " - Maybelline Instant Perfector Glow Makeup Light Each @ $35.00 x 4\n",
      " - Schwarzkopf Live Colour Chocolate Semi Permanent Each @ $14.00 x 4\n",
      " - Birds Eye Steam Fresh Parsley & Citrus Sauce 380g @ $10.00 x 8\n"
     ]
    },
    {
     "name": "stderr",
     "output_type": "stream",
     "text": [
      " 12%|█▏        | 12/100 [03:09<25:14, 17.21s/it]"
     ]
    },
    {
     "name": "stdout",
     "output_type": "stream",
     "text": [
      "\n",
      "🛒 Test Cart:\n",
      " - Schwarzkopf Extra Care Ultimate Repair Strengthening Conditioner 950ml @ $19.00 x 9\n",
      " - Sistema Nest It Container 5 Pack @ $22.00 x 10\n",
      " - Jelly Belly Duo Mini Car Air Freshener Island Punch Each @ $9.50 x 7\n",
      " - Mrs Toddy's Tonic Kauai Glow Hibiscus, Collagen & Lemon 250ml @ $5.00 x 8\n",
      " - Devondale Full Cream Milk Powder Long Life Uht 1kg @ $16.50 x 6\n"
     ]
    },
    {
     "name": "stderr",
     "output_type": "stream",
     "text": [
      " 13%|█▎        | 13/100 [03:28<25:58, 17.92s/it]"
     ]
    },
    {
     "name": "stdout",
     "output_type": "stream",
     "text": [
      "\n",
      "🛒 Test Cart:\n",
      " - Haday Yellow Soy Bean Paste 340g @ $3.45 x 6\n",
      " - L'or Espresso Onyx Coffee Capsules 20 Pack @ $13.00 x 10\n",
      " - Mccain Lil Pizzas Snacks Ham & Cheese 4 Pack @ $7.80 x 8\n"
     ]
    },
    {
     "name": "stderr",
     "output_type": "stream",
     "text": [
      " 14%|█▍        | 14/100 [03:41<23:14, 16.21s/it]"
     ]
    },
    {
     "name": "stdout",
     "output_type": "stream",
     "text": [
      "\n",
      "🛒 Test Cart:\n",
      " - Woolworths Beef Oyster Blade Steak 200g @ $6.00 x 10\n",
      " - Woolworths Cinnamon Sugar 60g @ $1.65 x 9\n",
      " - Moira Mac's Classic Roasted Chicken Breast 350g @ $8.50 x 2\n",
      " - Arcosteel Stonehenge Cookware Frypan 26cm Each @ $35.00 x 4\n",
      " - Chang's Gluten Free Noodles 100g @ $2.35 x 1\n"
     ]
    },
    {
     "name": "stderr",
     "output_type": "stream",
     "text": [
      " 15%|█▌        | 15/100 [04:02<25:05, 17.71s/it]"
     ]
    },
    {
     "name": "stdout",
     "output_type": "stream",
     "text": [
      "\n",
      "🛒 Test Cart:\n",
      " - Western Star Supersoft Spreadable 500g @ $7.00 x 2\n",
      " - Smith's Oven Baked Chips Sour Cream & Chives 130g @ $4.80 x 6\n",
      " - Walker Grove Shiraz Cask Wine 2l @ $15.00 x 4\n",
      " - Dettol Sapoderm Hygienic Bar Soap For Acne Prone And Oily Skin 125g X 3 Pack @ $5.50 x 3\n"
     ]
    },
    {
     "name": "stderr",
     "output_type": "stream",
     "text": [
      " 16%|█▌        | 16/100 [04:19<24:35, 17.56s/it]"
     ]
    },
    {
     "name": "stdout",
     "output_type": "stream",
     "text": [
      "\n",
      "🛒 Test Cart:\n",
      " - Yoosh Aloe Tea Black Tea Flavour With Honey 500ml @ $3.40 x 10\n",
      " - Ethical Zinc Daily Wear Tinted Facial Sunsreen Light Tint Spf50+ 100g @ $25.00 x 4\n",
      " - Palmolive Rosewood Oil & Jasmine Conditioner 350ml @ $6.00 x 10\n"
     ]
    },
    {
     "name": "stderr",
     "output_type": "stream",
     "text": [
      " 17%|█▋        | 17/100 [04:31<22:02, 15.93s/it]"
     ]
    },
    {
     "name": "stdout",
     "output_type": "stream",
     "text": [
      "\n",
      "🛒 Test Cart:\n",
      " - John West Wild Caught Salmon Slices Naturally Smoked 125g @ $4.90 x 5\n",
      " - Mount Franklin Lightly Sparkling Water 450ml @ $3.10 x 7\n",
      " - Redwin Sorbolene Daily Moisturiser 1.1l @ $11.00 x 8\n"
     ]
    },
    {
     "name": "stderr",
     "output_type": "stream",
     "text": [
      " 18%|█▊        | 18/100 [04:43<20:03, 14.68s/it]"
     ]
    },
    {
     "name": "stdout",
     "output_type": "stream",
     "text": [
      "\n",
      "🛒 Test Cart:\n",
      " - Masterfoods Pepper Steak Seasoning 35g @ $4.00 x 2\n",
      " - Green Gardener Garden Fork Each @ $6.00 x 9\n",
      " - Smart Premium Shoe Polish Dubbin Neutral 85g @ $5.00 x 4\n"
     ]
    },
    {
     "name": "stderr",
     "output_type": "stream",
     "text": [
      " 19%|█▉        | 19/100 [04:55<18:43, 13.87s/it]"
     ]
    },
    {
     "name": "stdout",
     "output_type": "stream",
     "text": [
      "\n",
      "🛒 Test Cart:\n",
      " - Sukin Signature Hydrating Body Lotion Pump 500ml @ $16.00 x 8\n",
      " - Woolworths Raw Prawns With Garlic & Herb Marinade 220g @ $10.00 x 10\n",
      " - Sistema Nest It Meal Prep 1.9l X5 @ $20.00 x 7\n"
     ]
    },
    {
     "name": "stderr",
     "output_type": "stream",
     "text": [
      " 20%|██        | 20/100 [05:07<17:38, 13.23s/it]"
     ]
    },
    {
     "name": "stdout",
     "output_type": "stream",
     "text": [
      "\n",
      "🛒 Test Cart:\n",
      " - Olsent Led Filament Candle Globe 470 Lumens Warm White 2 Pack @ $10.00 x 6\n",
      " - Ready Chef Creamy Tomato & Bacon Pasta Bake Family Size 1.2kg @ $12.50 x 10\n",
      " - Mama Shrimp (tom Yum) Instant Noodles 90g X5 Pack @ $6.00 x 8\n"
     ]
    },
    {
     "name": "stderr",
     "output_type": "stream",
     "text": [
      " 21%|██        | 21/100 [05:19<16:57, 12.88s/it]"
     ]
    },
    {
     "name": "stdout",
     "output_type": "stream",
     "text": [
      "\n",
      "🛒 Test Cart:\n",
      " - Olsent Led Filament Round Globe 4w Small Edison Screw 2 Pack @ $9.50 x 4\n",
      " - Woolworths Yellow Squash 250g Punnet @ $5.90 x 9\n",
      " - Woolworths Rspca Chicken Frames 2kg @ $11.00 x 8\n",
      " - Pascall Marshmallows Pink & White 520g @ $6.50 x 7\n",
      " - Original Juice Co. Black Label Clear Apple 1.5l @ $6.50 x 9\n"
     ]
    },
    {
     "name": "stderr",
     "output_type": "stream",
     "text": [
      " 22%|██▏       | 22/100 [05:40<19:58, 15.37s/it]"
     ]
    },
    {
     "name": "stdout",
     "output_type": "stream",
     "text": [
      "\n",
      "🛒 Test Cart:\n",
      " - Woolworths Garlic Granules 45g @ $2.00 x 2\n",
      " - Uncle Tobys Oats Traditional Rolled Oats Porridge 500g @ $4.50 x 4\n",
      " - Balter Ipa Cans 375ml X4 Pack @ $26.00 x 7\n",
      " - Cow Bombie Shiraz Margaret River 750ml @ $18.00 x 4\n",
      " - Reyka Vodka 700ml @ $75.00 x 3\n"
     ]
    },
    {
     "name": "stderr",
     "output_type": "stream",
     "text": [
      " 23%|██▎       | 23/100 [06:01<21:46, 16.97s/it]"
     ]
    },
    {
     "name": "stdout",
     "output_type": "stream",
     "text": [
      "\n",
      "🛒 Test Cart:\n",
      " - Woolworths Beef Lasagne 350g @ $15.00 x 9\n",
      " - Wash Wild Floor Cleaner 1l @ $9.00 x 2\n",
      " - Lo Bros Pineapple & Lime Kombucha 330ml @ $4.20 x 5\n"
     ]
    },
    {
     "name": "stderr",
     "output_type": "stream",
     "text": [
      " 24%|██▍       | 24/100 [06:13<19:53, 15.70s/it]"
     ]
    },
    {
     "name": "stdout",
     "output_type": "stream",
     "text": [
      "\n",
      "🛒 Test Cart:\n",
      " - Walkers Monster Munch Pickled Onion 40g @ $2.65 x 8\n",
      " - Cocobella Protein Coconut Yoghurt Vanilla 500g @ $6.50 x 4\n",
      " - Woolworths Extra Tasty Cheese Block 500g @ $7.70 x 8\n",
      " - Olsent Led Gu5.3 Mr16 6w 500lm Ww 60' 4 Pack @ $19.50 x 10\n",
      " - Grand Italian Tuscans Finest Creamy Ricotta Spinach Agnolotti 325g @ $7.00 x 5\n"
     ]
    },
    {
     "name": "stderr",
     "output_type": "stream",
     "text": [
      " 25%|██▌       | 25/100 [06:33<21:10, 16.93s/it]"
     ]
    },
    {
     "name": "stdout",
     "output_type": "stream",
     "text": [
      "\n",
      "🛒 Test Cart:\n",
      " - A2 Milk Full Cream Uht Milk 1l @ $3.90 x 10\n",
      " - Madura Green Tea Bags 50 Pack 75g @ $5.90 x 4\n",
      " - Wild Turkey 101 6.5% & Cola Cans 10x375ml @ $59.00 x 3\n"
     ]
    },
    {
     "name": "stderr",
     "output_type": "stream",
     "text": [
      " 26%|██▌       | 26/100 [06:45<18:59, 15.40s/it]"
     ]
    },
    {
     "name": "stdout",
     "output_type": "stream",
     "text": [
      "\n",
      "🛒 Test Cart:\n",
      " - Bare Essentials Borax 500g @ $4.10 x 8\n",
      " - Schwarzkopf Brilliance L43 Smouldering Red Permanent Colour Each @ $22.00 x 6\n",
      " - Woolworths Lamb Moussaka With Panko Herb Crumb 700g @ $14.50 x 8\n",
      " - Woolworths Soft White Loaf 680g @ $2.90 x 6\n",
      " - Woolworths Cooking Bacon 1kg @ $10.25 x 6\n"
     ]
    },
    {
     "name": "stderr",
     "output_type": "stream",
     "text": [
      " 27%|██▋       | 27/100 [07:05<20:17, 16.68s/it]"
     ]
    },
    {
     "name": "stdout",
     "output_type": "stream",
     "text": [
      "\n",
      "🛒 Test Cart:\n",
      " - Kitkat Milkybar White Chocolate Bar 45g @ $2.50 x 5\n",
      " - Byron Beef Jerky Smokey 40g @ $5.45 x 3\n",
      " - Byron Beef Jerky Sweet & Saucy 40g @ $5.45 x 6\n",
      " - Rosella Green Cocktail Onions 150g @ $2.50 x 5\n",
      " - Mirabella Resin Solar Dragon Each @ $15.00 x 1\n"
     ]
    },
    {
     "name": "stderr",
     "output_type": "stream",
     "text": [
      " 28%|██▊       | 28/100 [07:24<20:56, 17.45s/it]"
     ]
    },
    {
     "name": "stdout",
     "output_type": "stream",
     "text": [
      "\n",
      "🛒 Test Cart:\n",
      " - Pine O Cleen Gold Washing Machine Cleaner 250ml @ $16.00 x 3\n",
      " - Ice Break Real Ice Coffee 750ml @ $4.95 x 5\n",
      " - Bertocchi Smoked Pork Meaty Hock 700g - 1kg @ $13.50 x 4\n",
      " - Kraft Easy Mac & Cheese Macaroni Pasta Classic Cheese Noodles 73g @ $2.50 x 5\n",
      " - Gourmet Garden Paste Ginger 80g @ $4.00 x 2\n"
     ]
    },
    {
     "name": "stderr",
     "output_type": "stream",
     "text": [
      " 29%|██▉       | 29/100 [07:43<21:22, 18.07s/it]"
     ]
    },
    {
     "name": "stdout",
     "output_type": "stream",
     "text": [
      "\n",
      "🛒 Test Cart:\n",
      " - Bundaberg Diet Ginger Beer 375ml X10 Pack @ $16.95 x 10\n",
      " - Oral B Pro 800 Electric Toothbrush Blue Each @ $100.00 x 9\n",
      " - Decor Double Wall Smoothie & Coffee Tumbler 650ml Assorted Each @ $25.50 x 3\n",
      " - Dollar Sweets Sprinkles Pirate Toppings 145g @ $6.00 x 7\n",
      " - Essentials Cornflour 500g @ $2.25 x 8\n"
     ]
    },
    {
     "name": "stderr",
     "output_type": "stream",
     "text": [
      " 30%|███       | 30/100 [08:05<22:13, 19.05s/it]"
     ]
    },
    {
     "name": "stdout",
     "output_type": "stream",
     "text": [
      "\n",
      "🛒 Test Cart:\n",
      " - Always Discreet 3 In 1 Dryness, Comfort, Odour Control Long Pads 20 Pack @ $12.75 x 2\n",
      " - Mcobeauty Soft Matte Beauty Wand Peach Bellini 12ml @ $29.00 x 9\n",
      " - Mint Cutting Mat Colour Coded 4 Pack @ $9.00 x 6\n",
      " - Post-it Notes Canary Yellow 4 Pack @ $5.50 x 10\n"
     ]
    },
    {
     "name": "stderr",
     "output_type": "stream",
     "text": [
      " 31%|███       | 31/100 [08:21<20:51, 18.14s/it]"
     ]
    },
    {
     "name": "stdout",
     "output_type": "stream",
     "text": [
      "\n",
      "🛒 Test Cart:\n",
      " - Connoisseur Jam Doughnut Ice Cream 1l @ $12.00 x 10\n",
      " - Gillette Venus Deluxe Smooth Platinum Razor With 2 Razor Blades Each @ $23.00 x 6\n",
      " - Kellogg's Pop Tarts Frosted Cookies & Crème Toaster Pastries 384g @ $7.00 x 9\n"
     ]
    },
    {
     "name": "stderr",
     "output_type": "stream",
     "text": [
      " 32%|███▏      | 32/100 [08:33<18:31, 16.35s/it]"
     ]
    },
    {
     "name": "stdout",
     "output_type": "stream",
     "text": [
      "\n",
      "🛒 Test Cart:\n",
      " - Old El Paso Gluten Free Taco Spice Mix Mild 30g @ $3.00 x 4\n",
      " - Quantum Aluminium Torch Each @ $12.00 x 3\n",
      " - Dollar Sweets Peppermints Extra Strong 150g Bag @ $2.50 x 9\n",
      " - Frico Mild Edam Cheese Wedge 230g @ $9.50 x 3\n"
     ]
    },
    {
     "name": "stderr",
     "output_type": "stream",
     "text": [
      " 33%|███▎      | 33/100 [08:52<19:12, 17.20s/it]"
     ]
    },
    {
     "name": "stdout",
     "output_type": "stream",
     "text": [
      "\n",
      "🛒 Test Cart:\n",
      " - Primo Cabanossi 300g @ $6.70 x 3\n",
      " - Cadbury Classic Choc Chip Cookies 156g @ $8.00 x 8\n",
      " - White Rabbit White Ale Bottles 330ml X 24 Case @ $90.00 x 1\n",
      " - Macro Dry Roasted & Salted Cashews Nuts 500g @ $15.00 x 8\n",
      " - Sealord Fish Of The Day Whiting Classic Crumb Fillets 4 Pack @ $10.50 x 5\n"
     ]
    },
    {
     "name": "stderr",
     "output_type": "stream",
     "text": [
      " 34%|███▍      | 34/100 [09:12<19:49, 18.02s/it]"
     ]
    },
    {
     "name": "stdout",
     "output_type": "stream",
     "text": [
      "\n",
      "🛒 Test Cart:\n",
      " - Dove Intensive Repair Shampoo With Smart Target Technology 320ml @ $7.70 x 7\n",
      " - Woolworths Baby Spinach & Rocket 60g @ $2.00 x 4\n",
      " - Bali Body Luxe Tanning Mitt Each @ $13.00 x 10\n",
      " - Ouma Condensed Milk Rusks 500g @ $8.30 x 3\n"
     ]
    },
    {
     "name": "stderr",
     "output_type": "stream",
     "text": [
      " 35%|███▌      | 35/100 [09:28<18:58, 17.51s/it]"
     ]
    },
    {
     "name": "stdout",
     "output_type": "stream",
     "text": [
      "\n",
      "🛒 Test Cart:\n",
      " - Simple Biodegradable Facial Wipes 50 Pack @ $14.00 x 3\n",
      " - Smart Smart Boot Laces Yellow & Brown 150cm Each @ $3.50 x 3\n",
      " - Coco & Lucas' Chicken Fried Rice Meal 220g @ $5.30 x 10\n"
     ]
    },
    {
     "name": "stderr",
     "output_type": "stream",
     "text": [
      " 36%|███▌      | 36/100 [09:40<16:49, 15.77s/it]"
     ]
    },
    {
     "name": "stdout",
     "output_type": "stream",
     "text": [
      "\n",
      "🛒 Test Cart:\n",
      " - Uno Penotti Hazelnut Spread 380g @ $5.00 x 6\n",
      " - Maybelline Fit Me Concealer - Light 15 6.8ml @ $20.00 x 2\n",
      " - Edgell Corn Kernels Snack Packs Ready To Eat 125g X 4 Pack @ $3.80 x 1\n"
     ]
    },
    {
     "name": "stderr",
     "output_type": "stream",
     "text": [
      " 37%|███▋      | 37/100 [09:52<15:25, 14.70s/it]"
     ]
    },
    {
     "name": "stdout",
     "output_type": "stream",
     "text": [
      "\n",
      "🛒 Test Cart:\n",
      " - Chobani Greek Yogurt Strawberry 160g @ $2.70 x 9\n",
      " - Olsent Led Gls Bc 14w 1400lm Ww 2 Pack @ $12.00 x 6\n",
      " - Kraft Manilla Folder 10 Pack @ $4.00 x 5\n",
      " - Smirnoff Hard Soda Vodka Yuzu Citrus Burst Cans 330ml X 4 Pack @ $26.50 x 10\n",
      " - Crest Usb-c To Usb-a Braided Cable 1.5m @ $22.00 x 4\n"
     ]
    },
    {
     "name": "stderr",
     "output_type": "stream",
     "text": [
      " 38%|███▊      | 38/100 [10:12<16:39, 16.12s/it]"
     ]
    },
    {
     "name": "stdout",
     "output_type": "stream",
     "text": [
      "\n",
      "🛒 Test Cart:\n",
      " - Kara Coconut Milk 400ml @ $3.50 x 5\n",
      " - Woolworths Soft & Juicy Pitted Dates 250g @ $4.50 x 1\n",
      " - Bird In Hand Rose Pinot 750ml @ $30.00 x 3\n",
      " - Picasso Kitchen Supreme Pizza 600g @ $10.00 x 9\n"
     ]
    },
    {
     "name": "stderr",
     "output_type": "stream",
     "text": [
      " 39%|███▉      | 39/100 [10:27<16:06, 15.85s/it]"
     ]
    },
    {
     "name": "stdout",
     "output_type": "stream",
     "text": [
      "\n",
      "🛒 Test Cart:\n",
      " - Maggi Bowl Meals Mexican Style Burrito Bowl 150g @ $4.00 x 10\n",
      " - Vodka Cruiser Pure Pineapple 275ml X4 Pack @ $46.00 x 9\n",
      " - Jackson Protected Powerboard W Master Switch And Long 3 Metre Lead Each @ $31.00 x 8\n",
      " - Schwarzkopf Extra Care Liquid Silk Smoothing Conditioner 400ml @ $9.00 x 8\n"
     ]
    },
    {
     "name": "stderr",
     "output_type": "stream",
     "text": [
      " 40%|████      | 40/100 [10:43<15:45, 15.76s/it]"
     ]
    },
    {
     "name": "stdout",
     "output_type": "stream",
     "text": [
      "\n",
      "🛒 Test Cart:\n",
      " - Dove Advanced Care Go Fresh Deodorant Cucumber & Green Tea 250 Ml @ $11.50 x 3\n",
      " - Squealing Pig Sparkling Rose 750ml @ $21.00 x 4\n",
      " - Exit Mould Cleaning Spray 500ml @ $9.50 x 2\n",
      " - Carman's Low Sugar Low Carb Bar Dark Choc 170g @ $8.50 x 10\n"
     ]
    },
    {
     "name": "stderr",
     "output_type": "stream",
     "text": [
      " 41%|████      | 41/100 [10:58<15:24, 15.67s/it]"
     ]
    },
    {
     "name": "stdout",
     "output_type": "stream",
     "text": [
      "\n",
      "🛒 Test Cart:\n",
      " - House Foods Shichimi Togarashi 18g @ $3.50 x 9\n",
      " - Mcobeauty Miracle Bb Cream Light Each @ $20.00 x 5\n",
      " - Cetaphil Oily Skin Cleanser, Oily & Combination Skin 500ml @ $23.00 x 9\n"
     ]
    },
    {
     "name": "stderr",
     "output_type": "stream",
     "text": [
      " 42%|████▏     | 42/100 [11:10<13:58, 14.46s/it]"
     ]
    },
    {
     "name": "stdout",
     "output_type": "stream",
     "text": [
      "\n",
      "🛒 Test Cart:\n",
      " - Coopers Home Brew Lager 1.7kg @ $17.00 x 3\n",
      " - Thanks To Nature Cool Curls Shampoo With Aloe Vera 500ml @ $18.00 x 6\n",
      " - Yopro High Protein Yoghurt Pouch No Added Sugar Banana 150g @ $3.00 x 9\n"
     ]
    },
    {
     "name": "stderr",
     "output_type": "stream",
     "text": [
      " 43%|████▎     | 43/100 [11:21<12:59, 13.68s/it]"
     ]
    },
    {
     "name": "stdout",
     "output_type": "stream",
     "text": [
      "\n",
      "🛒 Test Cart:\n",
      " - Bonds Ladies Invisible Socks Size 8 To 11 3 Pack @ $12.00 x 1\n",
      " - Air Wick Essential Mist Happiness Pineapple Diffuser 20ml @ $35.00 x 2\n",
      " - Woolworths Scotch Finger Biscuits 250g @ $1.25 x 1\n",
      " - Sukin Bond Build Repair Conditioner 500ml @ $25.00 x 2\n"
     ]
    },
    {
     "name": "stderr",
     "output_type": "stream",
     "text": [
      " 44%|████▍     | 44/100 [11:41<14:18, 15.32s/it]"
     ]
    },
    {
     "name": "stdout",
     "output_type": "stream",
     "text": [
      "\n",
      "🛒 Test Cart:\n",
      " - Oakwood Leather Wipes 16 Pack @ $3.50 x 5\n",
      " - Premium Blueberries 200g Punnet @ $8.90 x 7\n",
      " - Dari's Creamy Mushroom Soup 550g @ $6.80 x 1\n"
     ]
    },
    {
     "name": "stderr",
     "output_type": "stream",
     "text": [
      " 45%|████▌     | 45/100 [11:52<13:00, 14.18s/it]"
     ]
    },
    {
     "name": "stdout",
     "output_type": "stream",
     "text": [
      "\n",
      "🛒 Test Cart:\n",
      " - Mcobeauty Instant Concealer Light 10ml @ $20.00 x 7\n",
      " - Sashi's Secret Malaysian Chicken Curry Kit 350g @ $7.50 x 7\n",
      " - Armada Evergreen Garbage Bags Extra Large 20 Pack @ $3.90 x 3\n"
     ]
    },
    {
     "name": "stderr",
     "output_type": "stream",
     "text": [
      " 46%|████▌     | 46/100 [12:04<12:01, 13.35s/it]"
     ]
    },
    {
     "name": "stdout",
     "output_type": "stream",
     "text": [
      "\n",
      "🛒 Test Cart:\n",
      " - Bsc Energy Drink Bodyscience Ice Blast Flavour 500ml @ $3.00 x 3\n",
      " - Biozet Attack Plus Stain Power 2l @ $26.00 x 9\n",
      " - Yangarra Gsm 750ml @ $44.00 x 2\n",
      " - Bardinet Vsop French Brandy Brandy 1l @ $60.00 x 6\n"
     ]
    },
    {
     "name": "stderr",
     "output_type": "stream",
     "text": [
      " 47%|████▋     | 47/100 [12:19<12:24, 14.05s/it]"
     ]
    },
    {
     "name": "stdout",
     "output_type": "stream",
     "text": [
      "\n",
      "🛒 Test Cart:\n",
      " - Amyson Hot Kid Chocolate Milk Drink 125ml X 4 Pack @ $4.80 x 6\n",
      " - L'oreal Paris Elvive Extraordinary Oil Conditioner 700ml @ $12.00 x 9\n",
      " - John Bostonthe Shipyard Coastal Xpa Dry Hopped Cans 375ml X 4 Pack @ $15.00 x 8\n"
     ]
    },
    {
     "name": "stderr",
     "output_type": "stream",
     "text": [
      " 48%|████▊     | 48/100 [12:35<12:34, 14.51s/it]"
     ]
    },
    {
     "name": "stdout",
     "output_type": "stream",
     "text": [
      "\n",
      "🛒 Test Cart:\n",
      " - Original Juice Co. Black Label Apple & Blackcurrant 1.5l @ $6.50 x 6\n",
      " - Garnier Fructis Hair Food Banana Conditioner 350ml @ $13.00 x 5\n",
      " - Mint Food Storage Containers 920ml 3 Pack @ $3.50 x 7\n",
      " - Woolworths Lemon And Pepper Tuna 95g @ $1.10 x 5\n"
     ]
    },
    {
     "name": "stderr",
     "output_type": "stream",
     "text": [
      " 49%|████▉     | 49/100 [12:53<13:19, 15.67s/it]"
     ]
    },
    {
     "name": "stdout",
     "output_type": "stream",
     "text": [
      "\n",
      "🛒 Test Cart:\n",
      " - Vitasoy Protein Plus Unsweetened Soy Milk 1l @ $3.00 x 3\n",
      " - Woolworths Orange Juice Pulp Free 2l @ $5.00 x 2\n",
      " - Norsca Body Mist Watermelon 200ml @ $10.00 x 7\n",
      " - Decor Hydrate Tritan Drink Bottle Assorted Each @ $15.00 x 1\n"
     ]
    },
    {
     "name": "stderr",
     "output_type": "stream",
     "text": [
      " 50%|█████     | 50/100 [13:09<13:06, 15.73s/it]"
     ]
    },
    {
     "name": "stdout",
     "output_type": "stream",
     "text": [
      "\n",
      "🛒 Test Cart:\n",
      " - Oral B Pro 300 Kids Electric Toothbrush Each @ $90.00 x 4\n",
      " - Vanish Gold Pro Stain Remover Powder 2kg @ $36.00 x 5\n",
      " - Massel Ultracubes Beef 105g @ $4.00 x 9\n",
      " - Hershey's Choco Balls Salted Caramel 120g @ $5.50 x 6\n",
      " - Authentic Turkish Delight Rose 250g @ $7.00 x 6\n"
     ]
    },
    {
     "name": "stderr",
     "output_type": "stream",
     "text": [
      " 51%|█████     | 51/100 [13:29<13:57, 17.10s/it]"
     ]
    },
    {
     "name": "stdout",
     "output_type": "stream",
     "text": [
      "\n",
      "🛒 Test Cart:\n",
      " - Maui Moisture Hibiscus Water Shampoo For Thin & Fine Hair 385ml @ $26.00 x 10\n",
      " - Hismile Toothpaste Vanilla 60g @ $26.00 x 10\n",
      " - The Collective Protein Kefir Vanilla Bean 700g @ $6.00 x 4\n",
      " - I Pastai Fresh Pasta Potato Gnocchi 500g @ $6.00 x 7\n"
     ]
    },
    {
     "name": "stderr",
     "output_type": "stream",
     "text": [
      " 52%|█████▏    | 52/100 [13:46<13:30, 16.88s/it]"
     ]
    },
    {
     "name": "stdout",
     "output_type": "stream",
     "text": [
      "\n",
      "🛒 Test Cart:\n",
      " - Woolworths Apricot Halves In Juice Apricot 410g @ $2.50 x 2\n",
      " - Golden Circle Madarin, Apple & Passionfruit Juice 2l @ $4.80 x 10\n",
      " - Hard Rated Cans 375ml X 24 Case @ $115.00 x 7\n"
     ]
    },
    {
     "name": "stderr",
     "output_type": "stream",
     "text": [
      " 53%|█████▎    | 53/100 [13:58<12:02, 15.37s/it]"
     ]
    },
    {
     "name": "stdout",
     "output_type": "stream",
     "text": [
      "\n",
      "🛒 Test Cart:\n",
      " - Moira Mac's Smoked Chicken Breast 300g @ $8.00 x 9\n",
      " - Garnier Fructis Hair Food Smoothing Macadamia 390ml @ $14.00 x 4\n",
      " - Cobs Natural Popcorn Sea Salt Multipack 5 Pack @ $8.00 x 2\n",
      " - Mersey Valley Classic Cheddar Cheese Block 235g @ $9.90 x 5\n",
      " - Masterfoods Moroccan Spice Blend No Added Salt 38g @ $4.25 x 1\n"
     ]
    },
    {
     "name": "stderr",
     "output_type": "stream",
     "text": [
      " 54%|█████▍    | 54/100 [14:18<12:54, 16.83s/it]"
     ]
    },
    {
     "name": "stdout",
     "output_type": "stream",
     "text": [
      "\n",
      "🛒 Test Cart:\n",
      " - Smirnoff Ice Red Vodka Bottles 300ml X4 Pack @ $30.00 x 1\n",
      " - Woolworths Apple Lattice Pie 750g @ $12.50 x 1\n",
      " - Halo Top Salted Caramel Frozen Dessert Tub 473ml @ $10.50 x 1\n",
      " - Omo Laundry Powder Sensitive Front & Top Loader 5kg @ $34.00 x 8\n"
     ]
    },
    {
     "name": "stderr",
     "output_type": "stream",
     "text": [
      " 55%|█████▌    | 55/100 [14:34<12:24, 16.55s/it]"
     ]
    },
    {
     "name": "stdout",
     "output_type": "stream",
     "text": [
      "\n",
      "🛒 Test Cart:\n",
      " - Ina Paarman's Braai & Grill Shaker 200ml @ $5.00 x 6\n",
      " - Grand Italian Chicken & Basil Pesto Ravioli 325g @ $7.00 x 3\n",
      " - Vanish Gold Stain Remover Gel 2l @ $32.00 x 7\n",
      " - D'orsogna Natural Leg Ham Portion 700g @ $16.00 x 9\n",
      " - Squid Brand Premium Fish Sauce 300ml @ $4.50 x 3\n"
     ]
    },
    {
     "name": "stderr",
     "output_type": "stream",
     "text": [
      " 56%|█████▌    | 56/100 [14:54<12:54, 17.59s/it]"
     ]
    },
    {
     "name": "stdout",
     "output_type": "stream",
     "text": [
      "\n",
      "🛒 Test Cart:\n",
      " - Haday Gold Label Oyster Sauce 530ml @ $3.00 x 3\n",
      " - Jarrah Salted Caramel Latte Instant Coffee 250g @ $7.50 x 2\n",
      " - Belvita Breakfast Biscuits Honey & Nut With Chocolate Chips 6 Pack @ $4.50 x 4\n"
     ]
    },
    {
     "name": "stderr",
     "output_type": "stream",
     "text": [
      " 57%|█████▋    | 57/100 [15:06<11:24, 15.92s/it]"
     ]
    },
    {
     "name": "stdout",
     "output_type": "stream",
     "text": [
      "\n",
      "🛒 Test Cart:\n",
      " - Betty Crocker Cinnamon Crumble Muffin Mix Muffin Mix 500g @ $7.00 x 1\n",
      " - Mersey Valley Original Vintage Cheddar Cheese Block 180g @ $8.70 x 7\n",
      " - Edge Mens 5 Blade Kit Plus 2 Pack @ $7.50 x 10\n",
      " - Gourmet Garden Mint Lightly Dried 5g @ $4.00 x 2\n"
     ]
    },
    {
     "name": "stderr",
     "output_type": "stream",
     "text": [
      " 58%|█████▊    | 58/100 [15:22<11:14, 16.07s/it]"
     ]
    },
    {
     "name": "stdout",
     "output_type": "stream",
     "text": [
      "\n",
      "🛒 Test Cart:\n",
      " - Cold Power Sensitive Laundry Capsules Washing Detergent 26 Pack @ $24.00 x 7\n",
      " - Heinz Beanz Baked Beans In Tomato Sauce 300g @ $2.80 x 2\n",
      " - Reef Tanning Oil Coconut Sunscreen Spf 30+ 125ml @ $15.00 x 1\n"
     ]
    },
    {
     "name": "stderr",
     "output_type": "stream",
     "text": [
      " 59%|█████▉    | 59/100 [15:34<10:08, 14.84s/it]"
     ]
    },
    {
     "name": "stdout",
     "output_type": "stream",
     "text": [
      "\n",
      "🛒 Test Cart:\n",
      " - Seatease Toilet Seat Cover Disposable 10 Pack @ $3.00 x 2\n",
      " - 19 Crimes Cabernet Sauvignon 750ml @ $28.00 x 5\n",
      " - Ginger Fresh Per Kg @ $27.00 x 6\n",
      " - The Happy Snack Company Roasted Fava Beans Sea Salt And Balsamic Vinegar 6 Pack @ $6.00 x 8\n",
      " - Heinz Beanz Baked Beans In Bbq Sauce Barbecue Beans 555g @ $3.50 x 3\n"
     ]
    },
    {
     "name": "stderr",
     "output_type": "stream",
     "text": [
      " 60%|██████    | 60/100 [15:54<10:53, 16.34s/it]"
     ]
    },
    {
     "name": "stdout",
     "output_type": "stream",
     "text": [
      "\n",
      "🛒 Test Cart:\n",
      " - Katoomba Whole Black Urid 1kg @ $4.00 x 3\n",
      " - Ben's Original Savoury Chicken Flavour Microwave Rice Pouch 250g @ $4.00 x 9\n",
      " - Harveys Bristol Sherry Cream 750ml @ $30.00 x 10\n",
      " - Mcobeauty Hair Elastics Rope Neutrals 5 Pack @ $12.00 x 4\n"
     ]
    },
    {
     "name": "stderr",
     "output_type": "stream",
     "text": [
      " 61%|██████    | 61/100 [16:10<10:29, 16.14s/it]"
     ]
    },
    {
     "name": "stdout",
     "output_type": "stream",
     "text": [
      "\n",
      "🛒 Test Cart:\n",
      " - Coca-cola Cherry 330ml @ $3.15 x 2\n",
      " - Winesmiths Premium Shiraz 2l @ $16.00 x 1\n",
      " - Inspire Speckle Microwave Safe Mug Assorted Each @ $3.50 x 1\n",
      " - Fish Well Preserved Vege Yuquan 350g @ $3.70 x 9\n",
      " - Mitani Chicken Salt 200g @ $3.80 x 1\n"
     ]
    },
    {
     "name": "stderr",
     "output_type": "stream",
     "text": [
      " 62%|██████▏   | 62/100 [16:32<11:29, 18.15s/it]"
     ]
    },
    {
     "name": "stdout",
     "output_type": "stream",
     "text": [
      "\n",
      "🛒 Test Cart:\n",
      " - Red Rock Deli Buffalo Sauce & Creamy Ranch Dip 190g @ $9.60 x 5\n",
      " - Decor Junior Sip Stainless Steel Straw Bottle Assorted Each @ $14.00 x 9\n",
      " - Sard Super Power Stain Remover Powder Soaker 900g @ $11.00 x 2\n",
      " - Green Gardener Garden Bypass Pruner Each @ $10.00 x 3\n",
      " - Little Fat Lamb Cream Salted Caramel 700ml @ $17.50 x 3\n"
     ]
    },
    {
     "name": "stderr",
     "output_type": "stream",
     "text": [
      " 63%|██████▎   | 63/100 [16:52<11:25, 18.54s/it]"
     ]
    },
    {
     "name": "stdout",
     "output_type": "stream",
     "text": [
      "\n",
      "🛒 Test Cart:\n",
      " - Remedy Organic Kombucha Lemonade 250ml X 4 Pack @ $9.50 x 9\n",
      " - L'oreal Excellence Creme Hair Colour 2 Black Brown Each @ $27.00 x 1\n",
      " - Jack The Barber Medium Pomade Firm Hold 95g @ $16.00 x 9\n",
      " - Depend Real Fit Incontinence Men Medium 8 Pack @ $15.50 x 6\n"
     ]
    },
    {
     "name": "stderr",
     "output_type": "stream",
     "text": [
      " 64%|██████▍   | 64/100 [17:08<10:43, 17.87s/it]"
     ]
    },
    {
     "name": "stdout",
     "output_type": "stream",
     "text": [
      "\n",
      "🛒 Test Cart:\n",
      " - Ufc Canned Bean Sprouts 410g @ $2.70 x 9\n",
      " - Erawan Tapioca Starch 500g @ $1.70 x 2\n",
      " - P&n Apple Mango Juice 2l @ $3.50 x 9\n",
      " - Bic Velocity Mechanical Pencil 2 Pack @ $5.50 x 5\n",
      " - Sirena Chicken Pesto Pasta 190g @ $4.30 x 6\n"
     ]
    },
    {
     "name": "stderr",
     "output_type": "stream",
     "text": [
      " 65%|██████▌   | 65/100 [17:32<11:25, 19.59s/it]"
     ]
    },
    {
     "name": "stdout",
     "output_type": "stream",
     "text": [
      "\n",
      "🛒 Test Cart:\n",
      " - Cheetos Puffs Cheese Snacks Party Bag Share Pack 165g @ $4.00 x 5\n",
      " - Podravka Liver Paste 95g @ $2.45 x 3\n",
      " - Palmolive Foaming Liquid Hand Wash Soap Refill Raspberry 1l @ $9.00 x 9\n"
     ]
    },
    {
     "name": "stderr",
     "output_type": "stream",
     "text": [
      " 66%|██████▌   | 66/100 [17:44<09:48, 17.30s/it]"
     ]
    },
    {
     "name": "stdout",
     "output_type": "stream",
     "text": [
      "\n",
      "🛒 Test Cart:\n",
      " - Salmon Tasmanian Atlantic Fillets Skin On Per Kg @ $42.00 x 5\n",
      " - Vaalia Kids Probiotic Yoghurt Pouch Tropical 140g @ $2.40 x 8\n",
      " - Mirabella Touch Lamp With Wireless Charger Each @ $25.00 x 7\n",
      " - Who Gives A Crap Recycled Paper Towels Double Length Rolls 2 Pack @ $6.00 x 3\n",
      " - Miguel Maestre Whole Orange Syrup Cake 2 Pack @ $12.00 x 5\n"
     ]
    },
    {
     "name": "stderr",
     "output_type": "stream",
     "text": [
      " 67%|██████▋   | 67/100 [18:05<10:05, 18.34s/it]"
     ]
    },
    {
     "name": "stdout",
     "output_type": "stream",
     "text": [
      "\n",
      "🛒 Test Cart:\n",
      " - Faber-castell Colouring Book Unicorns In Oz 60 Pages Each @ $6.95 x 8\n",
      " - David Beckham Intimately Deodorant Body Spray 150ml @ $9.00 x 6\n",
      " - Mr Chen's Thai Red Curry Paste 190g @ $2.30 x 9\n"
     ]
    },
    {
     "name": "stderr",
     "output_type": "stream",
     "text": [
      " 68%|██████▊   | 68/100 [18:17<08:46, 16.46s/it]"
     ]
    },
    {
     "name": "stdout",
     "output_type": "stream",
     "text": [
      "\n",
      "🛒 Test Cart:\n",
      " - Sandhurst Pitted Kalamata Olives 300g @ $3.80 x 5\n",
      " - Pandaroo Thai Palm Sugar 220g @ $2.75 x 9\n",
      " - Woolworths Choccy Slams Biscuits 200g @ $2.20 x 6\n"
     ]
    },
    {
     "name": "stderr",
     "output_type": "stream",
     "text": [
      " 69%|██████▉   | 69/100 [18:32<08:16, 16.01s/it]"
     ]
    },
    {
     "name": "stdout",
     "output_type": "stream",
     "text": [
      "\n",
      "🛒 Test Cart:\n",
      " - Gillette Fusion 5 Manual Mens Razor Blades 8 Pack @ $54.00 x 1\n",
      " - Belvita Chocolate Breakfast Biscuits 6 Pack 300g @ $4.50 x 10\n",
      " - Woolworths Wild Alaskan Salmon & Lentil Salad 185g @ $3.50 x 5\n",
      " - Nestle Carnation Creamy Evaporated Milk 340ml @ $3.00 x 8\n",
      " - Woolworths Herb & Garlic 10 Beef Sausages 550g @ $5.90 x 9\n"
     ]
    },
    {
     "name": "stderr",
     "output_type": "stream",
     "text": [
      " 70%|███████   | 70/100 [18:52<08:37, 17.27s/it]"
     ]
    },
    {
     "name": "stdout",
     "output_type": "stream",
     "text": [
      "\n",
      "🛒 Test Cart:\n",
      " - Coopers Carbonated Drops 250g @ $4.50 x 10\n",
      " - Mentos Mints 3 Pack @ $3.45 x 1\n",
      " - Bickford's Lemon Cordial 750ml @ $5.00 x 7\n"
     ]
    },
    {
     "name": "stderr",
     "output_type": "stream",
     "text": [
      " 71%|███████   | 71/100 [19:04<07:37, 15.77s/it]"
     ]
    },
    {
     "name": "stdout",
     "output_type": "stream",
     "text": [
      "\n",
      "🛒 Test Cart:\n",
      " - Twinings Live Well Revive Tea Bags 20 Pack @ $8.50 x 2\n",
      " - Woolworths Chicken Burgers Salt & Pepper 440g @ $7.00 x 5\n",
      " - Thomas Dux Spanish Manchego From The Deli Per Kg @ $70.00 x 7\n",
      " - Pukka Peppermint & Licorice Organic Herbal Tea Sachets 20 Pack @ $8.50 x 3\n"
     ]
    },
    {
     "name": "stderr",
     "output_type": "stream",
     "text": [
      " 72%|███████▏  | 72/100 [19:21<07:27, 15.99s/it]"
     ]
    },
    {
     "name": "stdout",
     "output_type": "stream",
     "text": [
      "\n",
      "🛒 Test Cart:\n",
      " - Woolworths Chocolate Chunk Cookies 5 Pack @ $5.50 x 2\n",
      " - Du'it Foot & Heel Balm Plus 75g @ $15.00 x 5\n",
      " - Adesso Steam Iron Each @ $14.00 x 7\n"
     ]
    },
    {
     "name": "stderr",
     "output_type": "stream",
     "text": [
      " 73%|███████▎  | 73/100 [19:33<06:44, 14.98s/it]"
     ]
    },
    {
     "name": "stdout",
     "output_type": "stream",
     "text": [
      "\n",
      "🛒 Test Cart:\n",
      " - Infuzions Veggie Straws 5 Pack @ $8.00 x 9\n",
      " - Tic Tac Peppermint 49g @ $3.20 x 1\n",
      " - Uncle Tobys Goodness Shakes Mixed Berry 140g @ $11.00 x 1\n"
     ]
    },
    {
     "name": "stderr",
     "output_type": "stream",
     "text": [
      " 74%|███████▍  | 74/100 [19:45<06:06, 14.11s/it]"
     ]
    },
    {
     "name": "stdout",
     "output_type": "stream",
     "text": [
      "\n",
      "🛒 Test Cart:\n",
      " - Mcobeauty Hydrate Daily Moisture Boost 50ml @ $39.00 x 1\n",
      " - Woolworths Sweet & Juicy Mandarins 750g Prepack @ $4.50 x 9\n",
      " - Betty Crocker Strawberry Gluten Free Frosting 400g @ $6.50 x 8\n"
     ]
    },
    {
     "name": "stderr",
     "output_type": "stream",
     "text": [
      " 75%|███████▌  | 75/100 [19:58<05:39, 13.58s/it]"
     ]
    },
    {
     "name": "stdout",
     "output_type": "stream",
     "text": [
      "\n",
      "🛒 Test Cart:\n",
      " - Ho Mai Money Bags With Prawn 320g @ $7.00 x 9\n",
      " - Easiyo Natural Unsweetened Yogurt Base 140g @ $5.70 x 10\n",
      " - Sorbent Facial Tissues 4ply Pocket Pack 6 Pack @ $2.20 x 3\n",
      " - Tip Top Bakery Sandwich Thins Wholemeal Bread 6 Pack @ $3.90 x 2\n"
     ]
    },
    {
     "name": "stderr",
     "output_type": "stream",
     "text": [
      " 76%|███████▌  | 76/100 [20:14<05:47, 14.49s/it]"
     ]
    },
    {
     "name": "stdout",
     "output_type": "stream",
     "text": [
      "\n",
      "🛒 Test Cart:\n",
      " - Armada Bbq Foil Trays With Lids 2 Pack @ $4.00 x 10\n",
      " - Hot Wheels Pull-back Speeders Assorted Each @ $12.50 x 1\n",
      " - Macro Organic Oat Milk Unsweetened 1l @ $2.25 x 10\n",
      " - John Frieda Frizz Ease Dream Curls Defining Creme 150ml @ $21.00 x 5\n"
     ]
    },
    {
     "name": "stderr",
     "output_type": "stream",
     "text": [
      " 77%|███████▋  | 77/100 [20:31<05:46, 15.06s/it]"
     ]
    },
    {
     "name": "stdout",
     "output_type": "stream",
     "text": [
      "\n",
      "🛒 Test Cart:\n",
      " - Brioche Gourmet Brioche Sliders 10 Pack @ $6.50 x 4\n",
      " - Equal Sweetener Tablets 600 Tablets @ $13.00 x 3\n",
      " - Tom Organic Reusable Pad Regular Each @ $17.00 x 1\n",
      " - Woolworths Lamb Forequarter Chops 2 - 3 Pieces 500g -750g @ $14.25 x 7\n"
     ]
    },
    {
     "name": "stderr",
     "output_type": "stream",
     "text": [
      " 78%|███████▊  | 78/100 [20:46<05:35, 15.27s/it]"
     ]
    },
    {
     "name": "stdout",
     "output_type": "stream",
     "text": [
      "\n",
      "🛒 Test Cart:\n",
      " - Northern Beaches Coffee Bearded Barista Coffee Beans 1kg @ $27.00 x 3\n",
      " - Mr Chen's Panko Bread Crumbs 250g @ $2.50 x 3\n",
      " - Avofresh Smashed Avocado 160g @ $5.50 x 10\n",
      " - Mccain Healthy Choice Chicken Carbonara Frozen Meal 300g @ $5.00 x 4\n",
      " - Continental Recipe Base Creamy Chicken Stroganoff 40g @ $5.40 x 2\n"
     ]
    },
    {
     "name": "stderr",
     "output_type": "stream",
     "text": [
      " 79%|███████▉  | 79/100 [21:06<05:47, 16.53s/it]"
     ]
    },
    {
     "name": "stdout",
     "output_type": "stream",
     "text": [
      "\n",
      "🛒 Test Cart:\n",
      " - Willow Insulated Cooler 25 Litres Each @ $46.00 x 2\n",
      " - 3m Command Utensil Hooks Clear Value Pack 6 Pack @ $14.70 x 6\n",
      " - Whiz Pop Bang Party Blowouts Assorted 20 Pack @ $3.25 x 2\n",
      " - Grand Italian Tuscans Finest Veal Tortellini 325g @ $7.00 x 8\n"
     ]
    },
    {
     "name": "stderr",
     "output_type": "stream",
     "text": [
      " 80%|████████  | 80/100 [21:22<05:29, 16.45s/it]"
     ]
    },
    {
     "name": "stdout",
     "output_type": "stream",
     "text": [
      "\n",
      "🛒 Test Cart:\n",
      " - Brut Deodorant Roll On Stick Original 75g @ $7.00 x 6\n",
      " - Wicked Sister Vanilla Bean Rice Pudding 2x170g @ $4.90 x 6\n",
      " - Mint Soft Grip Can Opener Each @ $6.50 x 4\n"
     ]
    },
    {
     "name": "stderr",
     "output_type": "stream",
     "text": [
      " 81%|████████  | 81/100 [21:35<04:49, 15.23s/it]"
     ]
    },
    {
     "name": "stdout",
     "output_type": "stream",
     "text": [
      "\n",
      "🛒 Test Cart:\n",
      " - Armada Serviettes Unicorn 20 Pack @ $3.00 x 1\n",
      " - Pantene Pro-v Colour Protection Shampoo For Coloured Hair 900ml @ $20.00 x 4\n",
      " - Armada Paper Cups 25 Pack @ $3.20 x 1\n",
      " - Serrano Arroyo Gourmet Jamon Loncheado 200g @ $9.50 x 6\n"
     ]
    },
    {
     "name": "stderr",
     "output_type": "stream",
     "text": [
      " 82%|████████▏ | 82/100 [21:50<04:37, 15.42s/it]"
     ]
    },
    {
     "name": "stdout",
     "output_type": "stream",
     "text": [
      "\n",
      "🛒 Test Cart:\n",
      " - Beerenberg Blood Orange Marmalade 300g @ $6.00 x 6\n",
      " - Egmont Honey Manuka Honey Mgo 50+ 250g @ $12.50 x 6\n",
      " - Inspire Outdoor Picnic Rug Assorted Each @ $14.00 x 1\n",
      " - Liddells Lactose Free Full Cream Long Life Uht Milk 1l @ $3.00 x 3\n"
     ]
    },
    {
     "name": "stderr",
     "output_type": "stream",
     "text": [
      " 83%|████████▎ | 83/100 [22:06<04:22, 15.47s/it]"
     ]
    },
    {
     "name": "stdout",
     "output_type": "stream",
     "text": [
      "\n",
      "🛒 Test Cart:\n",
      " - Korbond Instant Repair Double Sided Tape 4.6m Each @ $5.00 x 3\n",
      " - Yoplait Le Rice Classic Vanilla 150g X 2 Pack @ $7.50 x 10\n",
      " - Sparletta Creme Soda 300ml @ $2.80 x 9\n"
     ]
    },
    {
     "name": "stderr",
     "output_type": "stream",
     "text": [
      " 84%|████████▍ | 84/100 [22:18<03:50, 14.38s/it]"
     ]
    },
    {
     "name": "stdout",
     "output_type": "stream",
     "text": [
      "\n",
      "🛒 Test Cart:\n",
      " - Will & Co Slow Jam Nespresso Compatible Coffee Capsules 10 Pack @ $9.20 x 4\n",
      " - Obento Tonkatsu Sauce 250ml @ $3.60 x 1\n",
      " - Cottee's Strawberry Jam 375g @ $2.80 x 8\n",
      " - Starbucks By Nespresso Single Origin Colombia Coffee Pods Capsules 36 Pack @ $24.00 x 10\n",
      " - White King 4 In 1 Multipurpose Cleaner Spray Lemon Lime 500ml @ $5.75 x 10\n"
     ]
    },
    {
     "name": "stderr",
     "output_type": "stream",
     "text": [
      " 85%|████████▌ | 85/100 [22:37<03:58, 15.91s/it]"
     ]
    },
    {
     "name": "stdout",
     "output_type": "stream",
     "text": [
      "\n",
      "🛒 Test Cart:\n",
      " - Goulburn Valley Peaches In Mango Nectar 700g @ $5.00 x 3\n",
      " - Woolworths Beef Chuck 650g - 1.3kg @ $22.75 x 3\n",
      " - Woolworths Lebanese Cucumber 500g Pack @ $8.90 x 8\n",
      " - Sensodyne Complete Care Cool Mint Sensitivity Toothpaste 100g @ $12.30 x 5\n"
     ]
    },
    {
     "name": "stderr",
     "output_type": "stream",
     "text": [
      " 86%|████████▌ | 86/100 [22:53<03:42, 15.89s/it]"
     ]
    },
    {
     "name": "stdout",
     "output_type": "stream",
     "text": [
      "\n",
      "🛒 Test Cart:\n",
      " - Barilla Pasta Rigatoni 500g @ $3.50 x 9\n",
      " - Ayam Stir Fry Paste Thai Basil Chilli Medium 185g @ $4.50 x 10\n",
      " - Tassal Raw Aussie Tiger Prawns 1kg @ $26.50 x 4\n",
      " - Essentials Cake Mix Vanilla 340g @ $1.20 x 3\n",
      " - Woolworths Wholemeal Sandwich Hi-fibre Bread 700g @ $3.50 x 2\n"
     ]
    },
    {
     "name": "stderr",
     "output_type": "stream",
     "text": [
      " 87%|████████▋ | 87/100 [23:17<03:59, 18.44s/it]"
     ]
    },
    {
     "name": "stdout",
     "output_type": "stream",
     "text": [
      "\n",
      "🛒 Test Cart:\n",
      " - Macro Organic Cashews Nuts 500g @ $15.00 x 3\n",
      " - Ozkleen Shower Power Citrus Bathroom & Shower Cleaner Trigger 500ml @ $7.35 x 1\n",
      " - Vileda Supersized Cotton Mop Refill Supersize Cotton Refill Each @ $14.00 x 6\n",
      " - Beerenberg Smoky Bbq Relish 260g @ $6.30 x 1\n",
      " - Maybelline Lasting Fix Make Up Setting Spray 100ml @ $19.00 x 1\n"
     ]
    },
    {
     "name": "stderr",
     "output_type": "stream",
     "text": [
      " 88%|████████▊ | 88/100 [23:37<03:45, 18.77s/it]"
     ]
    },
    {
     "name": "stdout",
     "output_type": "stream",
     "text": [
      "\n",
      "🛒 Test Cart:\n",
      " - Nature's Charm Oat Milk Sweetened Condensed Milk 320g @ $4.80 x 6\n",
      " - Mcobeauty Lip Oil Hydrating Treatment Birthday Cake 9ml @ $14.00 x 2\n",
      " - Bulla Ice Cream Vanilla Tub 4l @ $10.50 x 5\n",
      " - Mcobeauty Cheek & Lip Tint Rose Glow Each @ $14.00 x 10\n",
      " - Mists & Shadows Pinot Grigio 750ml @ $20.00 x 1\n"
     ]
    },
    {
     "name": "stderr",
     "output_type": "stream",
     "text": [
      " 89%|████████▉ | 89/100 [23:58<03:32, 19.32s/it]"
     ]
    },
    {
     "name": "stdout",
     "output_type": "stream",
     "text": [
      "\n",
      "🛒 Test Cart:\n",
      " - Always Fresh Crackers Caramelised Onion 100g @ $4.50 x 4\n",
      " - Twinings Australian Afternoon Black Tea Bags 10 Pack @ $3.00 x 5\n",
      " - Famous House Banana Milk 500ml @ $2.60 x 3\n"
     ]
    },
    {
     "name": "stderr",
     "output_type": "stream",
     "text": [
      " 90%|█████████ | 90/100 [24:10<02:51, 17.15s/it]"
     ]
    },
    {
     "name": "stdout",
     "output_type": "stream",
     "text": [
      "\n",
      "🛒 Test Cart:\n",
      " - Macro Organic Fairtrade Ground Coffee Medium 200g @ $6.60 x 10\n",
      " - Ob Finest Gluten Free Speciality Crackers Fig & Pistachio 130g @ $6.50 x 4\n",
      " - Perfect Italiano Parmesan Block 200g @ $7.50 x 6\n",
      " - Crest Lightning To Usb-a 1.2m Flat Cable Each @ $22.00 x 3\n",
      " - Nutribullet 600 Series Each @ $99.00 x 5\n"
     ]
    },
    {
     "name": "stderr",
     "output_type": "stream",
     "text": [
      " 91%|█████████ | 91/100 [24:29<02:40, 17.81s/it]"
     ]
    },
    {
     "name": "stdout",
     "output_type": "stream",
     "text": [
      "\n",
      "🛒 Test Cart:\n",
      " - D'orsogna Shortcut Bacon 1kg @ $20.00 x 4\n",
      " - Mckenzie's Pepper Black Corns Blended 200g @ $5.95 x 6\n",
      " - Up&go Protein Energize Iced Coffee Flavour Breakfast Drink 250ml X12 Pack @ $17.50 x 7\n",
      " - Dollar Sweets Peppermints Extra Strong 150g Bag @ $2.50 x 8\n",
      " - Hot Kids Milk Beverage 245ml @ $1.95 x 7\n"
     ]
    },
    {
     "name": "stderr",
     "output_type": "stream",
     "text": [
      " 92%|█████████▏| 92/100 [24:54<02:39, 19.92s/it]"
     ]
    },
    {
     "name": "stdout",
     "output_type": "stream",
     "text": [
      "\n",
      "🛒 Test Cart:\n",
      " - Robert Timms Instant Coffee Premium Full-bodied 500g @ $20.00 x 3\n",
      " - Mountain Goat Very Enjoyable Beer Cans 375ml X24 Case @ $61.00 x 7\n",
      " - Duck Toilet Cleaner, Blue Solid Tolet Rim Block Twin Refills 2x40g @ $5.00 x 1\n"
     ]
    },
    {
     "name": "stderr",
     "output_type": "stream",
     "text": [
      " 93%|█████████▎| 93/100 [25:05<02:01, 17.39s/it]"
     ]
    },
    {
     "name": "stdout",
     "output_type": "stream",
     "text": [
      "\n",
      "🛒 Test Cart:\n",
      " - Gardman Zen Buddha Statue Each @ $40.00 x 4\n",
      " - Epzen Whipped Body Wash 200ml @ $22.00 x 3\n",
      " - Woolworths Australian Quick Oats 1.5kg @ $2.60 x 2\n",
      " - Bonds Mens Underwear Hipster Brief Medium Assorted 5 Pack @ $32.00 x 4\n",
      " - Wallaby Self Raising All Purpose Flour 1kg @ $4.00 x 8\n"
     ]
    },
    {
     "name": "stderr",
     "output_type": "stream",
     "text": [
      " 94%|█████████▍| 94/100 [25:25<01:47, 17.91s/it]"
     ]
    },
    {
     "name": "stdout",
     "output_type": "stream",
     "text": [
      "\n",
      "🛒 Test Cart:\n",
      " - Poppin Microwave Popcorn Triple Butter Flavour Explosion 100g X4 Pack @ $7.00 x 9\n",
      " - Frisp Diced Onion, Carrot & Celery 200g @ $2.00 x 8\n",
      " - Perfect Italiano Romano Cheese Block 200g @ $7.50 x 8\n",
      " - Picasso Kitchen Pizza Dough Ball 250g @ $2.00 x 6\n",
      " - Nice & Natural Chocolate Nut Bar Peanut & Almond 6 Pack @ $5.50 x 8\n"
     ]
    },
    {
     "name": "stderr",
     "output_type": "stream",
     "text": [
      " 95%|█████████▌| 95/100 [25:47<01:36, 19.21s/it]"
     ]
    },
    {
     "name": "stdout",
     "output_type": "stream",
     "text": [
      "\n",
      "🛒 Test Cart:\n",
      " - Hahn Super Dry Gluten Free Bottle 330ml X24 Case @ $61.00 x 4\n",
      " - Du'it Tough Hands Intensive Repair Cream 150g @ $12.50 x 9\n",
      " - Allen's Snakes Alive Lollies Family Size Bag 405g @ $6.50 x 10\n"
     ]
    },
    {
     "name": "stderr",
     "output_type": "stream",
     "text": [
      " 96%|█████████▌| 96/100 [26:00<01:09, 17.41s/it]"
     ]
    },
    {
     "name": "stdout",
     "output_type": "stream",
     "text": [
      "\n",
      "🛒 Test Cart:\n",
      " - Protea Foods South African Biltong Stokkies Peri Peri 100g @ $14.25 x 1\n",
      " - John West Wild Brisling Sardines In Tomato Sauce 110g @ $3.40 x 9\n",
      " - Baron Samedi Spiced Rum 700ml @ $60.00 x 10\n"
     ]
    },
    {
     "name": "stderr",
     "output_type": "stream",
     "text": [
      " 97%|█████████▋| 97/100 [26:13<00:48, 16.17s/it]"
     ]
    },
    {
     "name": "stdout",
     "output_type": "stream",
     "text": [
      "\n",
      "🛒 Test Cart:\n",
      " - Air Wick Botanica Coconut Milk & Indonesian Patchouli Candle 205g @ $20.00 x 9\n",
      " - Thankyou. Body Wash Botanical Lemon Myrtle & Oat Milk Pump 1l @ $17.95 x 2\n",
      " - Essentials Parmesan Cheese 100g @ $2.00 x 7\n",
      " - Garnier Nutrisse Hair Colour 4.15 Iced Chestnut Each @ $17.00 x 8\n"
     ]
    },
    {
     "name": "stderr",
     "output_type": "stream",
     "text": [
      " 98%|█████████▊| 98/100 [26:29<00:32, 16.01s/it]"
     ]
    },
    {
     "name": "stdout",
     "output_type": "stream",
     "text": [
      "\n",
      "🛒 Test Cart:\n",
      " - Passage To Asia Satay Chicken 200g @ $3.80 x 7\n",
      " - Delta Chicco D'oro Ground Coffee 1kg @ $15.00 x 10\n",
      " - Mission Salt Reduced Tortillas 12 Pack @ $4.50 x 7\n",
      " - Tia Maria Liqueur 700ml @ $46.00 x 3\n"
     ]
    },
    {
     "name": "stderr",
     "output_type": "stream",
     "text": [
      " 99%|█████████▉| 99/100 [26:45<00:16, 16.05s/it]"
     ]
    },
    {
     "name": "stdout",
     "output_type": "stream",
     "text": [
      "\n",
      "🛒 Test Cart:\n",
      " - Dettol Antibacterial Liquid Hand Wash Hand Soap Refill Refresh 950ml @ $10.00 x 4\n",
      " - Macro Organic Fairtrade Coffee Beans Medium 200g @ $6.60 x 2\n",
      " - Woolworths Popcorn Lightly Salted 80g @ $2.10 x 4\n",
      " - Mclintocks Vanilla Fresh Fridge Wipe & Deodorizer 500ml @ $5.25 x 3\n"
     ]
    },
    {
     "name": "stderr",
     "output_type": "stream",
     "text": [
      "100%|██████████| 100/100 [27:01<00:00, 16.22s/it]"
     ]
    },
    {
     "name": "stdout",
     "output_type": "stream",
     "text": [
      "Exported to Results/smart_substitutes_woolworths.csv\n"
     ]
    },
    {
     "name": "stderr",
     "output_type": "stream",
     "text": [
      "\n"
     ]
    }
   ],
   "source": [
    "if __name__ == \"__main__\":\n",
    "    df_run = add_smart_preference_scores_fast(df_sample)\n",
    "    rows = []\n",
    "    for cart_id in tqdm(range(1, 101)):\n",
    "        size = random.randint(3, 5)\n",
    "        cart_res = test_cart_with_alternatives(df_run, size)\n",
    "        for name, data in cart_res.items():\n",
    "            orig = data['orig']\n",
    "            alts = data['alts']\n",
    "            top = alts[0] if isinstance(alts, list) and alts else {}\n",
    "            rows.append({\n",
    "                'cart_id': cart_id,\n",
    "                'original_item': name,\n",
    "                'orig_price': orig['unit_price'],\n",
    "                'alt_item': top.get('cheaper', 'N/A'),\n",
    "                'alt_price': top.get('unit_price'),\n",
    "                'priority': top.get('priority'),\n",
    "            })\n",
    "    out_df = pd.DataFrame(rows)\n",
    "    out_path = f\"Results/smart_substitutes_{ds_type}.csv\"\n",
    "    os.makedirs(os.path.dirname(out_path), exist_ok=True)\n",
    "    out_df.to_csv(out_path, index=False)\n",
    "    print(f\"Exported to {out_path}\")"
   ]
  },
  {
   "cell_type": "markdown",
   "id": "76417e3d",
   "metadata": {},
   "source": [
    "## 8. Next Steps & Extensions\n",
    "\n",
    "- **Custom scoring**: add sustainability, nutritional info, or promo flags  \n",
    "- **Advanced NLP**: use word embeddings or sentence transformers for similarity  \n",
    "- **UI integration**: wrap into a web service or in-app recommendation widget  \n",
    "- **A/B testing**: validate substitute suggestions with real user engagement data  \n",
    "\n",
    "*Feel free to adapt each cell to your data schema and business rules!*"
   ]
  }
 ],
 "metadata": {
  "kernelspec": {
   "display_name": "myyenv",
   "language": "python",
   "name": "myyenv"
  },
  "language_info": {
   "codemirror_mode": {
    "name": "ipython",
    "version": 3
   },
   "file_extension": ".py",
   "mimetype": "text/x-python",
   "name": "python",
   "nbconvert_exporter": "python",
   "pygments_lexer": "ipython3",
   "version": "3.12.2"
  }
 },
 "nbformat": 4,
 "nbformat_minor": 5
}
