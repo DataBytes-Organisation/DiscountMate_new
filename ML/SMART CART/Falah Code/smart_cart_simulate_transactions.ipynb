{
  "cells": [
    {
      "cell_type": "code",
      "execution_count": null,
      "id": "81cbd6bb",
      "metadata": {},
      "outputs": [],
      "source": [
        "# Data Ingestion & Cleaning\n",
        "import pandas as pd\n",
        "import numpy as np\n",
        "import uuid\n",
        "from datetime import datetime\n",
        "from datetime import timedelta\n",
        "import random"
      ]
    },
    {
      "cell_type": "code",
      "execution_count": null,
      "id": "e396da0a",
      "metadata": {},
      "outputs": [],
      "source": [
        "def simulate_transactions(products_df, user_df, product_tiers, start_date=\"2022-08-01\", end_date=\"2025-08-01\"):\n",
        "    start_date = pd.to_datetime(start_date)\n",
        "    end_date = pd.to_datetime(end_date)\n",
        "    \n",
        "    high, med, low = product_tiers\n",
        "    rows = []\n",
        "    \n",
        "    # Mean and std per customer type (can adjust for realism)\n",
        "    transaction_params = {\n",
        "        'Loyal': {'mean': 10000, 'std': 1500},\n",
        "        'Frequent': {'mean': 6500, 'std': 1000},\n",
        "        'Occasional': {'mean': 3000, 'std': 800}\n",
        "    }\n",
        "    \n",
        "    for _, user in user_df.iterrows():\n",
        "        customer_type = user['customer_type']\n",
        "        tiers = user['preferred_tiers']  # guaranteed list\n",
        "        \n",
        "        # Generate variable transaction count per user using normal distribution\n",
        "        mean, std = transaction_params[customer_type]['mean'], transaction_params[customer_type]['std']\n",
        "        transaction_count = max(1, int(np.random.normal(mean, std)))  # Ensure at least 1 transaction\n",
        "        \n",
        "        history = []\n",
        "        for _ in range(transaction_count):\n",
        "            transaction_id = uuid.uuid4().hex[:10]\n",
        "            date = start_date + timedelta(days=random.randint(0,(end_date - start_date).days))\n",
        "            num_items = random.randint(4,7) if customer_type=='Loyal' else random.randint(3,6)\n",
        "            basket = set()\n",
        "            while len(basket)<num_items:\n",
        "                tier_choice = np.random.choice(tiers)\n",
        "                product = random.choice(high if tier_choice=='high' else med if tier_choice=='medium' else low)\n",
        "                if product not in basket:\n",
        "                    basket.add(product)\n",
        "                    history.append(product)\n",
        "                    prod_info = products_df.loc[products_df['product_code']==product].iloc[0]\n",
        "                    price = (prod_info['best_price']*(1-random.uniform(0,0.1)) \n",
        "                             if customer_type=='Loyal' \n",
        "                             else prod_info['item_price']*(1+random.uniform(0,0.05)))\n",
        "                    rows.append([transaction_id,user['user_id'],product, \\\n",
        "                                 prod_info['category'], prod_info['item_name'], prod_info['discount_percentage'],date,price,user['age_group'],user['gender'],user['income_bracket'],customer_type,user['state']])\n",
        "                    \n",
        "    return pd.DataFrame(rows, columns=['transaction_id','user_id','product_code','category', 'item_name', 'discount_percentage', 'transaction_date','transaction_price','age_group','gender','income_bracket','customer_type','state'])\n"
      ]
    },
    {
      "cell_type": "code",
      "execution_count": 9,
      "id": "8c1c9479",
      "metadata": {},
      "outputs": [],
      "source": [
        "products_df = pd.read_csv('data/products.csv')\n",
        "user_df = pd.read_csv('data/users.csv')"
      ]
    },
    {
      "cell_type": "code",
      "execution_count": 10,
      "id": "be905406",
      "metadata": {},
      "outputs": [],
      "source": [
        "def gen_product_tiers(products_df):\n",
        "     # Prepare product tiers\n",
        "    codes = products_df['product_code'].unique()\n",
        "    np.random.shuffle(codes)\n",
        "    high, med, low = codes[:int(0.2*len(codes))], codes[int(0.2*len(codes)):int(0.5*len(codes))], codes[int(0.5*len(codes)):]\n",
        "    \n",
        "    return user_df, (high, med, low)"
      ]
    },
    {
      "cell_type": "code",
      "execution_count": 11,
      "id": "9cd334e3",
      "metadata": {},
      "outputs": [],
      "source": [
        "product_tiers = gen_product_tiers(products_df)"
      ]
    },
    {
      "cell_type": "code",
      "execution_count": null,
      "id": "07abf6a7",
      "metadata": {},
      "outputs": [],
      "source": [
        "trans_df = simulate_transactions(products_df, user_df, product_tiers, start_date=\"2022-08-01\", end_date=\"2025-08-01\")"
      ]
    },
    {
      "cell_type": "code",
      "execution_count": 32,
      "id": "a75a9d8c",
      "metadata": {},
      "outputs": [],
      "source": [
        "trans_df.to_csv('data/trans.csv')"
      ]
    },
    {
      "cell_type": "code",
      "execution_count": 31,
      "id": "25d8e831",
      "metadata": {},
      "outputs": [
        {
          "data": {
            "text/plain": [
              "Index(['transaction_id', 'user_id', 'product_code', 'category', 'item_name',\n",
              "       'discount_percentage', 'transaction_date', 'transaction_price',\n",
              "       'age_group', 'gender', 'income_bracket', 'customer_type', 'state'],\n",
              "      dtype='object')"
            ]
          },
          "execution_count": 31,
          "metadata": {},
          "output_type": "execute_result"
        }
      ],
      "source": [
        "trans_df.columns"
      ]
    },
    {
      "cell_type": "code",
      "execution_count": 33,
      "id": "97a16895",
      "metadata": {},
      "outputs": [
        {
          "data": {
            "text/html": [
              "<div>\n",
              "<style scoped>\n",
              "    .dataframe tbody tr th:only-of-type {\n",
              "        vertical-align: middle;\n",
              "    }\n",
              "\n",
              "    .dataframe tbody tr th {\n",
              "        vertical-align: top;\n",
              "    }\n",
              "\n",
              "    .dataframe thead th {\n",
              "        text-align: right;\n",
              "    }\n",
              "</style>\n",
              "<table border=\"1\" class=\"dataframe\">\n",
              "  <thead>\n",
              "    <tr style=\"text-align: right;\">\n",
              "      <th></th>\n",
              "      <th>transaction_id</th>\n",
              "      <th>user_id</th>\n",
              "      <th>product_code</th>\n",
              "      <th>category</th>\n",
              "      <th>item_name</th>\n",
              "      <th>discount_percentage</th>\n",
              "      <th>transaction_date</th>\n",
              "      <th>transaction_price</th>\n",
              "      <th>age_group</th>\n",
              "      <th>gender</th>\n",
              "      <th>income_bracket</th>\n",
              "      <th>customer_type</th>\n",
              "      <th>state</th>\n",
              "    </tr>\n",
              "  </thead>\n",
              "  <tbody>\n",
              "    <tr>\n",
              "      <th>0</th>\n",
              "      <td>452a413df6</td>\n",
              "      <td>user_1</td>\n",
              "      <td>5355182</td>\n",
              "      <td>MENS DEOS &amp; GROOMING</td>\n",
              "      <td>Deo Roll On Men Intense Protection Fresh</td>\n",
              "      <td>0.500000</td>\n",
              "      <td>2023-08-21</td>\n",
              "      <td>5.168301</td>\n",
              "      <td>25-34</td>\n",
              "      <td>Male</td>\n",
              "      <td>50-100K</td>\n",
              "      <td>Occasional</td>\n",
              "      <td>NSW</td>\n",
              "    </tr>\n",
              "    <tr>\n",
              "      <th>1</th>\n",
              "      <td>452a413df6</td>\n",
              "      <td>user_1</td>\n",
              "      <td>9050664</td>\n",
              "      <td>SNACKS</td>\n",
              "      <td>Original Multipack Potato Chips</td>\n",
              "      <td>0.416667</td>\n",
              "      <td>2023-08-21</td>\n",
              "      <td>6.082251</td>\n",
              "      <td>25-34</td>\n",
              "      <td>Male</td>\n",
              "      <td>50-100K</td>\n",
              "      <td>Occasional</td>\n",
              "      <td>NSW</td>\n",
              "    </tr>\n",
              "    <tr>\n",
              "      <th>2</th>\n",
              "      <td>452a413df6</td>\n",
              "      <td>user_1</td>\n",
              "      <td>5055940</td>\n",
              "      <td>INFANT FOOD</td>\n",
              "      <td>Puffcorn BBQ</td>\n",
              "      <td>0.157895</td>\n",
              "      <td>2023-08-21</td>\n",
              "      <td>4.819962</td>\n",
              "      <td>25-34</td>\n",
              "      <td>Male</td>\n",
              "      <td>50-100K</td>\n",
              "      <td>Occasional</td>\n",
              "      <td>NSW</td>\n",
              "    </tr>\n",
              "    <tr>\n",
              "      <th>3</th>\n",
              "      <td>dd22f95cce</td>\n",
              "      <td>user_1</td>\n",
              "      <td>3994635</td>\n",
              "      <td>BAKING MIXES</td>\n",
              "      <td>Deluxe Chocolate Layer Cake Mix</td>\n",
              "      <td>0.309091</td>\n",
              "      <td>2023-07-22</td>\n",
              "      <td>5.577268</td>\n",
              "      <td>25-34</td>\n",
              "      <td>Male</td>\n",
              "      <td>50-100K</td>\n",
              "      <td>Occasional</td>\n",
              "      <td>NSW</td>\n",
              "    </tr>\n",
              "    <tr>\n",
              "      <th>4</th>\n",
              "      <td>dd22f95cce</td>\n",
              "      <td>user_1</td>\n",
              "      <td>4842440</td>\n",
              "      <td>DENTAL HEALTH</td>\n",
              "      <td>Advanced Whitening Charcoal Toothpaste</td>\n",
              "      <td>0.500000</td>\n",
              "      <td>2023-07-22</td>\n",
              "      <td>10.193634</td>\n",
              "      <td>25-34</td>\n",
              "      <td>Male</td>\n",
              "      <td>50-100K</td>\n",
              "      <td>Occasional</td>\n",
              "      <td>NSW</td>\n",
              "    </tr>\n",
              "  </tbody>\n",
              "</table>\n",
              "</div>"
            ],
            "text/plain": [
              "  transaction_id user_id  product_code              category  \\\n",
              "0     452a413df6  user_1       5355182  MENS DEOS & GROOMING   \n",
              "1     452a413df6  user_1       9050664                SNACKS   \n",
              "2     452a413df6  user_1       5055940           INFANT FOOD   \n",
              "3     dd22f95cce  user_1       3994635          BAKING MIXES   \n",
              "4     dd22f95cce  user_1       4842440         DENTAL HEALTH   \n",
              "\n",
              "                                  item_name  discount_percentage  \\\n",
              "0  Deo Roll On Men Intense Protection Fresh             0.500000   \n",
              "1           Original Multipack Potato Chips             0.416667   \n",
              "2                              Puffcorn BBQ             0.157895   \n",
              "3           Deluxe Chocolate Layer Cake Mix             0.309091   \n",
              "4    Advanced Whitening Charcoal Toothpaste             0.500000   \n",
              "\n",
              "  transaction_date  transaction_price age_group gender income_bracket  \\\n",
              "0       2023-08-21           5.168301     25-34   Male        50-100K   \n",
              "1       2023-08-21           6.082251     25-34   Male        50-100K   \n",
              "2       2023-08-21           4.819962     25-34   Male        50-100K   \n",
              "3       2023-07-22           5.577268     25-34   Male        50-100K   \n",
              "4       2023-07-22          10.193634     25-34   Male        50-100K   \n",
              "\n",
              "  customer_type state  \n",
              "0    Occasional   NSW  \n",
              "1    Occasional   NSW  \n",
              "2    Occasional   NSW  \n",
              "3    Occasional   NSW  \n",
              "4    Occasional   NSW  "
            ]
          },
          "execution_count": 33,
          "metadata": {},
          "output_type": "execute_result"
        }
      ],
      "source": [
        "trans_df.head()"
      ]
    }
  ],
  "metadata": {
    "colab": {
      "provenance": []
    },
    "kernelspec": {
      "display_name": "dolfin",
      "language": "python",
      "name": "python3"
    },
    "language_info": {
      "codemirror_mode": {
        "name": "ipython",
        "version": 3
      },
      "file_extension": ".py",
      "mimetype": "text/x-python",
      "name": "python",
      "nbconvert_exporter": "python",
      "pygments_lexer": "ipython3",
      "version": "3.11.5"
    }
  },
  "nbformat": 4,
  "nbformat_minor": 5
}
