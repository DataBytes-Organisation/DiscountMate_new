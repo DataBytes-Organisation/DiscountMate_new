{
  "cells": [
    {
      "cell_type": "code",
      "execution_count": 2,
      "id": "e03516db",
      "metadata": {},
      "outputs": [],
      "source": [
        "import pandas as pd\n",
        "import numpy as np\n"
      ]
    },
    {
      "cell_type": "markdown",
      "id": "3a1cce55",
      "metadata": {},
      "source": [
        "## Create users"
      ]
    },
    {
      "cell_type": "code",
      "execution_count": 5,
      "id": "77843e1e",
      "metadata": {},
      "outputs": [],
      "source": [
        "# ========================\n",
        "# 1. User Demographics\n",
        "# ========================\n",
        "def assign_demographics(num_users=100):\n",
        "    age_groups = ['18-24','25-34','35-44','45-54','55-64','65+']\n",
        "    age_probs = [0.12,0.15,0.14,0.15,0.18,0.26]\n",
        "    genders = ['Male','Female']\n",
        "    gender_probs = [0.49,0.51]\n",
        "    income_brackets = ['<50K','50-100K','>100K']\n",
        "    income_probs = [0.3,0.4,0.3]\n",
        "    customer_segments = ['Loyal','Frequent','Occasional']\n",
        "    segment_probs = [0.3,0.2,0.5]\n",
        "\n",
        "    user_ids = [f\"user_{i}\" for i in range(1,num_users+1)]\n",
        "    user_data = []\n",
        "    for user in user_ids:\n",
        "        age_group = np.random.choice(age_groups, p=age_probs)\n",
        "        gender = np.random.choice(genders, p=gender_probs)\n",
        "        income = np.random.choice(income_brackets, p=income_probs)\n",
        "        customer_type = np.random.choice(customer_segments, p=segment_probs)\n",
        "        user_data.append([user, age_group, gender, income, customer_type])\n",
        "    return pd.DataFrame(user_data, columns=['user_id','age_group','gender','income_bracket','customer_type'])\n"
      ]
    },
    {
      "cell_type": "code",
      "execution_count": 12,
      "id": "a39148f2",
      "metadata": {},
      "outputs": [],
      "source": [
        "# ========================\n",
        "# 2. Regional Location & Age Preferences\n",
        "# ========================\n",
        "def assign_location_and_preferences(user_df):\n",
        "    # Assign Australian states\n",
        "    states = ['NSW','VIC','QLD','WA','SA','TAS','ACT','NT']\n",
        "    state_probs = [0.32,0.26,0.2,0.1,0.06,0.03,0.02,0.01]\n",
        "    user_df['state'] = np.random.choice(states, size=len(user_df), p=state_probs)\n",
        "    \n",
        "    def age_group_to_category(age_group):\n",
        "        if age_group in ['18-24','25-34']:\n",
        "            return '18-34'\n",
        "        elif age_group in ['35-44','45-54']:\n",
        "            return '35-54'\n",
        "        else:\n",
        "            return '55+'\n",
        "        \n",
        "    user_df['age_cat'] = user_df['age_group'].apply(age_group_to_category)\n",
        "\n",
        "    # Map age category to preferred tiers\n",
        "    age_preferences = {\n",
        "        '18-34': ['high','medium'],\n",
        "        '35-54': ['medium','low'],\n",
        "        '55+': ['high','low']\n",
        "    }\n",
        "    user_df['preferred_tiers'] = user_df['age_cat'].map(age_preferences)    \n",
        "    return user_df\n"
      ]
    },
    {
      "cell_type": "code",
      "execution_count": 13,
      "id": "5db8df8e",
      "metadata": {},
      "outputs": [],
      "source": [
        "# 1. Generate demographics\n",
        "user_df = assign_demographics(num_users=50)"
      ]
    },
    {
      "cell_type": "code",
      "execution_count": 14,
      "id": "9916cf20",
      "metadata": {},
      "outputs": [],
      "source": [
        " #2. assign regional location & age preferences\n",
        "user_df = assign_location_and_preferences(user_df)"
      ]
    },
    {
      "cell_type": "code",
      "execution_count": 15,
      "id": "634bd05f",
      "metadata": {},
      "outputs": [
        {
          "data": {
            "text/html": [
              "<div>\n",
              "<style scoped>\n",
              "    .dataframe tbody tr th:only-of-type {\n",
              "        vertical-align: middle;\n",
              "    }\n",
              "\n",
              "    .dataframe tbody tr th {\n",
              "        vertical-align: top;\n",
              "    }\n",
              "\n",
              "    .dataframe thead th {\n",
              "        text-align: right;\n",
              "    }\n",
              "</style>\n",
              "<table border=\"1\" class=\"dataframe\">\n",
              "  <thead>\n",
              "    <tr style=\"text-align: right;\">\n",
              "      <th></th>\n",
              "      <th>user_id</th>\n",
              "      <th>age_group</th>\n",
              "      <th>gender</th>\n",
              "      <th>income_bracket</th>\n",
              "      <th>customer_type</th>\n",
              "      <th>state</th>\n",
              "      <th>age_cat</th>\n",
              "      <th>preferred_tiers</th>\n",
              "    </tr>\n",
              "  </thead>\n",
              "  <tbody>\n",
              "    <tr>\n",
              "      <th>0</th>\n",
              "      <td>user_1</td>\n",
              "      <td>55-64</td>\n",
              "      <td>Male</td>\n",
              "      <td>&gt;100K</td>\n",
              "      <td>Frequent</td>\n",
              "      <td>SA</td>\n",
              "      <td>55+</td>\n",
              "      <td>[high, low]</td>\n",
              "    </tr>\n",
              "    <tr>\n",
              "      <th>1</th>\n",
              "      <td>user_2</td>\n",
              "      <td>35-44</td>\n",
              "      <td>Male</td>\n",
              "      <td>50-100K</td>\n",
              "      <td>Occasional</td>\n",
              "      <td>VIC</td>\n",
              "      <td>35-54</td>\n",
              "      <td>[medium, low]</td>\n",
              "    </tr>\n",
              "    <tr>\n",
              "      <th>2</th>\n",
              "      <td>user_3</td>\n",
              "      <td>45-54</td>\n",
              "      <td>Male</td>\n",
              "      <td>&gt;100K</td>\n",
              "      <td>Frequent</td>\n",
              "      <td>VIC</td>\n",
              "      <td>35-54</td>\n",
              "      <td>[medium, low]</td>\n",
              "    </tr>\n",
              "    <tr>\n",
              "      <th>3</th>\n",
              "      <td>user_4</td>\n",
              "      <td>65+</td>\n",
              "      <td>Male</td>\n",
              "      <td>&lt;50K</td>\n",
              "      <td>Occasional</td>\n",
              "      <td>NSW</td>\n",
              "      <td>55+</td>\n",
              "      <td>[high, low]</td>\n",
              "    </tr>\n",
              "    <tr>\n",
              "      <th>4</th>\n",
              "      <td>user_5</td>\n",
              "      <td>25-34</td>\n",
              "      <td>Male</td>\n",
              "      <td>&lt;50K</td>\n",
              "      <td>Loyal</td>\n",
              "      <td>QLD</td>\n",
              "      <td>18-34</td>\n",
              "      <td>[high, medium]</td>\n",
              "    </tr>\n",
              "  </tbody>\n",
              "</table>\n",
              "</div>"
            ],
            "text/plain": [
              "  user_id age_group gender income_bracket customer_type state age_cat  \\\n",
              "0  user_1     55-64   Male          >100K      Frequent    SA     55+   \n",
              "1  user_2     35-44   Male        50-100K    Occasional   VIC   35-54   \n",
              "2  user_3     45-54   Male          >100K      Frequent   VIC   35-54   \n",
              "3  user_4       65+   Male           <50K    Occasional   NSW     55+   \n",
              "4  user_5     25-34   Male           <50K         Loyal   QLD   18-34   \n",
              "\n",
              "  preferred_tiers  \n",
              "0     [high, low]  \n",
              "1   [medium, low]  \n",
              "2   [medium, low]  \n",
              "3     [high, low]  \n",
              "4  [high, medium]  "
            ]
          },
          "execution_count": 15,
          "metadata": {},
          "output_type": "execute_result"
        }
      ],
      "source": [
        "user_df.head()"
      ]
    },
    {
      "cell_type": "code",
      "execution_count": 16,
      "id": "32ef83c0",
      "metadata": {},
      "outputs": [],
      "source": [
        "user_df.to_csv('data/users.csv')"
      ]
    }
  ],
  "metadata": {
    "colab": {
      "provenance": []
    },
    "kernelspec": {
      "display_name": "dolfin",
      "language": "python",
      "name": "python3"
    },
    "language_info": {
      "codemirror_mode": {
        "name": "ipython",
        "version": 3
      },
      "file_extension": ".py",
      "mimetype": "text/x-python",
      "name": "python",
      "nbconvert_exporter": "python",
      "pygments_lexer": "ipython3",
      "version": "3.11.5"
    }
  },
  "nbformat": 4,
  "nbformat_minor": 5
}
