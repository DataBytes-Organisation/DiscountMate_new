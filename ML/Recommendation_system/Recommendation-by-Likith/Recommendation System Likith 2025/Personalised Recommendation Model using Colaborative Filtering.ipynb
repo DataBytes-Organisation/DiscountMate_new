{
 "cells": [
  {
   "cell_type": "code",
   "id": "initial_id",
   "metadata": {
    "collapsed": true,
    "ExecuteTime": {
     "end_time": "2025-05-17T07:20:37.794074Z",
     "start_time": "2025-05-17T07:20:34.724140Z"
    }
   },
   "source": [
    "import pandas as pd\n",
    "import numpy as np\n",
    "from scipy.sparse import csr_matrix\n",
    "from sklearn.decomposition import TruncatedSVD\n",
    "from sklearn.metrics.pairwise import cosine_similarity"
   ],
   "outputs": [],
   "execution_count": 1
  },
  {
   "metadata": {},
   "cell_type": "markdown",
   "source": "<h1>1. Load and preprocess the data</h1>\n",
   "id": "5482b2534d4d6b4e"
  },
  {
   "metadata": {
    "ExecuteTime": {
     "end_time": "2025-05-17T07:24:19.156853Z",
     "start_time": "2025-05-17T07:24:19.144978Z"
    }
   },
   "cell_type": "code",
   "source": [
    "def load_data(file_path):\n",
    "    df = pd.read_csv(file_path)\n",
    "    product_map = df[['ProductCode', 'ItemName']].drop_duplicates().set_index('ProductCode')['ItemName'].to_dict()\n",
    "\n",
    "    # Create user-item matrix (rows: customers, columns: products)\n",
    "    user_item_matrix = df.pivot_table(\n",
    "        index='CustomerID',\n",
    "        columns='ProductCode',\n",
    "        values='Quantity',\n",
    "        aggfunc='sum',\n",
    "        fill_value=0\n",
    "    ).astype(np.float32)\n",
    "\n",
    "    return csr_matrix(user_item_matrix.values), user_item_matrix.index, user_item_matrix.columns, product_map"
   ],
   "id": "b44dd50543c1f87d",
   "outputs": [],
   "execution_count": 14
  },
  {
   "metadata": {},
   "cell_type": "markdown",
   "source": "# Using only relevant columns",
   "id": "e747d4463ca8826a"
  },
  {
   "metadata": {
    "ExecuteTime": {
     "end_time": "2025-05-17T07:21:50.671785Z",
     "start_time": "2025-05-17T07:21:50.665562Z"
    }
   },
   "cell_type": "code",
   "source": [
    "def train_model(matrix, components=40):\n",
    "    svd = TruncatedSVD(n_components=components, random_state=42)\n",
    "    item_factors = svd.fit_transform(matrix.T)  # Items in rows\n",
    "    return svd, item_factors\n",
    "\n",
    "def compute_similarities(item_factors):\n",
    "    return cosine_similarity(item_factors)"
   ],
   "id": "430af22e62157528",
   "outputs": [],
   "execution_count": 8
  },
  {
   "metadata": {},
   "cell_type": "markdown",
   "source": "# Aggregate quantities if there are multiple purchases of same item by same customer",
   "id": "19b62268d10cdd4"
  },
  {
   "metadata": {
    "ExecuteTime": {
     "end_time": "2025-05-17T07:21:51.912200Z",
     "start_time": "2025-05-17T07:21:51.900822Z"
    }
   },
   "cell_type": "code",
   "source": [
    "# 3. Recommendation Functions\n",
    "def personalized_recommendations(customer_id, user_index, sparse_matrix, similarity_matrix, items, product_map, top_n=10):\n",
    "    try:\n",
    "        customer_idx = list(user_index).index(customer_id)\n",
    "        purchased_indices = sparse_matrix[customer_idx].indices\n",
    "        scores = similarity_matrix[purchased_indices].sum(axis=0)\n",
    "        scores[purchased_indices] = -np.inf  # Exclude purchased\n",
    "\n",
    "        top_indices = np.argsort(-scores)[:top_n]\n",
    "        return [(items[i], product_map.get(items[i], \"Unknown\"), scores[i])\n",
    "                for i in top_indices if scores[i] > -np.inf]\n",
    "    except ValueError:\n",
    "        return []\n",
    "\n",
    "def basket_recommendations(basket_items, similarity_matrix, items, product_map, top_n=5):\n",
    "    \"\"\"Get recommendations based on current basket items\"\"\"\n",
    "    try:\n",
    "        # Convert basket items to indices (handle both string and integer codes)\n",
    "        basket_indices = []\n",
    "        for item in basket_items:\n",
    "            item_str = str(item)  # Ensure string comparison\n",
    "            if item_str in items:\n",
    "                basket_indices.append(list(items).index(item_str))\n",
    "\n",
    "        if not basket_indices:\n",
    "            print(\"No valid basket items found in product catalog\")\n",
    "            return []\n",
    "\n",
    "        # Aggregate similarities from all basket items\n",
    "        scores = similarity_matrix[basket_indices].sum(axis=0)\n",
    "\n",
    "        # Create mask for purchased items\n",
    "        purchased_mask = np.zeros_like(scores, dtype=bool)\n",
    "        purchased_mask[basket_indices] = True\n",
    "\n",
    "        # Get top recommendations excluding basket items\n",
    "        valid_scores = scores[~purchased_mask]\n",
    "        valid_indices = np.argsort(-valid_scores)[:top_n]\n",
    "\n",
    "        # Map back to original indices\n",
    "        all_indices = np.arange(len(items))\n",
    "        valid_global_indices = all_indices[~purchased_mask][valid_indices]\n",
    "\n",
    "        return [\n",
    "            (items[i], product_map.get(items[i], \"Unknown Product\"), scores[i])\n",
    "            for i in valid_global_indices if scores[i] > 0  # Only show positive associations\n",
    "        ]\n",
    "\n",
    "    except Exception as e:\n",
    "        print(f\"Error generating recommendations: {str(e)}\")\n",
    "        return []"
   ],
   "id": "41f33d4202e0cfd6",
   "outputs": [],
   "execution_count": 9
  },
  {
   "metadata": {},
   "cell_type": "markdown",
   "source": "# Example usage for customer",
   "id": "971f20542d409544"
  },
  {
   "metadata": {
    "ExecuteTime": {
     "end_time": "2025-05-17T07:22:23.707422Z",
     "start_time": "2025-05-17T07:22:17.023758Z"
    }
   },
   "cell_type": "code",
   "source": [
    "# 4. Main Execution\n",
    "if __name__ == \"__main__\":\n",
    "    # Load data\n",
    "    sparse_matrix, customers, items, product_map = load_data(\"customer_transactions_coles.csv\")\n",
    "\n",
    "    # Train model\n",
    "    svd, item_factors = train_model(sparse_matrix)\n",
    "\n",
    "    # Compute similarities\n",
    "    item_similarity = compute_similarities(item_factors)\n",
    "\n",
    "    # Example 1: Personalized recommendations\n",
    "    customer_id = \"C1001\"  # Replace with actual customer ID\n",
    "    personal_recs = personalized_recommendations(customer_id, customers, sparse_matrix,\n",
    "                                               item_similarity, items, product_map)\n",
    "    print(f\"\\nPersonalized recommendations for {customer_id}:\")\n",
    "    for i, (code, name, score) in enumerate(personal_recs, 1):\n",
    "        print(f\"{i}. {name} ({code}) | Relevance: {score:.3f}\")"
   ],
   "id": "3e9d91cea4acf247",
   "outputs": [
    {
     "name": "stdout",
     "output_type": "stream",
     "text": [
      "\n",
      "Personalized recommendations for C1001:\n",
      "1. Coles RSPCA Approved Chicken Wing ... approx 1.1kg (2021544) | Relevance: 136.524\n",
      "2. Coles Simply Honey BBQ Sausage | 560g (5406818) | Relevance: 135.563\n",
      "3. Coles Deli Thawed Cooked Prawn Plate Small | 200g (6487531) | Relevance: 135.303\n",
      "4. Coles Beef Chuck Casserole Steak | 850g (6332331) | Relevance: 134.575\n",
      "5. Coles Hot Smoked Salmon Natural | 150g (3582081) | Relevance: 134.517\n",
      "6. Coles Finest Pork Sage And Black Pepper Sausa ... 500g (5928507) | Relevance: 133.780\n",
      "7. Coles Graze Grassfed Beef Diced Steak | 500g (2024393) | Relevance: 133.549\n",
      "8. Coles No Added Hormone Beef Bones | approx 950g (2062155) | Relevance: 133.261\n",
      "9. Inglewood Organic Chicken Nibbles | 700g (7275903) | Relevance: 132.925\n",
      "10. Coles Family Classics Made Easy Slow Cooked Pork ... 800g (3966210) | Relevance: 132.687\n"
     ]
    }
   ],
   "execution_count": 11
  }
 ],
 "metadata": {
  "kernelspec": {
   "display_name": "Python 3",
   "language": "python",
   "name": "python3"
  },
  "language_info": {
   "codemirror_mode": {
    "name": "ipython",
    "version": 2
   },
   "file_extension": ".py",
   "mimetype": "text/x-python",
   "name": "python",
   "nbconvert_exporter": "python",
   "pygments_lexer": "ipython2",
   "version": "2.7.6"
  }
 },
 "nbformat": 4,
 "nbformat_minor": 5
}
