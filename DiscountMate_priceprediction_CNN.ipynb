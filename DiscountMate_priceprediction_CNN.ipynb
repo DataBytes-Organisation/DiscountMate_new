{
 "cells": [
  {
   "cell_type": "code",
   "execution_count": 1,
   "metadata": {},
   "outputs": [],
   "source": [
    "# libraries\n",
    "import pandas as pd\n",
    "import numpy as np\n",
    "import tensorflow as tf\n",
    "from sklearn.model_selection import train_test_split\n",
    "from sklearn.preprocessing import StandardScaler, OneHotEncoder\n",
    "from sklearn.compose import ColumnTransformer\n",
    "from sklearn.pipeline import Pipeline\n",
    "from sklearn.metrics import mean_squared_error, r2_score\n",
    "from tensorflow.keras.models import Sequential\n",
    "from tensorflow.keras.layers import Dense, Conv1D, Flatten\n",
    "import tensorflow_docs as tfdocs\n",
    "import tensorflow_docs.plots\n",
    "import matplotlib.pyplot as plt"
   ]
  },
  {
   "cell_type": "code",
   "execution_count": 2,
   "metadata": {},
   "outputs": [],
   "source": [
    "# importing data\n",
    "df = pd.read_csv(\"Aus_grocery_synthetic_dataset2.csv\")\n",
    "data = df.sample(n=8000, random_state=42)\n",
    "\n",
    "# handeling missing data\n",
    "data.fillna(method='ffill', inplace=True)\n",
    "\n",
    "# seperating into features and target\n",
    "X = data.drop('unit_price_x', axis=1)\n",
    "y = data['unit_price_x']\n",
    "\n",
    "# categorical columns\n",
    "categorical_cols = ['Category', 'Sub_category', 'Product_Group', 'Product_Name', 'Brand', 'Sku', 'RunDate']\n",
    "\n",
    "# one-hot encoding categorical data\n",
    "preprocessor = ColumnTransformer(\n",
    "    transformers=[\n",
    "        ('cat', OneHotEncoder(handle_unknown='ignore'), categorical_cols)\n",
    "    ])\n",
    "\n",
    "# preprocessing pipelne\n",
    "pipeline = Pipeline(steps=[('preprocessor', preprocessor),\n",
    "                           ('scaler', StandardScaler(with_mean=False))])\n",
    "\n",
    "# preprocess data\n",
    "X_preprocessed = pipeline.fit_transform(X)\n",
    "\n",
    "# splitting the data into training and testing sets\n",
    "X_train, X_test, y_train, y_test = train_test_split(X_preprocessed, y, test_size=0.2, random_state=14)"
   ]
  },
  {
   "cell_type": "code",
   "execution_count": 3,
   "metadata": {},
   "outputs": [
    {
     "name": "stderr",
     "output_type": "stream",
     "text": [
      "c:\\Users\\robin\\AppData\\Local\\Programs\\Python\\Python311\\Lib\\site-packages\\keras\\src\\layers\\convolutional\\base_conv.py:107: UserWarning: Do not pass an `input_shape`/`input_dim` argument to a layer. When using Sequential models, prefer using an `Input(shape)` object as the first layer in the model instead.\n",
      "  super().__init__(activity_regularizer=activity_regularizer, **kwargs)\n"
     ]
    }
   ],
   "source": [
    "# building the CNN model\n",
    "network = Sequential([\n",
    "    Conv1D(filters=64, kernel_size=2, activation='relu', input_shape=(X_train.shape[1], 1)),\n",
    "    Flatten(),\n",
    "    Dense(128, activation='relu'),\n",
    "    Dense(1)  \n",
    "])\n",
    "\n",
    "# Compile the model\n",
    "network.compile(optimizer='adam', loss='mean_squared_error')"
   ]
  },
  {
   "cell_type": "code",
   "execution_count": 4,
   "metadata": {},
   "outputs": [
    {
     "name": "stdout",
     "output_type": "stream",
     "text": [
      "Epoch 1/10\n",
      "\u001b[1m640/640\u001b[0m \u001b[32m━━━━━━━━━━━━━━━━━━━━\u001b[0m\u001b[37m\u001b[0m \u001b[1m249s\u001b[0m 383ms/step - loss: 234.1201\n",
      "Epoch 2/10\n",
      "\u001b[1m640/640\u001b[0m \u001b[32m━━━━━━━━━━━━━━━━━━━━\u001b[0m\u001b[37m\u001b[0m \u001b[1m219s\u001b[0m 342ms/step - loss: 87.8139\n",
      "Epoch 3/10\n",
      "\u001b[1m640/640\u001b[0m \u001b[32m━━━━━━━━━━━━━━━━━━━━\u001b[0m\u001b[37m\u001b[0m \u001b[1m219s\u001b[0m 341ms/step - loss: 57.3271\n",
      "Epoch 4/10\n",
      "\u001b[1m640/640\u001b[0m \u001b[32m━━━━━━━━━━━━━━━━━━━━\u001b[0m\u001b[37m\u001b[0m \u001b[1m217s\u001b[0m 339ms/step - loss: 45.3636\n",
      "Epoch 5/10\n",
      "\u001b[1m640/640\u001b[0m \u001b[32m━━━━━━━━━━━━━━━━━━━━\u001b[0m\u001b[37m\u001b[0m \u001b[1m217s\u001b[0m 338ms/step - loss: 30.4836\n",
      "Epoch 6/10\n",
      "\u001b[1m640/640\u001b[0m \u001b[32m━━━━━━━━━━━━━━━━━━━━\u001b[0m\u001b[37m\u001b[0m \u001b[1m218s\u001b[0m 341ms/step - loss: 17.6093\n",
      "Epoch 7/10\n",
      "\u001b[1m640/640\u001b[0m \u001b[32m━━━━━━━━━━━━━━━━━━━━\u001b[0m\u001b[37m\u001b[0m \u001b[1m272s\u001b[0m 426ms/step - loss: 12.8414\n",
      "Epoch 8/10\n",
      "\u001b[1m640/640\u001b[0m \u001b[32m━━━━━━━━━━━━━━━━━━━━\u001b[0m\u001b[37m\u001b[0m \u001b[1m348s\u001b[0m 544ms/step - loss: 10.8147\n",
      "Epoch 9/10\n",
      "\u001b[1m640/640\u001b[0m \u001b[32m━━━━━━━━━━━━━━━━━━━━\u001b[0m\u001b[37m\u001b[0m \u001b[1m238s\u001b[0m 371ms/step - loss: 7.4590\n",
      "Epoch 10/10\n",
      "\u001b[1m640/640\u001b[0m \u001b[32m━━━━━━━━━━━━━━━━━━━━\u001b[0m\u001b[37m\u001b[0m \u001b[1m209s\u001b[0m 326ms/step - loss: 7.6701\n",
      "\u001b[1m50/50\u001b[0m \u001b[32m━━━━━━━━━━━━━━━━━━━━\u001b[0m\u001b[37m\u001b[0m \u001b[1m3s\u001b[0m 60ms/step - loss: 61.2368\n",
      "Test Loss: 62.05583953857422\n"
     ]
    }
   ],
   "source": [
    "# Train the model\n",
    "history = network.fit(X_train, y_train, epochs=10, batch_size=10)\n",
    "\n",
    "# Evaluate the model\n",
    "loss = network.evaluate(X_test, y_test)\n",
    "print(f'Test Loss: {loss}')"
   ]
  },
  {
   "cell_type": "code",
   "execution_count": 8,
   "metadata": {},
   "outputs": [
    {
     "name": "stdout",
     "output_type": "stream",
     "text": [
      "\u001b[1m50/50\u001b[0m \u001b[32m━━━━━━━━━━━━━━━━━━━━\u001b[0m\u001b[37m\u001b[0m \u001b[1m5s\u001b[0m 72ms/step\n",
      "Test RMSE: 7.877552791513611\n",
      "Mean of target variable: 8.17933125\n",
      "R-squared: 0.712618647817475\n"
     ]
    }
   ],
   "source": [
    "# calculating MSE\n",
    "y_pred = network.predict(X_test)\n",
    "\n",
    "rmse = np.sqrt(mean_squared_error(y_test, y_pred))\n",
    "print(f'Test RMSE: {rmse}')\n",
    "\n",
    "# comparing RMSE to the mean of the target variable\n",
    "print(f'Mean of target variable: {y_test.mean()}')\n",
    "\n",
    "# r squred\n",
    "r_squared = r2_score(y_test, y_pred)\n",
    "print(f'R-squared: {r_squared}')"
   ]
  },
  {
   "cell_type": "code",
   "execution_count": 7,
   "metadata": {},
   "outputs": [
    {
     "name": "stdout",
     "output_type": "stream",
     "text": [
      "\u001b[1m1/1\u001b[0m \u001b[32m━━━━━━━━━━━━━━━━━━━━\u001b[0m\u001b[37m\u001b[0m \u001b[1m0s\u001b[0m 110ms/step\n",
      "Predicted unit_price_x: 11.49\n"
     ]
    }
   ],
   "source": [
    "# test case\n",
    "new_data = pd.DataFrame({\n",
    "    'Category': ['Meat & seafood'], \n",
    "    'Sub_category': ['Poultry'], \n",
    "    'Product_Group': ['Crumbed chicken'], \n",
    "    'Product_Name': ['RSPCA Approved Chicken Breast Schnitzel Plain Crumb'], \n",
    "    'Brand': ['Coles'], \n",
    "    'Sku': ['5969865P'], \n",
    "    'RunDate': ['10/11/2022']  # Ensure this matches the format you used in training\n",
    "})\n",
    "\n",
    "# preprocessing the new data using the same pipeline\n",
    "X_new_preprocessed = pipeline.transform(new_data)\n",
    "\n",
    "# Predict the unit_price_x\n",
    "predicted_price = network.predict(X_new_preprocessed)\n",
    "print(f'Predicted unit_price_x: {predicted_price [0][0]:.2f}')"
   ]
  }
 ],
 "metadata": {
  "kernelspec": {
   "display_name": "Python 3",
   "language": "python",
   "name": "python3"
  },
  "language_info": {
   "codemirror_mode": {
    "name": "ipython",
    "version": 3
   },
   "file_extension": ".py",
   "mimetype": "text/x-python",
   "name": "python",
   "nbconvert_exporter": "python",
   "pygments_lexer": "ipython3",
   "version": "3.11.4"
  }
 },
 "nbformat": 4,
 "nbformat_minor": 2
}
