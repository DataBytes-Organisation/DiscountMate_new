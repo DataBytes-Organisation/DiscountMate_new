{
 "cells": [
  {
   "cell_type": "markdown",
   "id": "7ea5585f",
   "metadata": {},
   "source": [
    "# Opinion Mining"
   ]
  },
  {
   "cell_type": "code",
   "execution_count": 5,
   "id": "f5527a8b",
   "metadata": {},
   "outputs": [
    {
     "name": "stderr",
     "output_type": "stream",
     "text": [
      "[nltk_data] Downloading package vader_lexicon to\n",
      "[nltk_data]     C:\\Users\\Hadi\\AppData\\Roaming\\nltk_data...\n",
      "[nltk_data]   Package vader_lexicon is already up-to-date!\n"
     ]
    },
    {
     "data": {
      "text/plain": [
       "True"
      ]
     },
     "execution_count": 5,
     "metadata": {},
     "output_type": "execute_result"
    }
   ],
   "source": [
    "import nltk\n",
    "from nltk.sentiment.vader import SentimentIntensityAnalyzer\n",
    "nltk.download('vader_lexicon')"
   ]
  },
  {
   "cell_type": "code",
   "execution_count": 6,
   "id": "f746f338",
   "metadata": {},
   "outputs": [],
   "source": [
    "sentiment_analyzer = SentimentIntensityAnalyzer()\n",
    "\n",
    "attributes = {\n",
    "    \"price\": [\"price\", \"cost\", \"expensive\", \"cheap\", \"affordable\", \"worth\"],\n",
    "    \"taste\": [\"taste\", \"flavor\", \"delicious\", \"sweet\", \"sour\", \"bitter\"],\n",
    "    \"packaging\": [\"packaging\", \"bottle\", \"container\", \"design\", \"box\"]\n",
    "}\n",
    "\n",
    "reviews = [\n",
    "    \"The price of this product is too high, but the taste is fantastic!\",\n",
    "    \"I love the taste of this apple juice, but the packaging could be better.\",\n",
    "    \"The bottle design is great, but I find it too expensive for what it offers.\",\n",
    "    \"This product is delicious, and I feel the price is worth it for the quality.\",\n",
    "    \"The packaging is very user-friendly, and I love the overall product.\",\n",
    "]"
   ]
  },
  {
   "cell_type": "code",
   "execution_count": 7,
   "id": "9fb417e8",
   "metadata": {},
   "outputs": [],
   "source": [
    "def extract_opinion(review, attributes):\n",
    "    opinions = {}\n",
    "    \n",
    "    for attribute, keywords in attributes.items():\n",
    "        for keyword in keywords:\n",
    "            if keyword in review.lower():\n",
    "                # Extract the sentence containing the keyword\n",
    "                sentences = review.split(\". \")\n",
    "                relevant_sentences = [s for s in sentences if keyword in s.lower()]\n",
    "                \n",
    "                if relevant_sentences:\n",
    "                    # Run VADER sentiment analysis on the relevant sentence\n",
    "                    sentiment = sentiment_analyzer.polarity_scores(relevant_sentences[0])\n",
    "                    sentiment_label = 'POSITIVE' if sentiment['compound'] > 0 else 'NEGATIVE' if sentiment['compound'] < 0 else 'NEUTRAL'\n",
    "                    \n",
    "                    opinions[attribute] = {\n",
    "                        \"sentence\": relevant_sentences[0],\n",
    "                        \"sentiment\": sentiment_label,\n",
    "                        \"confidence\": sentiment['compound']\n",
    "                    }\n",
    "    return opinions"
   ]
  },
  {
   "cell_type": "code",
   "execution_count": 8,
   "id": "12af5d6e",
   "metadata": {},
   "outputs": [
    {
     "name": "stdout",
     "output_type": "stream",
     "text": [
      "\n",
      "Review: The price of this product is too high, but the taste is fantastic!\n",
      "Attribute: Price\n",
      "  Sentence: The price of this product is too high, but the taste is fantastic!\n",
      "  Sentiment: POSITIVE (Confidence: 0.73)\n",
      "Attribute: Taste\n",
      "  Sentence: The price of this product is too high, but the taste is fantastic!\n",
      "  Sentiment: POSITIVE (Confidence: 0.73)\n",
      "\n",
      "Review: I love the taste of this apple juice, but the packaging could be better.\n",
      "Attribute: Taste\n",
      "  Sentence: I love the taste of this apple juice, but the packaging could be better.\n",
      "  Sentiment: POSITIVE (Confidence: 0.75)\n",
      "Attribute: Packaging\n",
      "  Sentence: I love the taste of this apple juice, but the packaging could be better.\n",
      "  Sentiment: POSITIVE (Confidence: 0.75)\n",
      "\n",
      "Review: The bottle design is great, but I find it too expensive for what it offers.\n",
      "Attribute: Price\n",
      "  Sentence: The bottle design is great, but I find it too expensive for what it offers.\n",
      "  Sentiment: POSITIVE (Confidence: 0.37)\n",
      "Attribute: Packaging\n",
      "  Sentence: The bottle design is great, but I find it too expensive for what it offers.\n",
      "  Sentiment: POSITIVE (Confidence: 0.37)\n",
      "\n",
      "Review: This product is delicious, and I feel the price is worth it for the quality.\n",
      "Attribute: Price\n",
      "  Sentence: This product is delicious, and I feel the price is worth it for the quality.\n",
      "  Sentiment: POSITIVE (Confidence: 0.68)\n",
      "Attribute: Taste\n",
      "  Sentence: This product is delicious, and I feel the price is worth it for the quality.\n",
      "  Sentiment: POSITIVE (Confidence: 0.68)\n",
      "\n",
      "Review: The packaging is very user-friendly, and I love the overall product.\n",
      "Attribute: Packaging\n",
      "  Sentence: The packaging is very user-friendly, and I love the overall product.\n",
      "  Sentiment: POSITIVE (Confidence: 0.67)\n"
     ]
    }
   ],
   "source": [
    "for review in reviews:\n",
    "    print(f\"\\nReview: {review}\")\n",
    "    opinions = extract_opinion(review, attributes)\n",
    "    for attribute, opinion in opinions.items():\n",
    "        print(f\"Attribute: {attribute.capitalize()}\")\n",
    "        print(f\"  Sentence: {opinion['sentence']}\")\n",
    "        print(f\"  Sentiment: {opinion['sentiment']} (Confidence: {opinion['confidence']:.2f})\")"
   ]
  }
 ],
 "metadata": {
  "kernelspec": {
   "display_name": "Python 3 (ipykernel)",
   "language": "python",
   "name": "python3"
  },
  "language_info": {
   "codemirror_mode": {
    "name": "ipython",
    "version": 3
   },
   "file_extension": ".py",
   "mimetype": "text/x-python",
   "name": "python",
   "nbconvert_exporter": "python",
   "pygments_lexer": "ipython3",
   "version": "3.9.7"
  }
 },
 "nbformat": 4,
 "nbformat_minor": 5
}
