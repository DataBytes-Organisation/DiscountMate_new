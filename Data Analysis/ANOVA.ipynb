{
 "cells": [
  {
   "cell_type": "code",
   "execution_count": null,
   "id": "919189ad-ca3b-4bd3-87e0-a1592652d358",
   "metadata": {},
   "outputs": [
    {
     "name": "stdout",
     "output_type": "stream",
     "text": [
      "                              product_id    f_stat   p_value  holiday_count  \\\n",
      "3   4ae84bdf-f3a5-45ef-817b-d2a69204a251  0.558115  0.457488              8   \n",
      "8   7a4fb5ec-2e60-429c-a284-a688a7f07387  0.282634  0.596639              8   \n",
      "1   3b3e2c46-9899-4f14-8f8f-74ec3a1d31a7  0.220146  0.640366              8   \n",
      "20  e79a6d75-9fed-4859-a342-cedc1fa5a132  0.209151  0.648830              8   \n",
      "11  b9935dad-617a-4bf2-9dff-5f01faf98355  0.208360  0.649450              8   \n",
      "6   5875ebb3-bba7-4356-bb0e-9f3c7679c975  0.143218  0.706232              8   \n",
      "0   1f59c631-ca0d-47d9-aac2-8da2dbc1f134  0.137991  0.711392              8   \n",
      "22  feaf28a3-4c63-40e2-9b33-a5a00273f91b  0.112561  0.738237              8   \n",
      "15  ca79f7e0-b57e-471e-962e-6bd2c77eac2f  0.069869  0.792293              8   \n",
      "12  ba6585d8-4881-4569-a4ef-e458cb9dabd6  0.057368  0.811395              8   \n",
      "\n",
      "    non_holiday_count  \n",
      "3                  65  \n",
      "8                  65  \n",
      "1                  65  \n",
      "20                 65  \n",
      "11                 65  \n",
      "6                  65  \n",
      "0                  65  \n",
      "22                 65  \n",
      "15                 65  \n",
      "12                 65  \n"
     ]
    }
   ],
   "source": [
    "import pandas as pd\n",
    "from scipy.stats import f_oneway\n",
    "\n",
    "# Load data\n",
    "df = pd.read_csv(\"AugmentedData.product_pricing1.csv\")\n",
    "df['date'] = pd.to_datetime(df['date'])\n",
    "\n",
    "# Define holidays\n",
    "holidays = {\n",
    "    'GoodFriday': pd.Timestamp('2025-04-18'),\n",
    "    'EasterMonday': pd.Timestamp('2025-04-21'),\n",
    "    'ANZACDay': pd.Timestamp('2025-04-25'),\n",
    "    'EOFY': pd.Timestamp('2025-06-30'),\n",
    "}\n",
    "window = 7\n",
    "\n",
    "# Flag holiday proximity\n",
    "df['near_holiday'] = df['date'].apply(\n",
    "    lambda d: any(abs((d - h).days) <= window for h in holidays.values())\n",
    ")\n",
    "\n",
    "# Collect results per product\n",
    "results = []\n",
    "\n",
    "for pid, group in df.groupby('product_id'):\n",
    "    # Ensure both groups have data\n",
    "    holiday_prices = group[group['near_holiday']]['price']\n",
    "    non_holiday_prices = group[~group['near_holiday']]['price']\n",
    "    \n",
    "    if len(holiday_prices) > 1 and len(non_holiday_prices) > 1:\n",
    "        f_stat, p_value = f_oneway(holiday_prices, non_holiday_prices)\n",
    "        results.append({\n",
    "            'product_id': pid,\n",
    "            'f_stat': f_stat,\n",
    "            'p_value': p_value,\n",
    "            'holiday_count': len(holiday_prices),\n",
    "            'non_holiday_count': len(non_holiday_prices)\n",
    "        })\n",
    "\n",
    "# Create DataFrame of results and sort by significance\n",
    "anova_df = pd.DataFrame(results)\n",
    "anova_df = anova_df.sort_values('p_value')\n",
    "\n",
    "# Show top products with lowest p-values\n",
    "print(anova_df.head(10))\n"
   ]
  },
  {
   "cell_type": "code",
   "execution_count": null,
   "id": "36139282-5285-4683-a737-ba2efe41e50e",
   "metadata": {},
   "outputs": [],
   "source": []
  }
 ],
 "metadata": {
  "kernelspec": {
   "display_name": "Python [conda env:base] *",
   "language": "python",
   "name": "conda-base-py"
  },
  "language_info": {
   "codemirror_mode": {
    "name": "ipython",
    "version": 3
   },
   "file_extension": ".py",
   "mimetype": "text/x-python",
   "name": "python",
   "nbconvert_exporter": "python",
   "pygments_lexer": "ipython3",
   "version": "3.12.7"
  }
 },
 "nbformat": 4,
 "nbformat_minor": 5
}
