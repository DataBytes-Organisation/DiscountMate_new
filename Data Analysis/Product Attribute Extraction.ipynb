{
 "cells": [
  {
   "cell_type": "markdown",
   "id": "976be370",
   "metadata": {},
   "source": [
    "#  Product Attribute Extraction using NLP"
   ]
  },
  {
   "cell_type": "code",
   "execution_count": 1,
   "id": "6cf11603",
   "metadata": {},
   "outputs": [],
   "source": [
    "import spacy\n",
    "import re"
   ]
  },
  {
   "cell_type": "code",
   "execution_count": 2,
   "id": "a0a1d959",
   "metadata": {},
   "outputs": [],
   "source": [
    "nlp = spacy.load(\"en_core_web_sm\")\n",
    "products = [\n",
    "    \"Nestle Whole Grain Pasta, 500g pack, high in fiber, perfect for healthy diets.\",\n",
    "    \"Barilla Gluten-Free Pasta, 400g box, made with corn and rice, gluten-free alternative.\",\n",
    "    \"Coca-Cola 1.5L bottle, refreshing drink, best served chilled.\",\n",
    "    \"Pepsi 500ml bottle, carbonated soft drink, ideal for gatherings.\",\n",
    "    \"Organic Apple Juice, 1L, cold-pressed, no added sugar, premium quality.\",\n",
    "    \"Heinz Tomato Ketchup, 750ml bottle, made with vine-ripened tomatoes, no preservatives.\"\n",
    "]"
   ]
  },
  {
   "cell_type": "code",
   "execution_count": 3,
   "id": "1eead983",
   "metadata": {},
   "outputs": [],
   "source": [
    "weight_pattern = re.compile(r\"(\\d+(\\.\\d+)?\\s?(g|kg|grams|kilograms))\", re.IGNORECASE)\n",
    "volume_pattern = re.compile(r\"(\\d+(\\.\\d+)?\\s?(ml|l|liters|milliliters))\", re.IGNORECASE)\n",
    "price_pattern = re.compile(r\"(\\$\\d+(\\.\\d{2})?)\", re.IGNORECASE)\n",
    "\n",
    "# Function to extract attributes using both NER and regex\n",
    "def extract_product_attributes(product_description):\n",
    "    doc = nlp(product_description)\n",
    "    attributes = {}\n",
    "\n",
    "    for ent in doc.ents:\n",
    "        if ent.label_ in ['QUANTITY', 'CARDINAL']:\n",
    "            attributes['quantity'] = ent.text\n",
    "\n",
    "    weight_match = weight_pattern.search(product_description)\n",
    "    if weight_match:\n",
    "        attributes['weight'] = weight_match.group(0)\n",
    "\n",
    "    volume_match = volume_pattern.search(product_description)\n",
    "    if volume_match:\n",
    "        attributes['volume'] = volume_match.group(0)\n",
    "\n",
    "    price_match = price_pattern.search(product_description)\n",
    "    if price_match:\n",
    "        attributes['price'] = price_match.group(0)\n",
    "\n",
    "    return attributes"
   ]
  },
  {
   "cell_type": "code",
   "execution_count": 4,
   "id": "82f55ad5",
   "metadata": {},
   "outputs": [
    {
     "name": "stdout",
     "output_type": "stream",
     "text": [
      "\n",
      "Product Description: Nestle Whole Grain Pasta, 500g pack, high in fiber, perfect for healthy diets.\n",
      "Extracted Attributes: {'quantity': '500', 'weight': '500g'}\n",
      "\n",
      "Product Description: Barilla Gluten-Free Pasta, 400g box, made with corn and rice, gluten-free alternative.\n",
      "Extracted Attributes: {'quantity': '400', 'weight': '400g'}\n",
      "\n",
      "Product Description: Coca-Cola 1.5L bottle, refreshing drink, best served chilled.\n",
      "Extracted Attributes: {'volume': '1.5L'}\n",
      "\n",
      "Product Description: Pepsi 500ml bottle, carbonated soft drink, ideal for gatherings.\n",
      "Extracted Attributes: {'volume': '500ml'}\n",
      "\n",
      "Product Description: Organic Apple Juice, 1L, cold-pressed, no added sugar, premium quality.\n",
      "Extracted Attributes: {'volume': '1L'}\n",
      "\n",
      "Product Description: Heinz Tomato Ketchup, 750ml bottle, made with vine-ripened tomatoes, no preservatives.\n",
      "Extracted Attributes: {'volume': '750ml'}\n"
     ]
    }
   ],
   "source": [
    "for product in products:\n",
    "    attributes = extract_product_attributes(product)\n",
    "    print(f\"\\nProduct Description: {product}\")\n",
    "    print(f\"Extracted Attributes: {attributes}\")"
   ]
  }
 ],
 "metadata": {
  "kernelspec": {
   "display_name": "Python 3 (ipykernel)",
   "language": "python",
   "name": "python3"
  },
  "language_info": {
   "codemirror_mode": {
    "name": "ipython",
    "version": 3
   },
   "file_extension": ".py",
   "mimetype": "text/x-python",
   "name": "python",
   "nbconvert_exporter": "python",
   "pygments_lexer": "ipython3",
   "version": "3.9.7"
  }
 },
 "nbformat": 4,
 "nbformat_minor": 5
}
