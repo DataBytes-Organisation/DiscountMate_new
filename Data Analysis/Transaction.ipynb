{
 "cells": [
  {
   "cell_type": "markdown",
   "metadata": {},
   "source": [
    "# Importing packages"
   ]
  },
  {
   "cell_type": "code",
   "execution_count": 45,
   "metadata": {},
   "outputs": [],
   "source": [
    "import pandas as pd\n",
    "from faker import Faker\n",
    "import numpy as np\n",
    "from datetime import datetime\n",
    "import matplotlib.pyplot as plt\n",
    "import seaborn as sns\n",
    "import random"
   ]
  },
  {
   "cell_type": "code",
   "execution_count": 3,
   "metadata": {},
   "outputs": [],
   "source": [
    "original_data= pd.read_csv('Australia_Grocery_2022Sep.csv')"
   ]
  },
  {
   "cell_type": "code",
   "execution_count": 26,
   "metadata": {},
   "outputs": [
    {
     "data": {
      "text/plain": [
       "Index(['index', 'Postal_code', 'Category', 'Sub_category', 'Product_Group',\n",
       "       'Product_Name', 'Package_price', 'Price_per_unit', 'package_size',\n",
       "       'is_estimated', 'is_special', 'in_stock', 'Retail_price', 'Product_Url',\n",
       "       'Brand', 'Sku', 'RunDate', 'unit_price', 'unit_price_unit', 'state',\n",
       "       'city', 'tid'],\n",
       "      dtype='object')"
      ]
     },
     "execution_count": 26,
     "metadata": {},
     "output_type": "execute_result"
    }
   ],
   "source": [
    "original_data.columns"
   ]
  },
  {
   "cell_type": "code",
   "execution_count": 62,
   "metadata": {},
   "outputs": [],
   "source": [
    "fake = Faker('en_AU')  # Set Faker to use Australian locale\n",
    "\n",
    "\n",
    "sku_product_data = original_data[['Sku', \n",
    "                                  'Product_Name', \n",
    "                                  'Category', \n",
    "                                  'Sub_category', \n",
    "                                  'Product_Group', \n",
    "                                  'Brand',\n",
    "                                  'unit_price',\n",
    "                                  ]].dropna().drop_duplicates()"
   ]
  },
  {
   "cell_type": "code",
   "execution_count": 63,
   "metadata": {},
   "outputs": [],
   "source": [
    "def generate_ages(mean_age=55, std_dev=15, min_age=10, max_age=100, num_entries=1000):\n",
    "    \n",
    "    def generate_age():\n",
    "        age = int(np.random.normal(loc=mean_age, scale=std_dev))\n",
    "        return min(max(age, min_age), max_age)\n",
    "    return [generate_age() for _ in range(num_entries)]"
   ]
  },
  {
   "cell_type": "code",
   "execution_count": null,
   "metadata": {},
   "outputs": [],
   "source": [
    "city_population = {\n",
    "    'Sydney': 5312000,\n",
    "    'Melbourne': 5078000,\n",
    "    'Brisbane': 2515000,\n",
    "    'Perth': 2117000,\n",
    "    'Adelaide': 1372000,\n",
    "    'Gold Coast': 683000,\n",
    "    'Canberra': 453000,\n",
    "    'Hobart': 232000,\n",
    "    'Darwin': 148000\n",
    "}\n",
    "\n",
    "def get_population_probabilities(population_data):\n",
    "    total_population = sum(population_data.values())\n",
    "    return {k: v / total_population for k, v in population_data.items()}\n",
    "\n",
    "city_probabilities = get_population_probabilities(city_population)"
   ]
  },
  {
   "cell_type": "code",
   "execution_count": 73,
   "metadata": {},
   "outputs": [],
   "source": [
    "def choose_from_probabilities(probabilities):\n",
    "        choices, probs = zip(*probabilities.items())\n",
    "        return np.random.choice(choices, p=probs)\n",
    "\n",
    "def generate_synthetic_data(num_entries):\n",
    "    age_list = generate_ages(num_entries=num_entries)\n",
    "    \n",
    "    data = []\n",
    "    for _ in range(num_entries):\n",
    "        selected_product = sku_product_data.sample(n=1).iloc[0]  # Assuming sku_product_data is defined\n",
    "        \n",
    "        transaction_id = fake.unique.random_int(min=1000000000, max=9999999999)\n",
    "        date = fake.date_between(start_date=datetime(2018, 1, 1), end_date=datetime.now())\n",
    "        age = random.choice(age_list)\n",
    "\n",
    "        # Determine gender\n",
    "        gender = 'female' if random.random() < 0.7 else 'male'\n",
    "        # Determine gender\n",
    "        is_special = True if random.random() > 0.9 else False\n",
    "        \n",
    "        # Generate names based on gender\n",
    "        first_name = fake.first_name_female() if gender == 'female' else fake.first_name_male()\n",
    "        last_name = fake.last_name()\n",
    "        customer_name = f\"{first_name} {last_name}\"\n",
    "\n",
    "        # Assign city based on population ratios\n",
    "        city = choose_from_probabilities(city_probabilities)\n",
    "        \n",
    "        payment_method = fake.random_element(elements=[\"Debit Card\", \"Credit Card\", \"Coupons\"])\n",
    "        access_url = 'Mobile App' if random.random() > 0.3 else 'Website' \n",
    "        \n",
    "        unit_price = selected_product['unit_price']\n",
    "        total_items = fake.random_int(min=1, max=10)\n",
    "        if is_special:   \n",
    "            total_cost = unit_price * total_items *0.8  \n",
    "        else:\n",
    "            total_cost = unit_price * total_items\n",
    "        \n",
    "        \n",
    "        # Append data\n",
    "        data.append({\n",
    "            \"Transaction_ID\": transaction_id,\n",
    "            \"Date\": date,\n",
    "            \"SKU\": selected_product['Sku'],\n",
    "            \"Category\": selected_product['Category'],\n",
    "            \"Sub_category\": selected_product['Sub_category'],\n",
    "            \"Product_Name\": selected_product['Product_Group'],\n",
    "            \"unit_price\": unit_price,\n",
    "            \"total_items\": total_items,\n",
    "            \"is_special\": is_special,\n",
    "            \"total_cost\" : total_cost,\n",
    "            \"Customer_Name\": customer_name,\n",
    "            \"Gender\": gender,\n",
    "            \"Age\": age,\n",
    "            \"City\": city, \n",
    "            \"payment_method\":payment_method,\n",
    "            \"access_url\": access_url\n",
    "        })\n",
    "\n",
    "    return pd.DataFrame(data)\n",
    "\n"
   ]
  },
  {
   "cell_type": "code",
   "execution_count": 74,
   "metadata": {},
   "outputs": [],
   "source": [
    "# Example usage\n",
    "num_entries = 10000\n",
    "synthetic_data = generate_synthetic_data(num_entries)\n",
    "synthetic_data.head()\n",
    "synthetic_data.to_csv('synthetic_data.csv', index=False)"
   ]
  }
 ],
 "metadata": {
  "kernelspec": {
   "display_name": "Python 3 (ipykernel)",
   "language": "python",
   "name": "python3"
  },
  "language_info": {
   "codemirror_mode": {
    "name": "ipython",
    "version": 3
   },
   "file_extension": ".py",
   "mimetype": "text/x-python",
   "name": "python",
   "nbconvert_exporter": "python",
   "pygments_lexer": "ipython3",
   "version": "3.9.7"
  }
 },
 "nbformat": 4,
 "nbformat_minor": 2
}
