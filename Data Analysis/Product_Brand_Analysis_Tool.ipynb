{
 "cells": [
  {
   "cell_type": "markdown",
   "id": "2e58dbf0",
   "metadata": {},
   "source": [
    "# 🛒 Product Brand Sales Analysis Tool\n",
    "This notebook allows you to enter a product keyword (e.g., 'milk', 'eggs') and performs the following:\n",
    "- Identifies top-selling brands in each store\n",
    "- Saves results to a CSV file\n",
    "- Displays the cheapest matching product\n",
    "- Compares the cheapest options between Woolworths and Coles"
   ]
  },
  {
   "cell_type": "code",
   "execution_count": 1,
   "id": "e967b563",
   "metadata": {},
   "outputs": [],
   "source": [
    "# Importing required libraries and loading datasets\n",
    "import pandas as pd\n",
    "\n",
    "# Load Woolworths and Coles transaction data\n",
    "woolies_df = pd.read_csv('customer_transactions_woolies.csv')\n",
    "coles_df = pd.read_csv('customer_transactions_coles.csv')"
   ]
  },
  {
   "cell_type": "markdown",
   "id": "a2b4ca66",
   "metadata": {},
   "source": [
    "## Tag and Combine Store Data\n",
    "We add a `Store` column to distinguish between Woolworths and Coles, and combine them into a single dataset for analysis."
   ]
  },
  {
   "cell_type": "code",
   "execution_count": 2,
   "id": "169f59e3",
   "metadata": {},
   "outputs": [],
   "source": [
    "# Tag each dataset with the store name and combine them\n",
    "woolies_df['Store'] = 'Woolworths'\n",
    "coles_df['Store'] = 'Coles'\n",
    "\n",
    "# Combine both datasets into one\n",
    "combined_df = pd.concat([woolies_df, coles_df], ignore_index=True)"
   ]
  },
  {
   "cell_type": "markdown",
   "id": "1a28d5ab",
   "metadata": {},
   "source": [
    "## Brand Extraction\n",
    "For simplicity, we assume the first word in the `ItemName` is the brand. This may not always be perfect, but works for common formats like 'Coles Free Range Eggs'."
   ]
  },
  {
   "cell_type": "code",
   "execution_count": 3,
   "id": "78384360",
   "metadata": {},
   "outputs": [],
   "source": [
    "# Extract the brand name (first word of the item name)\n",
    "def extract_brand(item_name):\n",
    "    return item_name.split()[0] if isinstance(item_name, str) else None\n",
    "\n",
    "# Apply brand extraction to each row\n",
    "combined_df['Brand'] = combined_df['ItemName'].apply(extract_brand)"
   ]
  },
  {
   "cell_type": "markdown",
   "id": "820a166a",
   "metadata": {},
   "source": [
    "## Top Brand Calculation Logic\n",
    "This function filters the data based on the input keyword, aggregates quantities per brand and store, and returns the top-selling brand per store."
   ]
  },
  {
   "cell_type": "code",
   "execution_count": 4,
   "id": "e1c936ed",
   "metadata": {},
   "outputs": [],
   "source": [
    "# Function to find top-selling brands based on a search keyword\n",
    "def top_brands_by_keyword(df, keyword):\n",
    "    # Filter products based on keyword\n",
    "    filtered_df = df[df['ItemName'].str.contains(keyword, case=False, na=False)]\n",
    "    \n",
    "    # Group by Store and Brand, sum quantities\n",
    "    grouped = filtered_df.groupby(['Store', 'Brand'])['Quantity'].sum().reset_index()\n",
    "    \n",
    "    # Get the top-selling brand in each store\n",
    "    top_brands = grouped.loc[grouped.groupby('Store')['Quantity'].idxmax()]\n",
    "    return top_brands"
   ]
  },
  {
   "cell_type": "markdown",
   "id": "07e4e38b",
   "metadata": {},
   "source": [
    "## User Input and Brand Analysis\n",
    "Here, the user inputs a keyword and the tool outputs the top-selling brand in each store. It also saves the result to a CSV file."
   ]
  },
  {
   "cell_type": "code",
   "execution_count": 5,
   "id": "57662f56",
   "metadata": {},
   "outputs": [
    {
     "name": "stdout",
     "output_type": "stream",
     "text": [
      "\n",
      "Top Selling Brand(s) by Store for keyword 'Chips':\n",
      "\n",
      "         Store    Brand  Quantity\n",
      "6        Coles    Coles       425\n",
      "76  Woolworths  Smith's       852\n",
      "\n",
      "Saved results to 'top_brands_by_store.csv'\n"
     ]
    }
   ],
   "source": [
    "# Ask user to input a keyword\n",
    "keyword = input(\"Enter a keyword to search for (e.g., 'milk'): \")\n",
    "\n",
    "# Call the analysis function\n",
    "top_brands = top_brands_by_keyword(combined_df, keyword)\n",
    "\n",
    "# Display results\n",
    "print(\"\\nTop Selling Brand(s) by Store for keyword '{}':\\n\".format(keyword))\n",
    "print(top_brands)\n",
    "\n",
    "# Save the results to a CSV file\n",
    "top_brands.to_csv('top_brands_by_store.csv', index=False)\n",
    "print(\"\\nSaved results to 'top_brands_by_store.csv'\")"
   ]
  },
  {
   "cell_type": "code",
   "execution_count": 6,
   "id": "0d1fa677",
   "metadata": {},
   "outputs": [
    {
     "name": "stdout",
     "output_type": "stream",
     "text": [
      "\n",
      "Cheapest product matching the keyword 'Chips':\n",
      "\n",
      "Store                                              Woolworths\n",
      "ItemName     Nong Shim Shrimp Meat Chip Shrimp Meat Chips 75g\n",
      "Brand                                                    Nong\n",
      "UnitPrice                                                1.45\n",
      "Name: 27172, dtype: object\n"
     ]
    }
   ],
   "source": [
    "# Find the cheapest product among the filtered results\n",
    "filtered_df = combined_df[combined_df['ItemName'].str.contains(keyword, case=False, na=False)]\n",
    "\n",
    "# Find the product with the lowest unit price\n",
    "cheapest_product = filtered_df.loc[filtered_df['UnitPrice'].idxmin()]\n",
    "\n",
    "print(\"\\nCheapest product matching the keyword '{}':\\n\".format(keyword))\n",
    "print(cheapest_product[['Store', 'ItemName', 'Brand', 'UnitPrice']])"
   ]
  },
  {
   "cell_type": "code",
   "execution_count": 7,
   "id": "cb016694",
   "metadata": {},
   "outputs": [
    {
     "name": "stdout",
     "output_type": "stream",
     "text": [
      "\n",
      "Cheapest product(s) matching the keyword 'Chips':\n",
      "\n",
      "             Store                                          ItemName   Brand  \\\n",
      "582861       Coles   Smiths Grainwaves Chips Sour Cream Chives | 40g  Smiths   \n",
      "27172   Woolworths  Nong Shim Shrimp Meat Chip Shrimp Meat Chips 75g    Nong   \n",
      "\n",
      "        UnitPrice  \n",
      "582861       1.50  \n",
      "27172        1.45  \n",
      "\n",
      " The cheapest product is in Woolworths with 'Nong Shim Shrimp Meat Chip Shrimp Meat Chips 75g' at $ 1.45\n"
     ]
    }
   ],
   "source": [
    "# Compare cheapest product across Woolworths and Coles\n",
    "# Filter data again based on keyword\n",
    "filtered_df = combined_df[combined_df['ItemName'].str.contains(keyword, case=False, na=False)]\n",
    "\n",
    "# Get the cheapest product per store\n",
    "cheapest_per_store = filtered_df.loc[filtered_df.groupby('Store')['UnitPrice'].idxmin()]\n",
    "\n",
    "# Display the cheapest product from each store\n",
    "print(\"\\nCheapest product(s) matching the keyword '{}':\\n\".format(keyword))\n",
    "print(cheapest_per_store[['Store', 'ItemName', 'Brand', 'UnitPrice']])\n",
    "\n",
    "# Find which store has the absolute cheapest product\n",
    "min_price_row = cheapest_per_store.loc[cheapest_per_store['UnitPrice'].idxmin()]\n",
    "print(\"\\n The cheapest product is in {} with '{}' at $ {:.2f}\".format(\n",
    "    min_price_row['Store'],\n",
    "    min_price_row['ItemName'],\n",
    "    min_price_row['UnitPrice']\n",
    "))"
   ]
  },
  {
   "cell_type": "markdown",
   "id": "bfe4af86",
   "metadata": {},
   "source": [
    "## Absolute Cheapest Product (Across All Stores)\n",
    "This section identifies the **single cheapest product** from both stores based on the entered keyword.\n",
    "It filters all matching products and selects the one with the lowest unit price overall."
   ]
  },
  {
   "cell_type": "code",
   "execution_count": 8,
   "id": "9d5d6a2f",
   "metadata": {},
   "outputs": [
    {
     "name": "stdout",
     "output_type": "stream",
     "text": [
      "\n",
      "Cheapest product matching the keyword 'Chips':\n",
      "\n",
      "Store                                              Woolworths\n",
      "ItemName     Nong Shim Shrimp Meat Chip Shrimp Meat Chips 75g\n",
      "Brand                                                    Nong\n",
      "UnitPrice                                                1.45\n",
      "Name: 27172, dtype: object\n"
     ]
    }
   ],
   "source": [
    "# Find the cheapest product among the filtered results\n",
    "filtered_df = combined_df[combined_df['ItemName'].str.contains(keyword, case=False, na=False)]\n",
    "cheapest_product = filtered_df.loc[filtered_df['UnitPrice'].idxmin()]\n",
    "\n",
    "print(\"\\nCheapest product matching the keyword '{}':\\n\".format(keyword))\n",
    "print(cheapest_product[['Store', 'ItemName', 'Brand', 'UnitPrice']])"
   ]
  },
  {
   "cell_type": "markdown",
   "id": "00d3594a",
   "metadata": {},
   "source": [
    "**Conclusion**: This is the product with the lowest unit price **regardless of store**. It represents the best option in terms of cost alone among all matched results."
   ]
  },
  {
   "cell_type": "markdown",
   "id": "f92466e2",
   "metadata": {},
   "source": [
    "## Cheapest Product Per Store & Comparison\n",
    "This section finds the cheapest product **in each store individually** and compares them.\n",
    "It helps determine which store offers a better price for the searched keyword."
   ]
  },
  {
   "cell_type": "code",
   "execution_count": 9,
   "id": "f96658de",
   "metadata": {},
   "outputs": [
    {
     "name": "stdout",
     "output_type": "stream",
     "text": [
      "\n",
      "Cheapest product(s) matching the keyword 'Chips':\n",
      "\n",
      "             Store                                          ItemName   Brand  \\\n",
      "582861       Coles   Smiths Grainwaves Chips Sour Cream Chives | 40g  Smiths   \n",
      "27172   Woolworths  Nong Shim Shrimp Meat Chip Shrimp Meat Chips 75g    Nong   \n",
      "\n",
      "        UnitPrice  \n",
      "582861       1.50  \n",
      "27172        1.45  \n"
     ]
    }
   ],
   "source": [
    "# Compare cheapest product across Woolworths and Coles\n",
    "filtered_df = combined_df[combined_df['ItemName'].str.contains(keyword, case=False, na=False)]\n",
    "cheapest_per_store = filtered_df.loc[filtered_df.groupby('Store')['UnitPrice'].idxmin()]\n",
    "\n",
    "# Display cheapest product from each store\n",
    "print(\"\\nCheapest product(s) matching the keyword '{}':\\n\".format(keyword))\n",
    "print(cheapest_per_store[['Store', 'ItemName', 'Brand', 'UnitPrice']])"
   ]
  },
  {
   "cell_type": "code",
   "execution_count": 10,
   "id": "b0a0e2e6",
   "metadata": {},
   "outputs": [
    {
     "name": "stdout",
     "output_type": "stream",
     "text": [
      "\n",
      " The cheapest product is in Woolworths with 'Nong Shim Shrimp Meat Chip Shrimp Meat Chips 75g' at $ 1.45\n"
     ]
    }
   ],
   "source": [
    "# Identify which store offers the absolute cheapest product\n",
    "min_price_row = cheapest_per_store.loc[cheapest_per_store['UnitPrice'].idxmin()]\n",
    "print(\"\\n The cheapest product is in {} with '{}' at $ {:.2f}\".format(\n",
    "    min_price_row['Store'],\n",
    "    min_price_row['ItemName'],\n",
    "    min_price_row['UnitPrice']\n",
    "))"
   ]
  },
  {
   "cell_type": "markdown",
   "id": "c943060e",
   "metadata": {},
   "source": [
    "**Conclusion**: Among both stores, the cheapest product was offered by **{min_price_row['Store']}** for the searched keyword.\n",
    "\n",
    "This lets users make informed purchasing decisions based on store-wise pricing."
   ]
  }
 ],
 "metadata": {
  "kernelspec": {
   "display_name": "base",
   "language": "python",
   "name": "python3"
  },
  "language_info": {
   "codemirror_mode": {
    "name": "ipython",
    "version": 3
   },
   "file_extension": ".py",
   "mimetype": "text/x-python",
   "name": "python",
   "nbconvert_exporter": "python",
   "pygments_lexer": "ipython3",
   "version": "3.11.11"
  }
 },
 "nbformat": 4,
 "nbformat_minor": 5
}
