{
 "cells": [
  {
   "cell_type": "markdown",
   "id": "fa360101",
   "metadata": {},
   "source": [
    "# Search Engine Optimization (SEO) with NLP"
   ]
  },
  {
   "cell_type": "code",
   "execution_count": 9,
   "id": "46590fef",
   "metadata": {},
   "outputs": [],
   "source": [
    "import spacy\n",
    "import pandas as pd\n",
    "from sklearn.feature_extraction.text import TfidfVectorizer"
   ]
  },
  {
   "cell_type": "code",
   "execution_count": 10,
   "id": "6b583e9b",
   "metadata": {},
   "outputs": [],
   "source": [
    "nlp = spacy.load(\"en_core_web_sm\")\n",
    "\n",
    "search_queries = [\n",
    "    \"buy organic apple juice\",\n",
    "    \"cheap coca cola bottles\",\n",
    "    \"best price for whole grain pasta\",\n",
    "    \"discount on Heinz ketchup\",\n",
    "    \"order 1.5L Coca-Cola online\",\n",
    "    \"high fiber whole grain pasta\",\n",
    "    \"find affordable apple juice\"\n",
    "]"
   ]
  },
  {
   "cell_type": "code",
   "execution_count": 11,
   "id": "e91379be",
   "metadata": {},
   "outputs": [
    {
     "name": "stdout",
     "output_type": "stream",
     "text": [
      "\n",
      "TF-IDF Matrix (Keyword Importance):\n",
      "   affordable     apple      coca      cola     grain     juice    online   \n",
      "0    0.000000  0.538281  0.000000  0.000000  0.000000  0.538281  0.000000  \\\n",
      "1    0.000000  0.000000  0.707107  0.707107  0.000000  0.000000  0.000000   \n",
      "2    0.000000  0.000000  0.000000  0.000000  0.707107  0.000000  0.000000   \n",
      "3    0.000000  0.000000  0.000000  0.000000  0.000000  0.000000  0.000000   \n",
      "4    0.000000  0.000000  0.451635  0.451635  0.000000  0.000000  0.544082   \n",
      "5    0.000000  0.000000  0.000000  0.000000  0.707107  0.000000  0.000000   \n",
      "6    0.648465  0.538281  0.000000  0.000000  0.000000  0.538281  0.000000   \n",
      "\n",
      "      order   organic     pasta  \n",
      "0  0.000000  0.648465  0.000000  \n",
      "1  0.000000  0.000000  0.000000  \n",
      "2  0.000000  0.000000  0.707107  \n",
      "3  0.000000  0.000000  0.000000  \n",
      "4  0.544082  0.000000  0.000000  \n",
      "5  0.000000  0.000000  0.707107  \n",
      "6  0.000000  0.000000  0.000000  \n",
      "\n",
      "Keyword Frequency (Search Trends):\n",
      "apple: 2 times\n",
      "juice: 2 times\n",
      "organic: 1 times\n",
      "coca: 2 times\n",
      "cola: 2 times\n",
      "grain: 2 times\n",
      "pasta: 2 times\n",
      "online: 1 times\n",
      "order: 1 times\n",
      "affordable: 1 times\n"
     ]
    }
   ],
   "source": [
    "def preprocess_query(query):\n",
    "    doc = nlp(query.lower())\n",
    "    return \" \".join([token.lemma_ for token in doc if not token.is_stop and token.is_alpha])\n",
    "\n",
    "processed_queries = [preprocess_query(query) for query in search_queries]\n",
    "\n",
    "def extract_keywords(queries):\n",
    "    tfidf_vectorizer = TfidfVectorizer(max_df=0.8, max_features=10)\n",
    "    tfidf_matrix = tfidf_vectorizer.fit_transform(queries)\n",
    "    keywords = tfidf_vectorizer.get_feature_names_out()\n",
    "    \n",
    "    tfidf_df = pd.DataFrame(tfidf_matrix.toarray(), columns=keywords)\n",
    "    return tfidf_df, keywords\n",
    "\n",
    "tfidf_df, keywords = extract_keywords(processed_queries)\n",
    "\n",
    "print(\"\\nTF-IDF Matrix (Keyword Importance):\")\n",
    "print(tfidf_df)\n",
    "\n",
    "def analyze_search_patterns(keywords, queries):\n",
    "    keyword_frequency = {}\n",
    "    \n",
    "    # Count keyword frequency in search queries\n",
    "    for query in queries:\n",
    "        for keyword in keywords:\n",
    "            if keyword in query:\n",
    "                keyword_frequency[keyword] = keyword_frequency.get(keyword, 0) + 1\n",
    "    \n",
    "    return keyword_frequency\n",
    "\n",
    "keyword_frequency = analyze_search_patterns(keywords, processed_queries)\n",
    "\n",
    "print(\"\\nKeyword Frequency (Search Trends):\")\n",
    "for keyword, freq in keyword_frequency.items():\n",
    "    print(f\"{keyword}: {freq} times\")\n",
    "\n",
    "def recommend_products_based_on_keywords(keyword):\n",
    "    product_recommendations = {\n",
    "        \"apple\": [\"Organic Apple Juice\", \"Cold-Pressed Apple Juice\"],\n",
    "        \"pasta\": [\"Whole Grain Pasta\", \"High Fiber Pasta\"],\n",
    "        \"coca\": [\"Coca-Cola 1.5L\", \"Coca-Cola 500ml\"],\n",
    "        \"ketchup\": [\"Heinz Tomato Ketchup\", \"No-Sugar Heinz Ketchup\"]\n",
    "    }\n",
    "    return product_recommendations.get(keyword, [\"No recommendations available\"])\n"
   ]
  },
  {
   "cell_type": "code",
   "execution_count": 12,
   "id": "f54499ec",
   "metadata": {},
   "outputs": [
    {
     "name": "stdout",
     "output_type": "stream",
     "text": [
      "\n",
      "Most Common Keyword: apple\n",
      "Recommended Products for 'apple': ['Organic Apple Juice', 'Cold-Pressed Apple Juice']\n"
     ]
    }
   ],
   "source": [
    "# Provide product recommendations based on most common keyword\n",
    "most_common_keyword = max(keyword_frequency, key=keyword_frequency.get)\n",
    "recommendations = recommend_products_based_on_keywords(most_common_keyword)\n",
    "\n",
    "print(f\"\\nMost Common Keyword: {most_common_keyword}\")\n",
    "print(f\"Recommended Products for '{most_common_keyword}': {recommendations}\")"
   ]
  }
 ],
 "metadata": {
  "kernelspec": {
   "display_name": "Python 3 (ipykernel)",
   "language": "python",
   "name": "python3"
  },
  "language_info": {
   "codemirror_mode": {
    "name": "ipython",
    "version": 3
   },
   "file_extension": ".py",
   "mimetype": "text/x-python",
   "name": "python",
   "nbconvert_exporter": "python",
   "pygments_lexer": "ipython3",
   "version": "3.9.7"
  }
 },
 "nbformat": 4,
 "nbformat_minor": 5
}
