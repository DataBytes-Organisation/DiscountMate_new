{
 "cells": [
  {
   "cell_type": "markdown",
   "id": "00389ee6",
   "metadata": {},
   "source": [
    "# Voice Search Optimization"
   ]
  },
  {
   "cell_type": "code",
   "execution_count": 23,
   "id": "e0021801",
   "metadata": {},
   "outputs": [
    {
     "name": "stderr",
     "output_type": "stream",
     "text": [
      "C:\\Users\\Hadi\\anaconda3\\lib\\site-packages\\fuzzywuzzy\\fuzz.py:11: UserWarning: Using slow pure-python SequenceMatcher. Install python-Levenshtein to remove this warning\n",
      "  warnings.warn('Using slow pure-python SequenceMatcher. Install python-Levenshtein to remove this warning')\n"
     ]
    }
   ],
   "source": [
    "import speech_recognition as sr\n",
    "from fuzzywuzzy import process"
   ]
  },
  {
   "cell_type": "code",
   "execution_count": 24,
   "id": "297ce834",
   "metadata": {},
   "outputs": [],
   "source": [
    "product_database = [\n",
    "    \"Apple iPhone 12\",\n",
    "    \"Samsung Galaxy S21\",\n",
    "    \"Sony Wireless Headphones\",\n",
    "    \"Dell XPS 13 Laptop\",\n",
    "    \"Nikon D3500 Camera\"\n",
    "]\n",
    "\n",
    "recognizer = sr.Recognizer()"
   ]
  },
  {
   "cell_type": "code",
   "execution_count": 25,
   "id": "73797ff7",
   "metadata": {},
   "outputs": [],
   "source": [
    "def fuzzy_search(query, choices):\n",
    "    # Get the closest match using fuzzy matching\n",
    "    closest_match, score = process.extractOne(query, choices)\n",
    "    return closest_match, score\n",
    "\n",
    "def voice_search():\n",
    "    with sr.Microphone() as source:\n",
    "        print(\"Please say the product you're looking for...\")\n",
    "        audio = recognizer.listen(source)\n",
    "        \n",
    "        try:\n",
    "            # Convert speech to text\n",
    "            query = recognizer.recognize_google(audio)\n",
    "            print(f\"Recognized speech: {query}\")\n",
    "            \n",
    "            # Fuzzy search for the best match\n",
    "            closest_match, score = fuzzy_search(query, product_database)\n",
    "            \n",
    "            if score > 60:  # Set a threshold for how close the match should be\n",
    "                print(f\"Best match: {closest_match} (Confidence Score: {score})\")\n",
    "            else:\n",
    "                print(\"No closely matching product found.\")\n",
    "        \n",
    "        except sr.UnknownValueError:\n",
    "            print(\"Sorry, I couldn't understand the audio.\")\n",
    "        except sr.RequestError as e:\n",
    "            print(f\"Could not request results; {e}\")"
   ]
  },
  {
   "cell_type": "code",
   "execution_count": 72,
   "id": "0ce62a39",
   "metadata": {},
   "outputs": [
    {
     "name": "stdout",
     "output_type": "stream",
     "text": [
      "Please say the product you're looking for...\n",
      "Recognized speech: Apple iPhone 12\n",
      "Best match: Apple iPhone 12 (Confidence Score: 100)\n"
     ]
    }
   ],
   "source": [
    "# Trigger voice search\n",
    "voice_search()"
   ]
  }
 ],
 "metadata": {
  "kernelspec": {
   "display_name": "Python 3 (ipykernel)",
   "language": "python",
   "name": "python3"
  },
  "language_info": {
   "codemirror_mode": {
    "name": "ipython",
    "version": 3
   },
   "file_extension": ".py",
   "mimetype": "text/x-python",
   "name": "python",
   "nbconvert_exporter": "python",
   "pygments_lexer": "ipython3",
   "version": "3.9.7"
  }
 },
 "nbformat": 4,
 "nbformat_minor": 5
}
