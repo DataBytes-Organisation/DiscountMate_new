{
 "cells": [
  {
   "cell_type": "markdown",
   "id": "40379e82",
   "metadata": {},
   "source": [
    "\n",
    "# Store-Specific Product Comparison Tool\n",
    "\n",
    "1. Select a store and get the best-selling products.\n",
    "2. Save the best-sellers to CSV.\n",
    "3. Prompt the user to input a product name.\n",
    "4. Search for that product across all stores and export results to CSV.\n",
    "5. Let the user choose **which stores** to compare.\n",
    "6. Display the **cheapest product** if available.\n"
   ]
  },
  {
   "cell_type": "code",
   "execution_count": 10,
   "id": "27f1e1f7",
   "metadata": {},
   "outputs": [],
   "source": [
    "\n",
    "import pandas as pd\n",
    "from fuzzywuzzy import process, fuzz\n",
    "import matplotlib.pyplot as plt\n",
    "\n",
    "\n",
    "# Helper to normalize item names\n",
    "def clean_item_name(name):\n",
    "    if isinstance(name, str):\n",
    "        return name.lower().strip()\n",
    "    return name\n",
    "\n",
    "# Load all datasets\n",
    "file_paths = {\n",
    "    \"IGA\": \"IGA 1.csv\",\n",
    "    \"Foodland\": \"foodland_balaklava.csv\",\n",
    "    \"Woolworths\": \"woolworths_cleaned.csv\",\n",
    "    \"Coles\": \"coles_synthetic_dataset.csv\"\n",
    "    \n",
    "}\n",
    "dataframes = {k: pd.read_csv(v) for k, v in file_paths.items()}\n"
   ]
  },
  {
   "cell_type": "code",
   "execution_count": 11,
   "id": "e98eb9ed",
   "metadata": {},
   "outputs": [
    {
     "name": "stdout",
     "output_type": "stream",
     "text": [
      "Matching products saved to matching_products.csv\n"
     ]
    },
    {
     "data": {
      "application/vnd.microsoft.datawrangler.viewer.v0+json": {
       "columns": [
        {
         "name": "index",
         "rawType": "int64",
         "type": "integer"
        },
        {
         "name": "Product Name",
         "rawType": "object",
         "type": "string"
        },
        {
         "name": "Price",
         "rawType": "float64",
         "type": "float"
        },
        {
         "name": "Store",
         "rawType": "object",
         "type": "string"
        }
       ],
       "conversionMethod": "pd.DataFrame",
       "ref": "542a886f-71bd-4471-a554-69051b2aad5e",
       "rows": [
        [
         "0",
         "woolworths scone homestyle buttermilk 6 pack",
         "6.0",
         "Woolworths"
        ],
        [
         "1",
         "woolworths soft & glazed milk buns 4 pack",
         "5.5",
         "Woolworths"
        ],
        [
         "2",
         "woolworths southern style buttermilk chicken thigh fillet burgers 350g",
         "9.0",
         "Woolworths"
        ],
        [
         "3",
         "woolworths buttermilk tennessee style chicken wing nibbles 600g",
         "8.5",
         "Woolworths"
        ],
        [
         "4",
         "thomas dux french washed rind sheep's milk brie from the deli per kg",
         "90.0",
         "Woolworths"
        ],
        [
         "5",
         "woolworths uht full cream milk 1l",
         "1.6",
         "Woolworths"
        ],
        [
         "6",
         "woolworths full cream milk 3l",
         "4.5",
         "Woolworths"
        ],
        [
         "7",
         "woolworths full cream milk 2l",
         "3.1",
         "Woolworths"
        ],
        [
         "8",
         "woolworths free from lactose full cream milk 1l",
         "1.6",
         "Woolworths"
        ],
        [
         "9",
         "woolworths uht skim milk 1l",
         "1.6",
         "Woolworths"
        ],
        [
         "10",
         "woolworths uht lite milk 1l",
         "1.6",
         "Woolworths"
        ],
        [
         "11",
         "woolworths free from lactose lite milk 1l",
         "1.6",
         "Woolworths"
        ],
        [
         "12",
         "devondale 100% pure full cream milk long life uht milk 1l",
         "2.2",
         "Woolworths"
        ],
        [
         "13",
         "woolworths lite milk 2l",
         "3.1",
         "Woolworths"
        ],
        [
         "14",
         "woolworths soy milk 1l",
         "1.15",
         "Woolworths"
        ],
        [
         "15",
         "woolworths lite milk 3l",
         "4.5",
         "Woolworths"
        ],
        [
         "16",
         "woolworths unsweetened almond milk 1l",
         "1.85",
         "Woolworths"
        ],
        [
         "17",
         "bonsoy long life soy milk 1l",
         "4.5",
         "Woolworths"
        ],
        [
         "18",
         "a2 milk full cream milk 2l",
         "6.9",
         "Woolworths"
        ],
        [
         "19",
         "sanitarium so good barista edition almond milk 1l",
         "4.0",
         "Woolworths"
        ],
        [
         "20",
         "sanitarium so good long life unsweetened almond milk 1l",
         "2.9",
         "Woolworths"
        ],
        [
         "21",
         "sanitarium so good long life regular soy milk 1l",
         "2.2",
         "Woolworths"
        ],
        [
         "22",
         "sanitarium so good oat no added sugar uht milk 1l",
         "2.8",
         "Woolworths"
        ],
        [
         "23",
         "dairy farmers full cream milk 2l",
         "4.3",
         "Woolworths"
        ],
        [
         "24",
         "pureharvest organic oat milk 1l",
         "1.5",
         "Woolworths"
        ],
        [
         "25",
         "sanitarium so good barista edition oat milk 1l",
         "4.0",
         "Woolworths"
        ],
        [
         "26",
         "norco full cream milk 2l",
         "4.0",
         "Woolworths"
        ],
        [
         "27",
         "pauls zymil lactose free full cream long life milk 1l",
         "3.0",
         "Woolworths"
        ],
        [
         "28",
         "woolworths full cream milk 1l",
         "1.6",
         "Woolworths"
        ],
        [
         "29",
         "macro organic oat milk unsweetened 1l",
         "2.25",
         "Woolworths"
        ],
        [
         "30",
         "pureharvest organic almond milk 1l",
         "1.8",
         "Woolworths"
        ],
        [
         "31",
         "devondale semi skim milk long life uht milk 1l",
         "2.2",
         "Woolworths"
        ],
        [
         "32",
         "a2 milk light milk 2l",
         "6.9",
         "Woolworths"
        ],
        [
         "33",
         "vitasoy oat milky uht milk 1l",
         "3.0",
         "Woolworths"
        ],
        [
         "34",
         "dairy farmers full cream milk 3l",
         "6.2",
         "Woolworths"
        ],
        [
         "35",
         "macro organic soy long life milk 1l",
         "1.6",
         "Woolworths"
        ],
        [
         "36",
         "pauls farmhouse gold full cream milk 1.5l",
         "4.4",
         "Woolworths"
        ],
        [
         "37",
         "dairy farmers full cream milk 1l",
         "2.8",
         "Woolworths"
        ],
        [
         "38",
         "pauls zymil lactose free low fat long life milk 1l",
         "3.0",
         "Woolworths"
        ],
        [
         "39",
         "vitasoy calci plus soy milk 1l",
         "3.0",
         "Woolworths"
        ],
        [
         "40",
         "vitasoy oat milk 1l",
         "3.3",
         "Woolworths"
        ],
        [
         "41",
         "dairy farmers heart active light milk 1l",
         "3.9",
         "Woolworths"
        ],
        [
         "42",
         "pureharvest organic malt free soy milk 1l",
         "2.0",
         "Woolworths"
        ],
        [
         "43",
         "vitasoy soy milky lite 1l",
         "2.45",
         "Woolworths"
        ],
        [
         "44",
         "australia's own unsweetened almond milk 1l",
         "3.1",
         "Woolworths"
        ],
        [
         "45",
         "devondale skim milk long life uht milk 1l",
         "2.2",
         "Woolworths"
        ],
        [
         "46",
         "sanitarium so good long life original almond milk 1l",
         "2.9",
         "Woolworths"
        ],
        [
         "47",
         "milklab almond milk home barista edition 1l",
         "4.4",
         "Woolworths"
        ],
        [
         "48",
         "a2 milk full cream milk 1l",
         "3.9",
         "Woolworths"
        ],
        [
         "49",
         "pauls zymil lactose free full cream milk 1l",
         "3.9",
         "Woolworths"
        ]
       ],
       "shape": {
        "columns": 3,
        "rows": 9180
       }
      },
      "text/html": [
       "<div>\n",
       "<style scoped>\n",
       "    .dataframe tbody tr th:only-of-type {\n",
       "        vertical-align: middle;\n",
       "    }\n",
       "\n",
       "    .dataframe tbody tr th {\n",
       "        vertical-align: top;\n",
       "    }\n",
       "\n",
       "    .dataframe thead th {\n",
       "        text-align: right;\n",
       "    }\n",
       "</style>\n",
       "<table border=\"1\" class=\"dataframe\">\n",
       "  <thead>\n",
       "    <tr style=\"text-align: right;\">\n",
       "      <th></th>\n",
       "      <th>Product Name</th>\n",
       "      <th>Price</th>\n",
       "      <th>Store</th>\n",
       "    </tr>\n",
       "  </thead>\n",
       "  <tbody>\n",
       "    <tr>\n",
       "      <th>0</th>\n",
       "      <td>woolworths scone homestyle buttermilk 6 pack</td>\n",
       "      <td>6.00</td>\n",
       "      <td>Woolworths</td>\n",
       "    </tr>\n",
       "    <tr>\n",
       "      <th>1</th>\n",
       "      <td>woolworths soft &amp; glazed milk buns 4 pack</td>\n",
       "      <td>5.50</td>\n",
       "      <td>Woolworths</td>\n",
       "    </tr>\n",
       "    <tr>\n",
       "      <th>2</th>\n",
       "      <td>woolworths southern style buttermilk chicken t...</td>\n",
       "      <td>9.00</td>\n",
       "      <td>Woolworths</td>\n",
       "    </tr>\n",
       "    <tr>\n",
       "      <th>3</th>\n",
       "      <td>woolworths buttermilk tennessee style chicken ...</td>\n",
       "      <td>8.50</td>\n",
       "      <td>Woolworths</td>\n",
       "    </tr>\n",
       "    <tr>\n",
       "      <th>4</th>\n",
       "      <td>thomas dux french washed rind sheep's milk bri...</td>\n",
       "      <td>90.00</td>\n",
       "      <td>Woolworths</td>\n",
       "    </tr>\n",
       "    <tr>\n",
       "      <th>...</th>\n",
       "      <td>...</td>\n",
       "      <td>...</td>\n",
       "      <td>...</td>\n",
       "    </tr>\n",
       "    <tr>\n",
       "      <th>9175</th>\n",
       "      <td>whittaker's block chocolate creamy milk block ...</td>\n",
       "      <td>8.00</td>\n",
       "      <td>Coles</td>\n",
       "    </tr>\n",
       "    <tr>\n",
       "      <th>9176</th>\n",
       "      <td>whittaker's block chocolate milk creamy cara ....</td>\n",
       "      <td>8.00</td>\n",
       "      <td>Coles</td>\n",
       "    </tr>\n",
       "    <tr>\n",
       "      <th>9177</th>\n",
       "      <td>whittaker's original peanut slab milk chocolat...</td>\n",
       "      <td>1.25</td>\n",
       "      <td>Coles</td>\n",
       "    </tr>\n",
       "    <tr>\n",
       "      <th>9178</th>\n",
       "      <td>whittaker's toasted coconut slab milk chocolat...</td>\n",
       "      <td>1.25</td>\n",
       "      <td>Coles</td>\n",
       "    </tr>\n",
       "    <tr>\n",
       "      <th>9179</th>\n",
       "      <td>whittaker's west coast buttermilk caramelised ...</td>\n",
       "      <td>4.40</td>\n",
       "      <td>Coles</td>\n",
       "    </tr>\n",
       "  </tbody>\n",
       "</table>\n",
       "<p>9180 rows × 3 columns</p>\n",
       "</div>"
      ],
      "text/plain": [
       "                                           Product Name  Price       Store\n",
       "0          woolworths scone homestyle buttermilk 6 pack   6.00  Woolworths\n",
       "1             woolworths soft & glazed milk buns 4 pack   5.50  Woolworths\n",
       "2     woolworths southern style buttermilk chicken t...   9.00  Woolworths\n",
       "3     woolworths buttermilk tennessee style chicken ...   8.50  Woolworths\n",
       "4     thomas dux french washed rind sheep's milk bri...  90.00  Woolworths\n",
       "...                                                 ...    ...         ...\n",
       "9175  whittaker's block chocolate creamy milk block ...   8.00       Coles\n",
       "9176  whittaker's block chocolate milk creamy cara ....   8.00       Coles\n",
       "9177  whittaker's original peanut slab milk chocolat...   1.25       Coles\n",
       "9178  whittaker's toasted coconut slab milk chocolat...   1.25       Coles\n",
       "9179  whittaker's west coast buttermilk caramelised ...   4.40       Coles\n",
       "\n",
       "[9180 rows x 3 columns]"
      ]
     },
     "execution_count": 11,
     "metadata": {},
     "output_type": "execute_result"
    }
   ],
   "source": [
    "# Ask the user to enter a product name for partial match searching\n",
    "product_query = input(\"Enter product name to search: \").lower().strip()\n",
    "\n",
    "# Function to convert a price column to numeric and drop rows with invalid/missing values\n",
    "def clean_price_column(df, column):\n",
    "    df[column] = pd.to_numeric(df[column], errors=\"coerce\")  # Convert prices to numeric, coerce errors to NaN\n",
    "    return df.dropna(subset=[column])  # Drop rows where the price is NaN\n",
    "\n",
    "# Prepare a list to hold all matched rows from all stores\n",
    "matched_rows = []\n",
    "\n",
    "# Iterate through each store's DataFrame in the dictionary `dataframes`\n",
    "for store, df in dataframes.items():\n",
    "    # Dynamically detect column name for product and price across different formats\n",
    "    name_col = \"Item Name\" if \"Item Name\" in df.columns else \"Product Name\"\n",
    "    price_col = (\n",
    "        \"Item Price\" if \"Item Price\" in df.columns else\n",
    "        \"Discounted Price\" if \"Discounted Price\" in df.columns else\n",
    "        \"Best Price\"\n",
    "    )\n",
    "\n",
    "    # Clean item name column if needed (could apply further normalization here)\n",
    "    df[name_col] = df[name_col].apply(clean_item_name)  # Optional: a cleaning function you may define\n",
    "\n",
    "    # Clean the price column (convert to numeric and drop invalids)\n",
    "    df = clean_price_column(df, price_col)\n",
    "\n",
    "    # Filter rows where the item name contains the search keyword (case-insensitive)\n",
    "    matches = df[df[name_col].str.contains(product_query, na=False)].copy()\n",
    "\n",
    "    # Add store name to each matching row\n",
    "    matches[\"Store\"] = store\n",
    "\n",
    "    # Keep only relevant columns and rename them uniformly\n",
    "    matches = matches[[name_col, price_col, \"Store\"]]\n",
    "    matches.columns = [\"Product Name\", \"Price\", \"Store\"]\n",
    "\n",
    "    # Append this store's matches to the results list\n",
    "    matched_rows.append(matches)\n",
    "\n",
    "# Combine matches from all stores into one DataFrame\n",
    "matched_df = pd.concat(matched_rows, ignore_index=True)\n",
    "\n",
    "# Save the final matched results to a CSV file\n",
    "matched_df.to_csv(\"matching_products.csv\", index=False)\n",
    "\n",
    "# Print a confirmation message and return the result\n",
    "print(\"Matching products saved to matching_products.csv\")\n",
    "matched_df\n"
   ]
  },
  {
   "cell_type": "code",
   "execution_count": 14,
   "id": "18b68924",
   "metadata": {},
   "outputs": [
    {
     "name": "stdout",
     "output_type": "stream",
     "text": [
      "Available products for comparison:\n",
      "['woolworths scone homestyle buttermilk 6 pack'\n",
      " 'woolworths soft & glazed milk buns 4 pack'\n",
      " 'woolworths southern style buttermilk chicken thigh fillet burgers 350g'\n",
      " ... \"whittaker's original peanut slab milk chocolate bar | 50g\"\n",
      " \"whittaker's toasted coconut slab milk chocolate bar | 50g\"\n",
      " \"whittaker's west coast buttermilk caramelised ... 100g\"]\n",
      "Available stores: Woolworths, Coles\n",
      "The specified product was not found in the selected stores.\n"
     ]
    }
   ],
   "source": [
    "\n",
    "# Show all matched products\n",
    "print(\"Available products for comparison:\")\n",
    "print(matched_df[\"Product Name\"].unique())\n",
    "\n",
    "# Ask which product to compare\n",
    "compare_product = input(\"Enter the exact product name to compare: \").lower().strip()\n",
    "\n",
    "# Ask which stores to include in comparison\n",
    "available_stores = matched_df[\"Store\"].unique()\n",
    "print(f\"Available stores: {', '.join(available_stores)}\")\n",
    "selected_stores = input(\"Enter comma-separated stores to compare (e.g. IGA,Foodland,Coles,Woolworths): \").split(\",\")\n",
    "\n",
    "# Filter data\n",
    "filtered = matched_df[\n",
    "    (matched_df[\"Product Name\"].str.lower() == compare_product) &\n",
    "    (matched_df[\"Store\"].isin([s.strip() for s in selected_stores]))\n",
    "]\n",
    "\n",
    "# Show cheapest or not found\n",
    "if filtered.empty:\n",
    "    print(\"The specified product was not found in the selected stores.\")\n",
    "else:\n",
    "    cheapest = filtered.loc[filtered[\"Price\"].idxmin()]\n",
    "    print(f\"Cheapest match found:Store: {cheapest['Store']}, Product: {cheapest['Product Name']}, Price: ${cheapest['Price']}\")\n"
   ]
  },
  {
   "cell_type": "code",
   "execution_count": 13,
   "id": "9f0afaba",
   "metadata": {},
   "outputs": [
    {
     "name": "stdout",
     "output_type": "stream",
     "text": [
      "Top matching store prices saved to top_store_prices.csv\n"
     ]
    },
    {
     "data": {
      "application/vnd.microsoft.datawrangler.viewer.v0+json": {
       "columns": [
        {
         "name": "index",
         "rawType": "int64",
         "type": "integer"
        },
        {
         "name": "Product Name",
         "rawType": "object",
         "type": "string"
        },
        {
         "name": "Price",
         "rawType": "float64",
         "type": "float"
        },
        {
         "name": "Store",
         "rawType": "object",
         "type": "string"
        }
       ],
       "conversionMethod": "pd.DataFrame",
       "ref": "71e31f67-7efd-4922-9d5c-4a64ec526fc6",
       "rows": [
        [
         "0",
         "essentials coconut milk 400ml",
         "0.95",
         "Woolworths"
        ],
        [
         "1",
         "essentials coconut milk 400ml",
         "0.95",
         "Woolworths"
        ],
        [
         "2",
         "essentials coconut milk 400ml",
         "0.95",
         "Woolworths"
        ],
        [
         "3",
         "essentials coconut milk 400ml",
         "0.95",
         "Woolworths"
        ],
        [
         "4",
         "essentials coconut milk 400ml",
         "0.95",
         "Woolworths"
        ],
        [
         "5",
         "coles coconut milk | 400ml",
         "0.95",
         "Coles"
        ],
        [
         "6",
         "coles coconut milk | 400ml",
         "0.95",
         "Coles"
        ],
        [
         "7",
         "coles coconut milk | 400ml",
         "0.95",
         "Coles"
        ],
        [
         "8",
         "coles coconut milk | 400ml",
         "0.95",
         "Coles"
        ],
        [
         "9",
         "coles coconut milk | 400ml",
         "0.95",
         "Coles"
        ]
       ],
       "shape": {
        "columns": 3,
        "rows": 10
       }
      },
      "text/html": [
       "<div>\n",
       "<style scoped>\n",
       "    .dataframe tbody tr th:only-of-type {\n",
       "        vertical-align: middle;\n",
       "    }\n",
       "\n",
       "    .dataframe tbody tr th {\n",
       "        vertical-align: top;\n",
       "    }\n",
       "\n",
       "    .dataframe thead th {\n",
       "        text-align: right;\n",
       "    }\n",
       "</style>\n",
       "<table border=\"1\" class=\"dataframe\">\n",
       "  <thead>\n",
       "    <tr style=\"text-align: right;\">\n",
       "      <th></th>\n",
       "      <th>Product Name</th>\n",
       "      <th>Price</th>\n",
       "      <th>Store</th>\n",
       "    </tr>\n",
       "  </thead>\n",
       "  <tbody>\n",
       "    <tr>\n",
       "      <th>0</th>\n",
       "      <td>essentials coconut milk 400ml</td>\n",
       "      <td>0.95</td>\n",
       "      <td>Woolworths</td>\n",
       "    </tr>\n",
       "    <tr>\n",
       "      <th>1</th>\n",
       "      <td>essentials coconut milk 400ml</td>\n",
       "      <td>0.95</td>\n",
       "      <td>Woolworths</td>\n",
       "    </tr>\n",
       "    <tr>\n",
       "      <th>2</th>\n",
       "      <td>essentials coconut milk 400ml</td>\n",
       "      <td>0.95</td>\n",
       "      <td>Woolworths</td>\n",
       "    </tr>\n",
       "    <tr>\n",
       "      <th>3</th>\n",
       "      <td>essentials coconut milk 400ml</td>\n",
       "      <td>0.95</td>\n",
       "      <td>Woolworths</td>\n",
       "    </tr>\n",
       "    <tr>\n",
       "      <th>4</th>\n",
       "      <td>essentials coconut milk 400ml</td>\n",
       "      <td>0.95</td>\n",
       "      <td>Woolworths</td>\n",
       "    </tr>\n",
       "    <tr>\n",
       "      <th>5</th>\n",
       "      <td>coles coconut milk | 400ml</td>\n",
       "      <td>0.95</td>\n",
       "      <td>Coles</td>\n",
       "    </tr>\n",
       "    <tr>\n",
       "      <th>6</th>\n",
       "      <td>coles coconut milk | 400ml</td>\n",
       "      <td>0.95</td>\n",
       "      <td>Coles</td>\n",
       "    </tr>\n",
       "    <tr>\n",
       "      <th>7</th>\n",
       "      <td>coles coconut milk | 400ml</td>\n",
       "      <td>0.95</td>\n",
       "      <td>Coles</td>\n",
       "    </tr>\n",
       "    <tr>\n",
       "      <th>8</th>\n",
       "      <td>coles coconut milk | 400ml</td>\n",
       "      <td>0.95</td>\n",
       "      <td>Coles</td>\n",
       "    </tr>\n",
       "    <tr>\n",
       "      <th>9</th>\n",
       "      <td>coles coconut milk | 400ml</td>\n",
       "      <td>0.95</td>\n",
       "      <td>Coles</td>\n",
       "    </tr>\n",
       "  </tbody>\n",
       "</table>\n",
       "</div>"
      ],
      "text/plain": [
       "                    Product Name  Price       Store\n",
       "0  essentials coconut milk 400ml   0.95  Woolworths\n",
       "1  essentials coconut milk 400ml   0.95  Woolworths\n",
       "2  essentials coconut milk 400ml   0.95  Woolworths\n",
       "3  essentials coconut milk 400ml   0.95  Woolworths\n",
       "4  essentials coconut milk 400ml   0.95  Woolworths\n",
       "5     coles coconut milk | 400ml   0.95       Coles\n",
       "6     coles coconut milk | 400ml   0.95       Coles\n",
       "7     coles coconut milk | 400ml   0.95       Coles\n",
       "8     coles coconut milk | 400ml   0.95       Coles\n",
       "9     coles coconut milk | 400ml   0.95       Coles"
      ]
     },
     "execution_count": 13,
     "metadata": {},
     "output_type": "execute_result"
    }
   ],
   "source": [
    "# Generate top pricing matches across all stores for the searched product\n",
    "# Reuse product_query from earlier step\n",
    "store_results = []\n",
    "\n",
    "for store, df in dataframes.items():\n",
    "    name_col = \"Item Name\" if \"Item Name\" in df.columns else \"Product Name\"\n",
    "    price_col = \"Item Price\" if \"Item Price\" in df.columns else \"Discounted Price\" if \"Discounted Price\" in df.columns else \"Best Price\"\n",
    "    \n",
    "    df[name_col] = df[name_col].apply(clean_item_name)\n",
    "    df = clean_price_column(df, price_col)\n",
    "    \n",
    "    # Get top 5 cheapest matches that contain the product query\n",
    "    matched = df[df[name_col].str.contains(product_query, na=False)].copy()\n",
    "    matched[\"Store\"] = store\n",
    "    matched = matched.sort_values(price_col).head(5)\n",
    "    matched = matched[[name_col, price_col, \"Store\"]]\n",
    "    matched.columns = [\"Product Name\", \"Price\", \"Store\"]\n",
    "    store_results.append(matched)\n",
    "\n",
    "# Concatenate all top matched results\n",
    "top_prices_df = pd.concat(store_results, ignore_index=True)\n",
    "top_prices_df.to_csv(\"top_store_prices.csv\", index=False)\n",
    "print(\"Top matching store prices saved to top_store_prices.csv\")\n",
    "top_prices_df\n"
   ]
  }
 ],
 "metadata": {
  "kernelspec": {
   "display_name": "base",
   "language": "python",
   "name": "python3"
  },
  "language_info": {
   "codemirror_mode": {
    "name": "ipython",
    "version": 3
   },
   "file_extension": ".py",
   "mimetype": "text/x-python",
   "name": "python",
   "nbconvert_exporter": "python",
   "pygments_lexer": "ipython3",
   "version": "3.11.11"
  }
 },
 "nbformat": 4,
 "nbformat_minor": 5
}
