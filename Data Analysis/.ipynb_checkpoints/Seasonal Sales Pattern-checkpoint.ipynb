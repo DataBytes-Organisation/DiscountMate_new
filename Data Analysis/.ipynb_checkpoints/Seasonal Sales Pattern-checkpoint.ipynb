{
 "cells": [
  {
   "cell_type": "markdown",
   "id": "0692fcfe-b08e-4d34-a85e-b38c06aa847f",
   "metadata": {},
   "source": [
    "**Prepared by:** Abin Baby"
   ]
  },
  {
   "cell_type": "markdown",
   "id": "2f100e33-b7a0-4dbe-b471-f388d672b5b6",
   "metadata": {},
   "source": [
    " **Unit:** SIT 764"
   ]
  },
  {
   "cell_type": "markdown",
   "id": "56228799-d6a8-4ee8-9d5f-6e747604f855",
   "metadata": {},
   "source": [
    " # DiscountMate: Monthly Average Price Trends for Top 5 SKUs"
   ]
  },
  {
   "cell_type": "code",
   "execution_count": 1,
   "id": "b42e8169-1b60-4553-a40e-89a703e88d3f",
   "metadata": {},
   "outputs": [],
   "source": [
    "import pandas as pd\n",
    "import matplotlib.pyplot as plt"
   ]
  },
  {
   "cell_type": "markdown",
   "id": "bf6dbe44-1910-4ed9-9b7b-841c97a597ec",
   "metadata": {},
   "source": [
    "## To Load the dataset"
   ]
  },
  {
   "cell_type": "code",
   "execution_count": 2,
   "id": "e3462beb-96a0-408c-b13d-ac4311f95548",
   "metadata": {},
   "outputs": [],
   "source": [
    "df = pd.read_csv(\"synthetic_data.csv\")"
   ]
  },
  {
   "cell_type": "markdown",
   "id": "79c2041f-9718-416a-9f8e-9430d5733974",
   "metadata": {},
   "source": [
    "## Parsing the Date column"
   ]
  },
  {
   "cell_type": "code",
   "execution_count": 3,
   "id": "42275f27-2c4a-4915-a423-5c9cb795fd49",
   "metadata": {},
   "outputs": [],
   "source": [
    "df[\"Date\"] = pd.to_datetime(df[\"Date\"])"
   ]
  },
  {
   "cell_type": "markdown",
   "id": "6fac83fd-04a3-4678-a023-bd939e385511",
   "metadata": {},
   "source": [
    "## Computing month-end average unit_price per SKU"
   ]
  },
  {
   "cell_type": "code",
   "execution_count": 4,
   "id": "abdee142-387c-433c-bf99-e71e34de626f",
   "metadata": {},
   "outputs": [
    {
     "name": "stderr",
     "output_type": "stream",
     "text": [
      "C:\\Users\\Abin Baby\\AppData\\Local\\Temp\\ipykernel_19224\\2176413913.py:5: FutureWarning: 'M' is deprecated and will be removed in a future version, please use 'ME' instead.\n",
      "  .resample(\"M\")\n"
     ]
    },
    {
     "data": {
      "text/html": [
       "<div>\n",
       "<style scoped>\n",
       "    .dataframe tbody tr th:only-of-type {\n",
       "        vertical-align: middle;\n",
       "    }\n",
       "\n",
       "    .dataframe tbody tr th {\n",
       "        vertical-align: top;\n",
       "    }\n",
       "\n",
       "    .dataframe thead th {\n",
       "        text-align: right;\n",
       "    }\n",
       "</style>\n",
       "<table border=\"1\" class=\"dataframe\">\n",
       "  <thead>\n",
       "    <tr style=\"text-align: right;\">\n",
       "      <th></th>\n",
       "      <th>SKU</th>\n",
       "      <th>Date</th>\n",
       "      <th>unit_price</th>\n",
       "    </tr>\n",
       "  </thead>\n",
       "  <tbody>\n",
       "    <tr>\n",
       "      <th>0</th>\n",
       "      <td>1000301P</td>\n",
       "      <td>2018-06-30</td>\n",
       "      <td>1.71</td>\n",
       "    </tr>\n",
       "    <tr>\n",
       "      <th>1</th>\n",
       "      <td>1000301P</td>\n",
       "      <td>2019-07-31</td>\n",
       "      <td>1.60</td>\n",
       "    </tr>\n",
       "    <tr>\n",
       "      <th>2</th>\n",
       "      <td>1000301P</td>\n",
       "      <td>2023-08-31</td>\n",
       "      <td>1.60</td>\n",
       "    </tr>\n",
       "    <tr>\n",
       "      <th>3</th>\n",
       "      <td>1000301P</td>\n",
       "      <td>2024-05-31</td>\n",
       "      <td>1.84</td>\n",
       "    </tr>\n",
       "    <tr>\n",
       "      <th>4</th>\n",
       "      <td>1005611P</td>\n",
       "      <td>2020-11-30</td>\n",
       "      <td>58.00</td>\n",
       "    </tr>\n",
       "  </tbody>\n",
       "</table>\n",
       "</div>"
      ],
      "text/plain": [
       "        SKU       Date  unit_price\n",
       "0  1000301P 2018-06-30        1.71\n",
       "1  1000301P 2019-07-31        1.60\n",
       "2  1000301P 2023-08-31        1.60\n",
       "3  1000301P 2024-05-31        1.84\n",
       "4  1005611P 2020-11-30       58.00"
      ]
     },
     "execution_count": 4,
     "metadata": {},
     "output_type": "execute_result"
    }
   ],
   "source": [
    "monthly = (\n",
    "    df\n",
    "    .set_index(\"Date\")\n",
    "    .groupby(\"SKU\")[\"unit_price\"]\n",
    "    .resample(\"M\")         \n",
    "    .mean()\n",
    "    .dropna(how=\"any\")     \n",
    "    .reset_index()\n",
    ")\n",
    "monthly.head()"
   ]
  },
  {
   "cell_type": "markdown",
   "id": "e5ba08a5-66ad-49a2-b83f-a358df69dffd",
   "metadata": {},
   "source": [
    "## Finding the top 5 SKUs by overall average price"
   ]
  },
  {
   "cell_type": "code",
   "execution_count": 5,
   "id": "86b6c4c8-1580-4ed2-93a9-96fdf4224aaf",
   "metadata": {},
   "outputs": [],
   "source": [
    "top5 = (\n",
    "    monthly.groupby(\"SKU\")[\"unit_price\"]\n",
    "           .mean()\n",
    "           .nlargest(5)\n",
    "           .index\n",
    "           .tolist()\n",
    ")"
   ]
  },
  {
   "cell_type": "code",
   "execution_count": 6,
   "id": "5330863b-88ee-421a-8246-048c59b0647d",
   "metadata": {},
   "outputs": [
    {
     "name": "stdout",
     "output_type": "stream",
     "text": [
      "['3425061P', '3512520P', '3512541P', '3360512P', '3939058P']\n"
     ]
    }
   ],
   "source": [
    "print(top5)"
   ]
  },
  {
   "cell_type": "markdown",
   "id": "87be7b81-a8bb-4809-a9b8-ce32d5f9b6a4",
   "metadata": {},
   "source": [
    "## Keeping only those SKUs and drop NaNs"
   ]
  },
  {
   "cell_type": "code",
   "execution_count": 7,
   "id": "35c55fcb-16a3-4a90-9d35-8c211931db0d",
   "metadata": {},
   "outputs": [],
   "source": [
    "monthly_top5 = monthly[monthly[\"SKU\"].isin(top5)].dropna(subset=[\"unit_price\"])"
   ]
  },
  {
   "cell_type": "markdown",
   "id": "8b2dd9e3-5d40-4131-be60-d20062071237",
   "metadata": {},
   "source": [
    "## Pivot to get one column per SKU"
   ]
  },
  {
   "cell_type": "code",
   "execution_count": 8,
   "id": "86bb2b36-c025-4802-ac16-df83af8a8e4b",
   "metadata": {},
   "outputs": [],
   "source": [
    "pivot = monthly_top5.pivot(index=\"Date\", columns=\"SKU\", values=\"unit_price\")"
   ]
  },
  {
   "cell_type": "code",
   "execution_count": 9,
   "id": "ca08beab-2920-43d6-8ffb-ef9cd198b176",
   "metadata": {},
   "outputs": [
    {
     "data": {
      "text/html": [
       "<div>\n",
       "<style scoped>\n",
       "    .dataframe tbody tr th:only-of-type {\n",
       "        vertical-align: middle;\n",
       "    }\n",
       "\n",
       "    .dataframe tbody tr th {\n",
       "        vertical-align: top;\n",
       "    }\n",
       "\n",
       "    .dataframe thead th {\n",
       "        text-align: right;\n",
       "    }\n",
       "</style>\n",
       "<table border=\"1\" class=\"dataframe\">\n",
       "  <thead>\n",
       "    <tr style=\"text-align: right;\">\n",
       "      <th>SKU</th>\n",
       "      <th>3360512P</th>\n",
       "      <th>3425061P</th>\n",
       "      <th>3512520P</th>\n",
       "      <th>3512541P</th>\n",
       "      <th>3939058P</th>\n",
       "    </tr>\n",
       "    <tr>\n",
       "      <th>Date</th>\n",
       "      <th></th>\n",
       "      <th></th>\n",
       "      <th></th>\n",
       "      <th></th>\n",
       "      <th></th>\n",
       "    </tr>\n",
       "  </thead>\n",
       "  <tbody>\n",
       "    <tr>\n",
       "      <th>2018-06-30</th>\n",
       "      <td>NaN</td>\n",
       "      <td>NaN</td>\n",
       "      <td>260.0</td>\n",
       "      <td>NaN</td>\n",
       "      <td>NaN</td>\n",
       "    </tr>\n",
       "    <tr>\n",
       "      <th>2018-10-31</th>\n",
       "      <td>200.07</td>\n",
       "      <td>NaN</td>\n",
       "      <td>NaN</td>\n",
       "      <td>NaN</td>\n",
       "      <td>NaN</td>\n",
       "    </tr>\n",
       "    <tr>\n",
       "      <th>2019-10-31</th>\n",
       "      <td>NaN</td>\n",
       "      <td>NaN</td>\n",
       "      <td>NaN</td>\n",
       "      <td>273.0</td>\n",
       "      <td>NaN</td>\n",
       "    </tr>\n",
       "    <tr>\n",
       "      <th>2019-12-31</th>\n",
       "      <td>NaN</td>\n",
       "      <td>NaN</td>\n",
       "      <td>299.0</td>\n",
       "      <td>NaN</td>\n",
       "      <td>NaN</td>\n",
       "    </tr>\n",
       "    <tr>\n",
       "      <th>2020-01-31</th>\n",
       "      <td>NaN</td>\n",
       "      <td>NaN</td>\n",
       "      <td>NaN</td>\n",
       "      <td>NaN</td>\n",
       "      <td>150.0</td>\n",
       "    </tr>\n",
       "  </tbody>\n",
       "</table>\n",
       "</div>"
      ],
      "text/plain": [
       "SKU         3360512P  3425061P  3512520P  3512541P  3939058P\n",
       "Date                                                        \n",
       "2018-06-30       NaN       NaN     260.0       NaN       NaN\n",
       "2018-10-31    200.07       NaN       NaN       NaN       NaN\n",
       "2019-10-31       NaN       NaN       NaN     273.0       NaN\n",
       "2019-12-31       NaN       NaN     299.0       NaN       NaN\n",
       "2020-01-31       NaN       NaN       NaN       NaN     150.0"
      ]
     },
     "execution_count": 9,
     "metadata": {},
     "output_type": "execute_result"
    }
   ],
   "source": [
    "# Inspect the first few rows\n",
    "pivot.head()"
   ]
  },
  {
   "cell_type": "markdown",
   "id": "bffd8e3e-8b95-40ba-9c9d-485c9baa7903",
   "metadata": {},
   "source": [
    "## Plotting each SKU trend"
   ]
  },
  {
   "cell_type": "code",
   "execution_count": 10,
   "id": "d5fb52c8-d2cc-4a21-801d-0433799163ab",
   "metadata": {},
   "outputs": [
    {
     "data": {
      "image/png": "[encoded data removed]",
      "text/plain": [
       "<Figure size 1200x600 with 1 Axes>"
      ]
     },
     "metadata": {},
     "output_type": "display_data"
    }
   ],
   "source": [
    "plt.figure(figsize=(12, 6))\n",
    "for sku in pivot.columns:\n",
    "    plt.plot(pivot.index, pivot[sku], marker=\"o\", label=sku)\n",
    "\n",
    "plt.title(\"Monthly Avg Unit Price for Top 5 SKUs\")\n",
    "plt.xlabel(\"Month\")\n",
    "plt.ylabel(\"Average Unit Price ($)\")\n",
    "plt.legend(title=\"SKU\")\n",
    "plt.grid(True)\n",
    "plt.tight_layout()\n",
    "plt.show()"
   ]
  },
  {
   "cell_type": "code",
   "execution_count": null,
   "id": "aa694a10-6a71-4f06-bc1d-1867d1b00c70",
   "metadata": {},
   "outputs": [],
   "source": []
  }
 ],
 "metadata": {
  "kernelspec": {
   "display_name": "Python 3 (ipykernel)",
   "language": "python",
   "name": "python3"
  },
  "language_info": {
   "codemirror_mode": {
    "name": "ipython",
    "version": 3
   },
   "file_extension": ".py",
   "mimetype": "text/x-python",
   "name": "python",
   "nbconvert_exporter": "python",
   "pygments_lexer": "ipython3",
   "version": "3.12.7"
  }
 },
 "nbformat": 4,
 "nbformat_minor": 5
}
