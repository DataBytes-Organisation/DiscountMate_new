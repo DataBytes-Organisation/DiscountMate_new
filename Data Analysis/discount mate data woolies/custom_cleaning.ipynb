{
 "cells": [
  {
   "cell_type": "markdown",
   "id": "f2d87de4-df28-4baf-97b5-6adaca3700a6",
   "metadata": {},
   "source": [
    "# Cell 1: Imports & Data Cleaning Functions\n",
    "\n",
    "This cell imports the required libraries and defines two key functions:\n",
    "- `clean_numeric` cleans numeric fields by removing unwanted characters.\n",
    "- `clean_and_process` loads each CSV file, standardizes column names, cleans price columns, drops duplicates and rows missing an essential \"item_price\", calculates discount percentages if available, and adds a day identifier.\n"
   ]
  },
  {
   "cell_type": "code",
   "execution_count": 1,
   "id": "4aac4aa3-d5c4-4f57-ade1-820e04af22de",
   "metadata": {},
   "outputs": [
    {
     "name": "stdout",
     "output_type": "stream",
     "text": [
      "Processed Tuesday file columns: ['product_code', 'category', 'item_name', 'best_price', 'best_unit_price', 'item_price', 'unit_price', 'price_was', 'discount_percentage', 'day']\n",
      "Number of records (Tuesday): 24722\n"
     ]
    }
   ],
   "source": [
    "import pandas as pd\n",
    "import matplotlib.pyplot as plt\n",
    "import re\n",
    "\n",
    "def clean_numeric(val):\n",
    "    \"\"\"Remove commas, currency symbols, and non-numeric characters from a value.\"\"\"\n",
    "    if pd.isna(val):\n",
    "        return val\n",
    "    # Remove commas and unwanted characters (keep digits, dot, and minus sign)\n",
    "    val_str = str(val).replace(',', '')\n",
    "    return re.sub(r'[^\\d\\.\\-]', '', val_str)\n",
    "\n",
    "def clean_and_process(file_path, day_tag):\n",
    "    \"\"\"\n",
    "    Load a CSV file, clean its columns, drop duplicate rows and rows missing 'item_price',\n",
    "    convert price columns to numeric, compute discount percentages if applicable,\n",
    "    and add a day identifier.\n",
    "    \"\"\"\n",
    "    # Load CSV file\n",
    "    df = pd.read_csv(file_path)\n",
    "    \n",
    "    # Drop irrelevant columns\n",
    "    cols_to_drop = ['Special Text', 'Complex Promo Text', 'Link']\n",
    "    df.drop(columns=cols_to_drop, inplace=True, errors='ignore')\n",
    "    \n",
    "    # Standardize column names: trim, lower-case, and replace spaces with underscores.\n",
    "    df.columns = df.columns.str.strip().str.lower().str.replace(\" \", \"_\")\n",
    "    \n",
    "    # Define price columns to clean and convert\n",
    "    price_cols = ['best_price', 'best_unit_price', 'item_price', 'unit_price', 'price_was']\n",
    "    for col in price_cols:\n",
    "        if col in df.columns:\n",
    "            df[col] = df[col].apply(clean_numeric)\n",
    "            df[col] = pd.to_numeric(df[col], errors='coerce')\n",
    "    \n",
    "    # Remove duplicate rows\n",
    "    df.drop_duplicates(inplace=True)\n",
    "    \n",
    "    # Drop rows where the essential 'item_price' is missing\n",
    "    df.dropna(subset=['item_price'], inplace=True)\n",
    "    \n",
    "    # Compute discount percentage if 'price_was' is available (avoid division by zero)\n",
    "    if 'price_was' in df.columns:\n",
    "        df['price_was'] = df['price_was'].replace(0, pd.NA)\n",
    "        df['discount_percentage'] = ((df['price_was'] - df['item_price']) / df['price_was']) * 100\n",
    "    \n",
    "    # Add a column to indicate the day of data collection\n",
    "    df['day'] = day_tag\n",
    "    \n",
    "    return df\n",
    "\n",
    "# Quick test with Tuesday data\n",
    "tue_df_test = clean_and_process(\"Tue10SepWoolworths 1(in).csv\", \"Tuesday\")\n",
    "print(\"Processed Tuesday file columns:\", tue_df_test.columns.tolist())\n",
    "print(\"Number of records (Tuesday):\", len(tue_df_test))\n"
   ]
  },
  {
   "cell_type": "markdown",
   "id": "5c831d41-2ff1-451e-8ae6-82863c618219",
   "metadata": {},
   "source": [
    "# Cell 2: Loading, Cleaning & Combining All Files\n",
    "\n",
    "This cell uses the cleaning function from Cell 1 to load and clean all three CSV files corresponding to Tuesday, Wednesday, and Sunday. Each file gets a day identifier before they are combined into a single DataFrame. The combined data is then saved as \"Combined_Cleaned.csv\".\n"
   ]
  },
  {
   "cell_type": "code",
   "execution_count": 2,
   "id": "c3ff3623-3c2f-4365-8d6e-1a0bddbee583",
   "metadata": {},
   "outputs": [
    {
     "name": "stdout",
     "output_type": "stream",
     "text": [
      "Processed file for Tuesday: 24722 records\n",
      "Processed file for Wednesday: 24778 records\n",
      "Processed file for Sunday: 22365 records\n",
      "Combined data shape: (71865, 10)\n",
      "Combined cleaned data saved as 'Combined_Cleaned.csv'\n"
     ]
    }
   ],
   "source": [
    "# Define file paths and corresponding day labels.\n",
    "files = [\n",
    "    (\"Tue10SepWoolworths 1(in).csv\", \"Tuesday\"),\n",
    "    (\"Wed04SepWoolworths 1(in).csv\", \"Wednesday\"),\n",
    "    (\"Sun4AugWoolworths 1(in).csv\", \"Sunday\")\n",
    "]\n",
    "\n",
    "# Process each file and store the cleaned DataFrames.\n",
    "cleaned_dfs = []\n",
    "for file_path, day in files:\n",
    "    df_clean = clean_and_process(file_path, day)\n",
    "    print(f\"Processed file for {day}: {len(df_clean)} records\")\n",
    "    cleaned_dfs.append(df_clean)\n",
    "\n",
    "# Combine all DataFrames into one\n",
    "combined_df = pd.concat(cleaned_dfs, ignore_index=True)\n",
    "print(\"Combined data shape:\", combined_df.shape)\n",
    "\n",
    "# Save the combined data for Power BI ingestion.\n",
    "combined_df.to_csv(\"Combined_Cleaned.csv\", index=False)\n",
    "print(\"Combined cleaned data saved as 'Combined_Cleaned.csv'\")\n"
   ]
  },
  {
   "cell_type": "markdown",
   "id": "505bf6f4-1484-4218-9fcf-88fe610b25d8",
   "metadata": {},
   "source": [
    "# Cell 3: Unit Detection & Converting 10g/100g to Kg\n",
    "\n",
    "This cell detects the measurement unit from product names. It now checks for both \"100g\" and \"10g\":\n",
    "- If a product is sold in 100g portions, its `unit_price` is converted to a per‑kg basis by multiplying by 10.\n",
    "- If a product is sold in 10g portions, its `unit_price` is converted to a per‑kg basis by multiplying by 100.\n",
    "- Other unit types (e.g. \"kg\" or \"each\") are left unchanged.\n",
    "This ensures that all unit prices reflect a price per kilogram.\n"
   ]
  },
  {
   "cell_type": "code",
   "execution_count": 3,
   "id": "75329238-2ce1-4aa0-8d4c-d4fbe3b8aec3",
   "metadata": {},
   "outputs": [
    {
     "name": "stdout",
     "output_type": "stream",
     "text": [
      "Measurement type counts after conversion:\n",
      "measurement_type\n",
      "each    39222\n",
      "kg      32643\n",
      "Name: count, dtype: int64\n",
      "Converted data saved as 'Combined_Cleaned_Converted.csv'\n"
     ]
    }
   ],
   "source": [
    "import re\n",
    "import pandas as pd\n",
    "\n",
    "def convert_unit_price(row):\n",
    "    \"\"\"\n",
    "    Checks the product name for a weight measurement.\n",
    "    \n",
    "    If found:\n",
    "      - For kilograms (kg), divides the unit price by the weight to obtain the per‑kg price.\n",
    "      - For grams (g), multiplies the unit price by (1000 / weight) to convert to per‑kg.\n",
    "      \n",
    "    If no weight measurement is found, it returns the original unit price and flags the product as \"each\".\n",
    "    \n",
    "    Returns a Series with the converted unit_price and a measurement type (\"kg\" or \"each\").\n",
    "    \"\"\"\n",
    "    product_name = str(row['item_name'])\n",
    "    price = row['unit_price']\n",
    "    \n",
    "    # Return original price if it's missing.\n",
    "    if pd.isna(price):\n",
    "        return pd.Series([price, \"each\"])\n",
    "    \n",
    "    # Search for a weight measurement in the product name (e.g., \"250g\", \"1kg\")\n",
    "    match = re.search(r'(\\d+(?:\\.\\d+)?)\\s*(kg|g)', product_name.lower())\n",
    "    \n",
    "    if match:\n",
    "        weight_val = float(match.group(1))\n",
    "        unit_found = match.group(2)\n",
    "        if unit_found == 'kg':\n",
    "            # Price is for weight_val kg, so price per kg:\n",
    "            converted_price = price / weight_val\n",
    "            return pd.Series([converted_price, \"kg\"])\n",
    "        elif unit_found == 'g':\n",
    "            # Price is for weight_val g, so price per kg:\n",
    "            converted_price = price * (1000 / weight_val)\n",
    "            return pd.Series([converted_price, \"kg\"])\n",
    "    else:\n",
    "        # No weight measurement detected: treat it as sold \"each\"\n",
    "        return pd.Series([price, \"each\"])\n",
    "\n",
    "# Assume combined_df is already loaded / combined from earlier steps.\n",
    "# Apply conversion across the DataFrame.\n",
    "converted = combined_df.apply(convert_unit_price, axis=1)\n",
    "combined_df['unit_price'] = converted[0]\n",
    "combined_df['measurement_type'] = converted[1]\n",
    "\n",
    "print(\"Measurement type counts after conversion:\")\n",
    "print(combined_df['measurement_type'].value_counts())\n",
    "\n",
    "# Optionally, save the updated DataFrame\n",
    "combined_df.to_csv(\"Combined_Cleaned_Converted.csv\", index=False)\n",
    "print(\"Converted data saved as 'Combined_Cleaned_Converted.csv'\")\n"
   ]
  },
  {
   "cell_type": "code",
   "execution_count": 9,
   "id": "5f2665ad-a9e9-4b62-a6b4-a27b9b900258",
   "metadata": {},
   "outputs": [
    {
     "name": "stderr",
     "output_type": "stream",
     "text": [
      "C:\\Users\\eugen\\AppData\\Local\\Temp\\ipykernel_38604\\1053180928.py:12: FutureWarning: \n",
      "\n",
      "Passing `palette` without assigning `hue` is deprecated and will be removed in v0.14.0. Assign the `x` variable to `hue` and set `legend=False` for the same effect.\n",
      "\n",
      "  sns.barplot(x=\"day\", y=\"item_price\", data=avg_item_price_by_day, palette=\"Set2\")\n"
     ]
    },
    {
     "data": {
      "image/png": "[encoded data removed]",
      "text/plain": [
       "<Figure size 600x400 with 1 Axes>"
      ]
     },
     "metadata": {},
     "output_type": "display_data"
    },
    {
     "name": "stderr",
     "output_type": "stream",
     "text": [
      "C:\\Users\\eugen\\AppData\\Local\\Temp\\ipykernel_38604\\1053180928.py:28: FutureWarning: \n",
      "\n",
      "Passing `palette` without assigning `hue` is deprecated and will be removed in v0.14.0. Assign the `x` variable to `hue` and set `legend=False` for the same effect.\n",
      "\n",
      "  sns.barplot(x=\"day\", y=\"discount_count\", data=discount_counts, palette=\"Set1\")\n"
     ]
    },
    {
     "data": {
      "image/png": "[encoded data removed]",
      "text/plain": [
       "<Figure size 600x400 with 1 Axes>"
      ]
     },
     "metadata": {},
     "output_type": "display_data"
    }
   ],
   "source": [
    "import pandas as pd\n",
    "import matplotlib.pyplot as plt\n",
    "import seaborn as sns\n",
    "\n",
    "# Load the combined dataset\n",
    "combined_df = pd.read_csv(\"Combined_Cleaned_Converted.csv\")\n",
    "\n",
    "# Visualization 1: Average Item Price by Day with truncated y-axis\n",
    "avg_item_price_by_day = combined_df.groupby(\"day\")[\"item_price\"].mean().reset_index()\n",
    "\n",
    "plt.figure(figsize=(6,4))\n",
    "sns.barplot(x=\"day\", y=\"item_price\", data=avg_item_price_by_day, palette=\"Set2\")\n",
    "plt.title(\"Average Item Price by Day\")\n",
    "# Set the y-axis lower bound (adjust based on your data's range)\n",
    "plt.ylim(10, None)\n",
    "plt.xlabel(\"Day\")\n",
    "plt.ylabel(\"Average Item Price\")\n",
    "plt.tight_layout()\n",
    "plt.show()\n",
    "\n",
    "# Visualization 2: Discount Count by Day with truncated y-axis\n",
    "discount_counts = (combined_df[combined_df[\"discount_percentage\"] > 0]\n",
    "                   .groupby(\"day\")\n",
    "                   .size()\n",
    "                   .reset_index(name=\"discount_count\"))\n",
    "\n",
    "plt.figure(figsize=(6,4))\n",
    "sns.barplot(x=\"day\", y=\"discount_count\", data=discount_counts, palette=\"Set1\")\n",
    "plt.title(\"Discount Count by Day\")\n",
    "# Set the y-axis lower bound (adjust based on your data's range)\n",
    "plt.ylim(4000, None)\n",
    "plt.xlabel(\"Day\")\n",
    "plt.ylabel(\"Number of Discounts\")\n",
    "plt.tight_layout()\n",
    "plt.show()\n"
   ]
  },
  {
   "cell_type": "code",
   "execution_count": null,
   "id": "71743c3e-147e-4afa-8f1e-07745b46918e",
   "metadata": {},
   "outputs": [],
   "source": []
  }
 ],
 "metadata": {
  "kernelspec": {
   "display_name": "Python 3 (ipykernel)",
   "language": "python",
   "name": "python3"
  },
  "language_info": {
   "codemirror_mode": {
    "name": "ipython",
    "version": 3
   },
   "file_extension": ".py",
   "mimetype": "text/x-python",
   "name": "python",
   "nbconvert_exporter": "python",
   "pygments_lexer": "ipython3",
   "version": "3.11.11"
  }
 },
 "nbformat": 4,
 "nbformat_minor": 5
}
