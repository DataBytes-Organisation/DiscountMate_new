{
 "cells": [
  {
   "cell_type": "code",
   "execution_count": 28,
   "id": "1623d605-e354-4da9-bec9-0f7aba67a70e",
   "metadata": {},
   "outputs": [
    {
     "name": "stdout",
     "output_type": "stream",
     "text": [
      "   Product Code     Category                    Item Name Best Price  \\\n",
      "0        133211  Fruit & Veg       Cavendish Bananas Each     $0.81    \n",
      "1        134034  Fruit & Veg            Fresh Tomato Each     $0.54    \n",
      "2        144607  Fruit & Veg     Strawberries 250g Punnet     $2.80    \n",
      "3        105919  Fruit & Veg  Fresh Pink Lady Apples Each     $0.86    \n",
      "4        169438  Fruit & Veg          Truss Tomatoes Each     $1.11    \n",
      "\n",
      "  Best Unit Price Item Price    Unit Price Price Was Special Text  \\\n",
      "0     $0.81 / 1EA     $0.81    $0.81 / 1EA       NaN          NaN   \n",
      "1     $0.54 / 1EA     $0.54    $0.54 / 1EA       NaN          NaN   \n",
      "2    $11.20 / 1KG     $2.80   $11.20 / 1KG       NaN          NaN   \n",
      "3     $0.86 / 1EA     $0.86    $0.86 / 1EA       NaN          NaN   \n",
      "4     $1.11 / 1EA     $1.11    $1.11 / 1EA       NaN          NaN   \n",
      "\n",
      "  Complex Promo Text                                               Link  \\\n",
      "0                NaN  https://www.woolworths.com.au/shop/productdeta...   \n",
      "1                NaN  https://www.woolworths.com.au/shop/productdeta...   \n",
      "2                NaN  https://www.woolworths.com.au/shop/productdeta...   \n",
      "3                NaN  https://www.woolworths.com.au/shop/productdeta...   \n",
      "4                NaN  https://www.woolworths.com.au/shop/productdeta...   \n",
      "\n",
      "        Date  \n",
      "0 2019-08-27  \n",
      "1 2019-08-27  \n",
      "2 2019-08-27  \n",
      "3 2019-08-27  \n",
      "4 2019-08-27  \n"
     ]
    }
   ],
   "source": [
    "import pandas as pd\n",
    "import os\n",
    "import re\n",
    "\n",
    "# File paths to the datasets\n",
    "file_paths = [\n",
    "    \"Tue27AugWoolworths.csv\",\n",
    "    \"Tue10SepWoolworths.csv\",\n",
    "    \"Wed04SepWoolworths.csv\",\n",
    "    \"Sun4AugWoolworths.csv\",\n",
    "    \"Tue03SepWoolworths.csv\"\n",
    "]\n",
    "\n",
    "# Function to extract the date from file name and add it to the dataframe\n",
    "def load_and_add_date(file_path):\n",
    "    # Load the dataset\n",
    "    data = pd.read_csv(file_path)\n",
    "    \n",
    "    # Extract the date using a regex pattern (e.g., 27Aug, 10Sep, etc.)\n",
    "    file_name = os.path.basename(file_path)\n",
    "    date_match = re.search(r'\\d{1,2}[A-Za-z]{3}', file_name)\n",
    "    \n",
    "    if date_match:\n",
    "        date_str = date_match.group() + ' 2019'  # Extract correct date format and append year\n",
    "        # Convert to datetime format\n",
    "        data['Date'] = pd.to_datetime(date_str, format='%d%b %Y')\n",
    "    \n",
    "    return data\n",
    "\n",
    "# Load and combine all datasets\n",
    "all_data = pd.concat([load_and_add_date(fp) for fp in file_paths], ignore_index=True)\n",
    "\n",
    "# Display the combined data\n",
    "print(all_data.head())\n"
   ]
  },
  {
   "cell_type": "code",
   "execution_count": 29,
   "id": "b482315b-0656-46a2-97c2-2523677fa52e",
   "metadata": {},
   "outputs": [
    {
     "name": "stdout",
     "output_type": "stream",
     "text": [
      "                     Item Name Best Price  Best Price Cleaned       Date\n",
      "0       Cavendish Bananas Each     $0.81                 0.81 2019-08-27\n",
      "1            Fresh Tomato Each     $0.54                 0.54 2019-08-27\n",
      "2     Strawberries 250g Punnet     $2.80                 2.80 2019-08-27\n",
      "3  Fresh Pink Lady Apples Each     $0.86                 0.86 2019-08-27\n",
      "4          Truss Tomatoes Each     $1.11                 1.11 2019-08-27\n"
     ]
    }
   ],
   "source": [
    "# Cleaning the 'Best Price' column\n",
    "all_data['Best Price Cleaned'] = pd.to_numeric(all_data['Best Price'].replace('[\\$,]', '', regex=True))\n",
    "\n",
    "# Display the cleaned data\n",
    "print(all_data[['Item Name', 'Best Price', 'Best Price Cleaned', 'Date']].head())\n"
   ]
  },
  {
   "cell_type": "code",
   "execution_count": 30,
   "id": "11be6d00-8732-4496-a734-86970c86d55d",
   "metadata": {},
   "outputs": [
    {
     "name": "stdout",
     "output_type": "stream",
     "text": [
      "                           Item Name       Date  Best Price Cleaned\n",
      "0  & Ginger Beer Cans 355ml X 4 Pack 2019-08-04                21.0\n",
      "1  & Pink Gin With Wildberries 500ml 2019-08-04                41.0\n",
      "2  & Pink Gin With Wildberries 500ml 2019-08-27                42.0\n",
      "3  & Pink Gin With Wildberries 500ml 2019-09-03                41.0\n",
      "4  & Pink Gin With Wildberries 500ml 2019-09-04                41.0\n"
     ]
    }
   ],
   "source": [
    "# Group the data by 'Item Name' and 'Date' to get the average price for each item over time\n",
    "grouped_data = all_data.groupby(['Item Name', 'Date'])['Best Price Cleaned'].mean().reset_index()\n",
    "\n",
    "# Display the grouped data\n",
    "print(grouped_data.head())\n"
   ]
  },
  {
   "cell_type": "code",
   "execution_count": 31,
   "id": "92dfa97f-f326-471a-9636-d551c0cfbef9",
   "metadata": {},
   "outputs": [],
   "source": [
    "import numpy as np\n",
    "from sklearn.preprocessing import MinMaxScaler\n",
    "\n",
    "# Extract relevant columns for the LSTM model\n",
    "lstm_data = grouped_data[['Best Price Cleaned', 'Date']].copy()\n",
    "\n",
    "# Sort by date for sequential data\n",
    "lstm_data = lstm_data.sort_values(by='Date')\n",
    "\n",
    "# Scale the data using MinMaxScaler to normalize it\n",
    "scaler = MinMaxScaler(feature_range=(0, 1))\n",
    "lstm_data['Best Price Cleaned'] = scaler.fit_transform(lstm_data[['Best Price Cleaned']])\n",
    "\n",
    "# Prepare input data: create sequences for LSTM input (you can adjust the window size)\n",
    "def create_sequences(data, seq_length):\n",
    "    xs = []\n",
    "    ys = []\n",
    "    for i in range(len(data) - seq_length):\n",
    "        x = data[i:i+seq_length]\n",
    "        y = data[i+seq_length]\n",
    "        xs.append(x)\n",
    "        ys.append(y)\n",
    "    return np.array(xs), np.array(ys)\n",
    "\n",
    "# Set sequence length (window size)\n",
    "seq_length = 10  # This is adjustable\n",
    "\n",
    "# Prepare the sequences\n",
    "X, y = create_sequences(lstm_data['Best Price Cleaned'].values, seq_length)\n",
    "\n",
    "# Reshape the data to fit LSTM input (samples, time steps, features)\n",
    "X = np.reshape(X, (X.shape[0], X.shape[1], 1))\n"
   ]
  },
  {
   "cell_type": "code",
   "execution_count": 32,
   "id": "b9d5a1bc-bf42-4f45-a38c-8b4430d22d09",
   "metadata": {},
   "outputs": [],
   "source": [
    "# Split the data into training and testing sets (80% train, 20% test)\n",
    "split = int(0.8 * len(X))\n",
    "X_train, X_test = X[:split], X[split:]\n",
    "y_train, y_test = y[:split], y[split:]\n"
   ]
  },
  {
   "cell_type": "code",
   "execution_count": 38,
   "id": "8a82fb5d-03d8-4da3-8594-cb986e488892",
   "metadata": {},
   "outputs": [
    {
     "name": "stderr",
     "output_type": "stream",
     "text": [
      "C:\\Users\\anjup\\AppData\\Local\\Packages\\PythonSoftwareFoundation.Python.3.11_qbz5n2kfra8p0\\LocalCache\\local-packages\\Python311\\site-packages\\keras\\src\\layers\\rnn\\rnn.py:204: UserWarning: Do not pass an `input_shape`/`input_dim` argument to a layer. When using Sequential models, prefer using an `Input(shape)` object as the first layer in the model instead.\n",
      "  super().__init__(**kwargs)\n"
     ]
    },
    {
     "name": "stdout",
     "output_type": "stream",
     "text": [
      "Epoch 1/30\n",
      "\u001b[1m1309/1309\u001b[0m \u001b[32m━━━━━━━━━━━━━━━━━━━━\u001b[0m\u001b[37m\u001b[0m \u001b[1m45s\u001b[0m 30ms/step - loss: 0.0024\n",
      "Epoch 2/30\n",
      "\u001b[1m1309/1309\u001b[0m \u001b[32m━━━━━━━━━━━━━━━━━━━━\u001b[0m\u001b[37m\u001b[0m \u001b[1m39s\u001b[0m 29ms/step - loss: 0.0024\n",
      "Epoch 3/30\n",
      "\u001b[1m1309/1309\u001b[0m \u001b[32m━━━━━━━━━━━━━━━━━━━━\u001b[0m\u001b[37m\u001b[0m \u001b[1m38s\u001b[0m 29ms/step - loss: 0.0023\n",
      "Epoch 4/30\n",
      "\u001b[1m1309/1309\u001b[0m \u001b[32m━━━━━━━━━━━━━━━━━━━━\u001b[0m\u001b[37m\u001b[0m \u001b[1m37s\u001b[0m 29ms/step - loss: 0.0024\n",
      "Epoch 5/30\n",
      "\u001b[1m1309/1309\u001b[0m \u001b[32m━━━━━━━━━━━━━━━━━━━━\u001b[0m\u001b[37m\u001b[0m \u001b[1m37s\u001b[0m 28ms/step - loss: 0.0024\n",
      "Epoch 6/30\n",
      "\u001b[1m1309/1309\u001b[0m \u001b[32m━━━━━━━━━━━━━━━━━━━━\u001b[0m\u001b[37m\u001b[0m \u001b[1m37s\u001b[0m 28ms/step - loss: 0.0025\n",
      "Epoch 7/30\n",
      "\u001b[1m1309/1309\u001b[0m \u001b[32m━━━━━━━━━━━━━━━━━━━━\u001b[0m\u001b[37m\u001b[0m \u001b[1m38s\u001b[0m 29ms/step - loss: 0.0023\n",
      "Epoch 8/30\n",
      "\u001b[1m1309/1309\u001b[0m \u001b[32m━━━━━━━━━━━━━━━━━━━━\u001b[0m\u001b[37m\u001b[0m \u001b[1m38s\u001b[0m 29ms/step - loss: 0.0023\n",
      "Epoch 9/30\n",
      "\u001b[1m1309/1309\u001b[0m \u001b[32m━━━━━━━━━━━━━━━━━━━━\u001b[0m\u001b[37m\u001b[0m \u001b[1m41s\u001b[0m 31ms/step - loss: 0.0023\n",
      "Epoch 10/30\n",
      "\u001b[1m1309/1309\u001b[0m \u001b[32m━━━━━━━━━━━━━━━━━━━━\u001b[0m\u001b[37m\u001b[0m \u001b[1m38s\u001b[0m 29ms/step - loss: 0.0022\n",
      "Epoch 11/30\n",
      "\u001b[1m1309/1309\u001b[0m \u001b[32m━━━━━━━━━━━━━━━━━━━━\u001b[0m\u001b[37m\u001b[0m \u001b[1m38s\u001b[0m 29ms/step - loss: 0.0023\n",
      "Epoch 12/30\n",
      "\u001b[1m1309/1309\u001b[0m \u001b[32m━━━━━━━━━━━━━━━━━━━━\u001b[0m\u001b[37m\u001b[0m \u001b[1m38s\u001b[0m 29ms/step - loss: 0.0023\n",
      "Epoch 13/30\n",
      "\u001b[1m1309/1309\u001b[0m \u001b[32m━━━━━━━━━━━━━━━━━━━━\u001b[0m\u001b[37m\u001b[0m \u001b[1m38s\u001b[0m 29ms/step - loss: 0.0022\n",
      "Epoch 14/30\n",
      "\u001b[1m1309/1309\u001b[0m \u001b[32m━━━━━━━━━━━━━━━━━━━━\u001b[0m\u001b[37m\u001b[0m \u001b[1m38s\u001b[0m 29ms/step - loss: 0.0023\n",
      "Epoch 15/30\n",
      "\u001b[1m1309/1309\u001b[0m \u001b[32m━━━━━━━━━━━━━━━━━━━━\u001b[0m\u001b[37m\u001b[0m \u001b[1m38s\u001b[0m 29ms/step - loss: 0.0023\n",
      "Epoch 16/30\n",
      "\u001b[1m1309/1309\u001b[0m \u001b[32m━━━━━━━━━━━━━━━━━━━━\u001b[0m\u001b[37m\u001b[0m \u001b[1m38s\u001b[0m 29ms/step - loss: 0.0022\n",
      "Epoch 17/30\n",
      "\u001b[1m1309/1309\u001b[0m \u001b[32m━━━━━━━━━━━━━━━━━━━━\u001b[0m\u001b[37m\u001b[0m \u001b[1m38s\u001b[0m 29ms/step - loss: 0.0023\n",
      "Epoch 18/30\n",
      "\u001b[1m1309/1309\u001b[0m \u001b[32m━━━━━━━━━━━━━━━━━━━━\u001b[0m\u001b[37m\u001b[0m \u001b[1m38s\u001b[0m 29ms/step - loss: 0.0023\n",
      "Epoch 19/30\n",
      "\u001b[1m1309/1309\u001b[0m \u001b[32m━━━━━━━━━━━━━━━━━━━━\u001b[0m\u001b[37m\u001b[0m \u001b[1m39s\u001b[0m 29ms/step - loss: 0.0023\n",
      "Epoch 20/30\n",
      "\u001b[1m1309/1309\u001b[0m \u001b[32m━━━━━━━━━━━━━━━━━━━━\u001b[0m\u001b[37m\u001b[0m \u001b[1m38s\u001b[0m 29ms/step - loss: 0.0023\n",
      "Epoch 21/30\n",
      "\u001b[1m1309/1309\u001b[0m \u001b[32m━━━━━━━━━━━━━━━━━━━━\u001b[0m\u001b[37m\u001b[0m \u001b[1m39s\u001b[0m 29ms/step - loss: 0.0023\n",
      "Epoch 22/30\n",
      "\u001b[1m1309/1309\u001b[0m \u001b[32m━━━━━━━━━━━━━━━━━━━━\u001b[0m\u001b[37m\u001b[0m \u001b[1m39s\u001b[0m 30ms/step - loss: 0.0024\n",
      "Epoch 23/30\n",
      "\u001b[1m1309/1309\u001b[0m \u001b[32m━━━━━━━━━━━━━━━━━━━━\u001b[0m\u001b[37m\u001b[0m \u001b[1m39s\u001b[0m 29ms/step - loss: 0.0023\n",
      "Epoch 24/30\n",
      "\u001b[1m1309/1309\u001b[0m \u001b[32m━━━━━━━━━━━━━━━━━━━━\u001b[0m\u001b[37m\u001b[0m \u001b[1m39s\u001b[0m 30ms/step - loss: 0.0023\n",
      "Epoch 25/30\n",
      "\u001b[1m1309/1309\u001b[0m \u001b[32m━━━━━━━━━━━━━━━━━━━━\u001b[0m\u001b[37m\u001b[0m \u001b[1m39s\u001b[0m 30ms/step - loss: 0.0023\n",
      "Epoch 26/30\n",
      "\u001b[1m1309/1309\u001b[0m \u001b[32m━━━━━━━━━━━━━━━━━━━━\u001b[0m\u001b[37m\u001b[0m \u001b[1m38s\u001b[0m 29ms/step - loss: 0.0023\n",
      "Epoch 27/30\n",
      "\u001b[1m1309/1309\u001b[0m \u001b[32m━━━━━━━━━━━━━━━━━━━━\u001b[0m\u001b[37m\u001b[0m \u001b[1m38s\u001b[0m 29ms/step - loss: 0.0023\n",
      "Epoch 28/30\n",
      "\u001b[1m1309/1309\u001b[0m \u001b[32m━━━━━━━━━━━━━━━━━━━━\u001b[0m\u001b[37m\u001b[0m \u001b[1m38s\u001b[0m 29ms/step - loss: 0.0024\n",
      "Epoch 29/30\n",
      "\u001b[1m1309/1309\u001b[0m \u001b[32m━━━━━━━━━━━━━━━━━━━━\u001b[0m\u001b[37m\u001b[0m \u001b[1m38s\u001b[0m 29ms/step - loss: 0.0023\n",
      "Epoch 30/30\n",
      "\u001b[1m1309/1309\u001b[0m \u001b[32m━━━━━━━━━━━━━━━━━━━━\u001b[0m\u001b[37m\u001b[0m \u001b[1m38s\u001b[0m 29ms/step - loss: 0.0023\n"
     ]
    },
    {
     "data": {
      "text/plain": [
       "<keras.src.callbacks.history.History at 0x203d8e2ba10>"
      ]
     },
     "execution_count": 38,
     "metadata": {},
     "output_type": "execute_result"
    }
   ],
   "source": [
    "from keras.models import Sequential\n",
    "from keras.layers import LSTM, Dense, Dropout\n",
    "\n",
    "# Define a more complex LSTM model\n",
    "model = Sequential()\n",
    "\n",
    "# First LSTM layer with more units and returning sequences for stacking LSTMs\n",
    "model.add(LSTM(units=100, return_sequences=True, input_shape=(seq_length, 1)))\n",
    "model.add(Dropout(0.2))\n",
    "\n",
    "# Second LSTM layer with 50 units\n",
    "model.add(LSTM(units=50, return_sequences=False))\n",
    "model.add(Dropout(0.2))\n",
    "\n",
    "# Output layer\n",
    "model.add(Dense(units=1))\n",
    "\n",
    "# Compile the model\n",
    "model.compile(optimizer='adam', loss='mean_squared_error')\n",
    "\n",
    "# Train the model\n",
    "model.fit(X_train, y_train, epochs=30, batch_size=64)\n"
   ]
  },
  {
   "cell_type": "code",
   "execution_count": 39,
   "id": "9026dffb-b1d2-481a-a1b3-9e6361460dd5",
   "metadata": {},
   "outputs": [
    {
     "name": "stdout",
     "output_type": "stream",
     "text": [
      "\u001b[1m655/655\u001b[0m \u001b[32m━━━━━━━━━━━━━━━━━━━━\u001b[0m\u001b[37m\u001b[0m \u001b[1m6s\u001b[0m 8ms/step - loss: 0.0023\n",
      "Test Loss: 0.0021006676834076643\n",
      "\u001b[1m655/655\u001b[0m \u001b[32m━━━━━━━━━━━━━━━━━━━━\u001b[0m\u001b[37m\u001b[0m \u001b[1m7s\u001b[0m 9ms/step\n"
     ]
    },
    {
     "data": {
      "image/png": "[encoded data removed]",
      "text/plain": [
       "<Figure size 640x480 with 1 Axes>"
      ]
     },
     "metadata": {},
     "output_type": "display_data"
    }
   ],
   "source": [
    "# Evaluate the model on the test data\n",
    "test_loss = model.evaluate(X_test, y_test)\n",
    "print(f'Test Loss: {test_loss}')\n",
    "\n",
    "# Make predictions on the test set\n",
    "predicted_prices = model.predict(X_test)\n",
    "\n",
    "# Rescale the predicted prices back to the original scale\n",
    "predicted_prices = scaler.inverse_transform(predicted_prices)\n",
    "\n",
    "# Compare the predicted and actual prices\n",
    "import matplotlib.pyplot as plt\n",
    "\n",
    "plt.plot(lstm_data['Date'][split+seq_length:], predicted_prices, label='Predicted Price')\n",
    "plt.plot(lstm_data['Date'][split+seq_length:], scaler.inverse_transform(y_test.reshape(-1, 1)), label='Actual Price')\n",
    "plt.title('LSTM Predicted vs Actual Prices')\n",
    "plt.xlabel('Date')\n",
    "plt.ylabel('Price')\n",
    "plt.legend()\n",
    "plt.show()\n"
   ]
  },
  {
   "cell_type": "code",
   "execution_count": 40,
   "id": "3852fd83-718b-4cf3-babe-e3a817d24630",
   "metadata": {},
   "outputs": [
    {
     "name": "stdout",
     "output_type": "stream",
     "text": [
      "\u001b[1m655/655\u001b[0m \u001b[32m━━━━━━━━━━━━━━━━━━━━\u001b[0m\u001b[37m\u001b[0m \u001b[1m5s\u001b[0m 7ms/step\n",
      "Root Mean Squared Error (RMSE): 14.8434879331613\n",
      "Mean Absolute Error (MAE): 8.097002175024487\n",
      "Mean Squared Error (MSE): 220.32913402190516\n",
      "R-Squared (R²): 0.05906896665456529\n"
     ]
    }
   ],
   "source": [
    "from sklearn.metrics import mean_squared_error, mean_absolute_error, r2_score\n",
    "import numpy as np\n",
    "\n",
    "# Rescale the predicted prices and test labels back to the original scale\n",
    "predicted_prices = model.predict(X_test)\n",
    "predicted_prices = scaler.inverse_transform(predicted_prices)\n",
    "y_test_rescaled = scaler.inverse_transform(y_test.reshape(-1, 1))\n",
    "\n",
    "# Calculate RMSE\n",
    "rmse = np.sqrt(mean_squared_error(y_test_rescaled, predicted_prices))\n",
    "print(f'Root Mean Squared Error (RMSE): {rmse}')\n",
    "\n",
    "# Calculate MAE\n",
    "mae = mean_absolute_error(y_test_rescaled, predicted_prices)\n",
    "print(f'Mean Absolute Error (MAE): {mae}')\n",
    "\n",
    "# Calculate MSE\n",
    "mse = mean_squared_error(y_test_rescaled, predicted_prices)\n",
    "print(f'Mean Squared Error (MSE): {mse}')\n",
    "\n",
    "# Calculate R-Squared\n",
    "r2 = r2_score(y_test_rescaled, predicted_prices)\n",
    "print(f'R-Squared (R²): {r2}')\n"
   ]
  },
  {
   "cell_type": "code",
   "execution_count": null,
   "id": "21cfadc2-1688-4479-9402-8880c156dcfb",
   "metadata": {},
   "outputs": [],
   "source": []
  },
  {
   "cell_type": "code",
   "execution_count": null,
   "id": "e4d985c6-505c-4df2-8e73-48d2cc0b84fe",
   "metadata": {},
   "outputs": [],
   "source": []
  },
  {
   "cell_type": "code",
   "execution_count": null,
   "id": "4106771a-c684-43aa-af91-bb56db08dcbd",
   "metadata": {},
   "outputs": [],
   "source": []
  },
  {
   "cell_type": "code",
   "execution_count": null,
   "id": "b2846a36-bfb1-4d1c-94b0-342e529299aa",
   "metadata": {},
   "outputs": [],
   "source": []
  },
  {
   "cell_type": "code",
   "execution_count": null,
   "id": "ba39a620-404e-4db7-bc14-4467e4cc977d",
   "metadata": {},
   "outputs": [],
   "source": []
  }
 ],
 "metadata": {
  "kernelspec": {
   "display_name": "Python 3 (ipykernel)",
   "language": "python",
   "name": "python3"
  },
  "language_info": {
   "codemirror_mode": {
    "name": "ipython",
    "version": 3
   },
   "file_extension": ".py",
   "mimetype": "text/x-python",
   "name": "python",
   "nbconvert_exporter": "python",
   "pygments_lexer": "ipython3",
   "version": "3.11.9"
  }
 },
 "nbformat": 4,
 "nbformat_minor": 5
}
