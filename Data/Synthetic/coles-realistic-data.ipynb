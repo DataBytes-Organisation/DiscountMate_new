{
 "cells": [
  {
   "cell_type": "code",
   "execution_count": 1,
   "id": "2fe7f70b-b4c3-44fb-a22d-6b6da2393ce3",
   "metadata": {},
   "outputs": [
    {
     "name": "stdout",
     "output_type": "stream",
     "text": [
      "realistic coles dataframe created.\n"
     ]
    }
   ],
   "source": [
    "import pandas as pd\n",
    "import random\n",
    "from datetime import datetime, timedelta\n",
    "\n",
    "# Category to brands mapping\n",
    "category_brands = {\n",
    "    \"Beverages\": [\"Coca-Cola\", \"Pepsi\", \"Schweppes\"],\n",
    "    \"Bakery\": [\"Tip Top\", \"Wonder White\", \"Helga's\"],\n",
    "    \"Snacks\": [\"Smith's\", \"Doritos\", \"Pringles\"],\n",
    "    \"Dairy\": [\"Paul's\", \"Devondale\", \"Bulla\"],\n",
    "    \"Frozen\": [\"Birds Eye\", \"McCain\", \"Ingham\"],\n",
    "    \"Produce\": [\"Fresh Farms\", \"Aussie Greens\"],\n",
    "    \"Meat\": [\"Coles Brand\", \"Woolworths Brand\", \"MeatMaster\"],\n",
    "    \"Pantry\": [\"Heinz\", \"Uncle Tobys\", \"Leggo's\"]\n",
    "}\n",
    "\n",
    "payment_types = [\"Credit Card\", \"Cash\", \"EFTPOS\", \"Gift Card\"]\n",
    "subcategories = [\"Soft Drinks\", \"Bread\", \"Chips\", \"Milk\", \"Ice Cream\", \"Veggies\", \"Chicken\", \"Sauces\"]\n",
    "\n",
    "# realistic transaction IDs\n",
    "def generate_transaction_id(store_code, store_number, register, date, receipt_no):\n",
    "    return f\"{store_code}-{store_number}-{register}-{date.strftime('%Y%m%d')}-{str(receipt_no).zfill(4)}\"\n",
    "\n",
    "def generate_data(store_name=\"Coles\", store_code=\"COL\", store_number=\"601\", register=\"117\", num_rows=100):\n",
    "    data = []\n",
    "    start_date = datetime(2025, 3, 1)\n",
    "\n",
    "    for i in range(num_rows):\n",
    "        txn_date = start_date + timedelta(days=random.randint(0, 30))\n",
    "        receipt_no = 5000 + i  \n",
    "        txn_id = generate_transaction_id(store_code, store_number, register, txn_date, receipt_no)\n",
    "\n",
    "        category = random.choice(list(category_brands.keys()))\n",
    "        brand = random.choice(category_brands[category])\n",
    "        \n",
    "        unit_price = round(random.uniform(2.0, 20.0), 2)\n",
    "        discount = round(random.uniform(0.0, unit_price * 0.3), 2)\n",
    "        best_price = round(unit_price - discount, 2)\n",
    "        \n",
    "        quantity = random.randint(1, 5)\n",
    "        total = round(best_price * quantity, 2)\n",
    "        \n",
    "        item_id = f\"ITEM{random.randint(1000, 9999)}\"\n",
    "        customer_id = f\"CUST{random.randint(1000, 9999)}\"\n",
    "        payment_type = random.choices(payment_types, weights=[0.5, 0.2, 0.25, 0.05])[0]\n",
    "        sub_category = random.choice(subcategories)\n",
    "\n",
    "        data.append([\n",
    "            unit_price, best_price, txn_date.strftime(\"%Y-%m-%d\"), txn_id, quantity,\n",
    "            store_name, total, sub_category, discount, item_id,\n",
    "            category, brand, customer_id, payment_type\n",
    "        ])\n",
    "    \n",
    "    columns = [\n",
    "        \"Unit price\", \"Best price\", \"Date\", \"Transaction ID\", \"Quantity\",\n",
    "        \"Store name\", \"Total\", \"Sub-category\", \"Discount\", \"Item ID\",\n",
    "        \"Category\", \"Brand\", \"Customer ID\", \"Payment type\"\n",
    "    ]\n",
    "    \n",
    "    df = pd.DataFrame(data, columns=columns)\n",
    "    df.to_csv(\"coles_realistic_data.csv\", index=False)\n",
    "    print(\"realistic coles dataframe created.\")\n",
    "\n",
    "generate_data()\n"
   ]
  },
  {
   "cell_type": "code",
   "execution_count": 2,
   "id": "994ba161-8734-4ef9-bed2-5f70da30d184",
   "metadata": {},
   "outputs": [
    {
     "name": "stdout",
     "output_type": "stream",
     "text": [
      "csv file updated successfully.\n"
     ]
    }
   ],
   "source": [
    "# Loading the existing dataset\n",
    "df = pd.read_csv(\"/Users/nikaamini/Desktop/T1-25/SIT374/Synthetic_Data/coles_realistic_Sample_data.csv\")\n",
    "\n",
    "# Sample location list \n",
    "locations = [\"Melbourne\", \"Sydney\", \"Brisbane\", \"Adelaide\", \"Perth\", \"Hobart\", \"Canberra\", \"Darwin\"]\n",
    "\n",
    "# Sample gender list\n",
    "genders = [\"Male\", \"Female\"]\n",
    "\n",
    "# Adding new columns\n",
    "df[\"Location\"] = [random.choice(locations) for _ in range(len(df))]\n",
    "df[\"Gender\"] = [random.choice(genders) for _ in range(len(df))]\n",
    "\n",
    "df.to_csv(\"coles_realistic_Sample_data.csv\", index=False)\n",
    "\n",
    "print(\"csv file updated successfully.\")"
   ]
  }
 ],
 "metadata": {
  "kernelspec": {
   "display_name": "Python 3 (ipykernel)",
   "language": "python",
   "name": "python3"
  },
  "language_info": {
   "codemirror_mode": {
    "name": "ipython",
    "version": 3
   },
   "file_extension": ".py",
   "mimetype": "text/x-python",
   "name": "python",
   "nbconvert_exporter": "python",
   "pygments_lexer": "ipython3",
   "version": "3.11.8"
  }
 },
 "nbformat": 4,
 "nbformat_minor": 5
}
